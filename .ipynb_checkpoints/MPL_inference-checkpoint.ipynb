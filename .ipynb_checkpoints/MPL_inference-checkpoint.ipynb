{
 "cells": [
  {
   "cell_type": "code",
   "execution_count": 1,
   "metadata": {},
   "outputs": [],
   "source": [
    "import sys, os\n",
    "#from copy import deepcopy\n",
    "from importlib import reload\n",
    "\n",
    "import numpy as np\n",
    "import itertools\n",
    "from itertools import combinations\n",
    "from fractions import Fraction\n",
    "\n",
    "import scipy as sp\n",
    "import scipy.stats as st\n",
    "from scipy import interpolate \n",
    "import copy\n",
    "\n",
    "import pandas as pd\n",
    "\n",
    "import matplotlib\n",
    "import matplotlib.cm as cm\n",
    "import matplotlib.pyplot as plt\n",
    "import matplotlib.gridspec as gridspec\n",
    "import matplotlib.image as mpimg\n",
    "\n",
    "import seaborn as sns\n",
    "\n",
    "import tqdm\n",
    "import time\n",
    "import csv\n",
    "import math\n",
    "\n",
    "import MPL\n",
    "import MPL_virus\n",
    "\n",
    "\n",
    "pd.set_option('display.max_rows', 200)\n",
    "pd.set_option('display.max_columns', 200)\n",
    "\n",
    "AA  = sorted(['A', 'R', 'N', 'D', 'C', 'E', 'Q', 'G', 'H', 'I','L', 'K', 'M', 'F', 'P', 'S', 'T', 'W', 'Y', 'V', '*'])"
   ]
  },
  {
   "cell_type": "markdown",
   "metadata": {},
   "source": [
    "virus glue"
   ]
  },
  {
   "cell_type": "code",
   "execution_count": 2,
   "metadata": {},
   "outputs": [],
   "source": [
    "def virus_pipeline(TARGET_PROTEIN, REPLICATES, SITE_START, SITE_END, INPUT_DIR, OUTPUT_DIR, EPISTASIS, REGULARIZATION_PERCENT):\n",
    "\n",
    "    estimate_selection, regularization_list = MPL_virus_inference(TARGET_PROTEIN, DNACODON, REPLICATES, MPL_DIR, MPL_RAW_DIR)\n",
    "#     REGULARIZATION_LIST = [np.power(10, float(i)) for i in range(int(np.log10(1/MAX_READ)-1), 4)]\n",
    "    correlation_list = optimize_regularization_virus(estimate_selection, REPLICATES, regularization_list)\n",
    "    \n",
    "    plot_reg_corr(regularization_list, correlation_list, TARGET_PROTEIN)\n",
    "\n",
    "    REGULARIZATION_SELECTED = find_best_regularization(regularization_list, correlation_list, REGULARIZATION_PERCENT)\n",
    "\n",
    "\n",
    "    FINAL_SELECTION = output_final_selection_virus(REGULARIZATION_SELECTED, SITE_END, SITE_START, estimate_selection, REPLICATES)\n",
    "    \n",
    "    if os.path.exists(OUTPUT_DIR):\n",
    "        FINAL_SELECTION.to_csv(OUTPUT_DIR+TARGET_PROTEIN+'_'+'%d.csv.gz' %int(np.log10(REGULARIZATION_SELECTED)), index = False, compression = 'gzip')\n",
    "    else:\n",
    "        os.makedirs(OUTPUT_DIR)\n",
    "        FINAL_SELECTION.to_csv(OUTPUT_DIR+TARGET_PROTEIN+'_'+'%d.csv.gz' %int(np.log10(REGULARIZATION_SELECTED)), index = False, compression = 'gzip')\n",
    "\n",
    "def optimize_regularization_virus(estimate_selection, REPLICATES, REGULARIZATION_LIST):\n",
    "    correlation_list = []\n",
    "    for regular in REGULARIZATION_LIST:\n",
    "        temp_sele=[]\n",
    "        temp_corr = []\n",
    "        for replicate in REPLICATES:\n",
    "            temp_sele.append(estimate_selection[str(replicate)][regular])\n",
    "        for pairs in list(combinations(temp_sele, 2)):\n",
    "            temp_corr.append(st.pearsonr(pairs[0], pairs[1])[0])\n",
    "        correlation_list.append(np.mean(temp_corr))\n",
    "    return correlation_list\n",
    "\n",
    "\n",
    "def cov_inverse(cov, L, q, regular):\n",
    "    cov_temp = cov.copy()\n",
    "    for i in range(L):\n",
    "#         print(\"Computing covariance matrix...%.1f%%/100%% completed\"%(float((i+1)/L)*100),end='\\r')\n",
    "        for a in range(q):\n",
    "            cov_temp[(q * i) + a, (q * i) + a] += regular  # diagonal regularization\n",
    "    \n",
    "    for i in range(L):\n",
    "        cov_block = np.zeros((q, q))\n",
    "        for a in range(q):\n",
    "            for b in range(q):\n",
    "                cov_block[a, b] = cov_temp[(q * i) + a, (q * i) + b]\n",
    "\n",
    "        cov_block = np.linalg.inv(cov_block)\n",
    "\n",
    "        for a in range(q):\n",
    "            for b in range(q):\n",
    "                cov_temp[(q * i) + a, (q * i) + b] = cov_block[a, b]\n",
    "\n",
    "    return cov_temp\n",
    "\n",
    "\n",
    "\n",
    "def output_final_selection_virus(REGULARIZATION_SELECTED, SITE_END, SITE_START, estimate_selection, REPLICATES):\n",
    "    \n",
    "    site_list = []\n",
    "    for site in range(SITE_END-SITE_START+1):\n",
    "        site_list+=[site]*21\n",
    "    AA_list = AA*(SITE_END-SITE_START+1)\n",
    "    rep_list = []\n",
    "    for replicate in REPLICATES:\n",
    "        rep_list.append('rep_'+str(replicate))\n",
    "    df_selection = pd.DataFrame(columns=['site', 'amino_acid']+rep_list)\n",
    "    df_selection['site'] = site_list\n",
    "    df_selection['amino_acid'] = AA_list\n",
    "    for replicate in REPLICATES:\n",
    "        df_selection['rep_'+str(replicate)] = estimate_selection[str(replicate)][REGULARIZATION_SELECTED]\n",
    "    return df_selection   \n",
    "        \n",
    "def MPL_virus_inference(TARGET_PROTEIN, DNACODON, REPLICATES, MPL_DIR, MPL_RAW_DIR):\n",
    "    # DATA_DIR = 'data_' + TARGET_PROTEIN\n",
    "    print('------ Calculating single replicate selection coefficients for %s ------' %TARGET_PROTEIN)\n",
    "    print(\"\\nCalculating error probability from %s...\\n\" %DNACODON)\n",
    "\n",
    "    err = MPL_virus.err_correct(INPUT_DIR, DNACODON)\n",
    "    estimate_selection = {}\n",
    "    \n",
    "    minimum = sys.float_info.max\n",
    "\n",
    "    for run_name in REPLICATES:\n",
    "        run_name = str(run_name)\n",
    "        estimate_selection[run_name]={}\n",
    "        func_para = {\n",
    "            'MPL_DIR':      MPL_DIR,                                             # MPL directory\n",
    "            'DMS_DIR':      INPUT_DIR,                                             # DMS directory\n",
    "            'PRE_FILE':     'mutDNA-' + run_name + '_codoncounts.csv',           # Pre-count data file\n",
    "            'POST_FILE':    'mutvirus-' + run_name + '_codoncounts.csv',         # Post-count data filr\n",
    "            'MPL_RAW_DIR':  MPL_RAW_DIR,                                         # MPL raw selection coefficients directory\n",
    "            'run_name':     run_name,                                            # Replicate serial number\n",
    "            'homolog':      TARGET_PROTEIN,                                      # Homolog name\n",
    "            'err':          err                                                  # Error probability for this homolog\n",
    "        }\n",
    "        \n",
    "        FREQUENCY_DIFF, COVARIANCE_MATRIX, L, q, max_read = MPL_virus.MPL_elements(**func_para)\n",
    "        if minimum > 1e50:\n",
    "            minimum = max_read\n",
    "            regularization_list = [np.power(10, float(i)) for i in range(int(np.log10(1/minimum)-1), 4)]\n",
    "        for REGULAR in regularization_list:\n",
    "            INVERSE_COV = cov_inverse(COVARIANCE_MATRIX, L, q, REGULAR)\n",
    "            estimate_selection[run_name][REGULAR] = np.dot(INVERSE_COV, FREQUENCY_DIFF)\n",
    "    #         print(estimate_selection[run_name][REGULAR])\n",
    "    return estimate_selection, regularization_list\n",
    "\n",
    "\n"
   ]
  },
  {
   "cell_type": "markdown",
   "metadata": {},
   "source": [
    "human glue"
   ]
  },
  {
   "cell_type": "code",
   "execution_count": 3,
   "metadata": {},
   "outputs": [],
   "source": [
    "def human_pipeline(TARGET_PROTEIN, REPLICATES, SITE_START, SITE_END, INPUT_DIR, OUTPUT_DIR, EPISTASIS, REGULARIZATION_PERCENT):\n",
    "    INPUT_FILE_PREFIX, FLAG_LIST, SITES = MPL.initialization(SITE_START, SITE_END, INPUT_DIR, OUTPUT_DIR, EPISTASIS)\n",
    "\n",
    "    FREQUENCY_DIFF, COVARIANCE_MATRIX, MAX_READ = MPL_elements(FLAG_LIST, INPUT_DIR, REPLICATES, INPUT_FILE_PREFIX, SITES)\n",
    "\n",
    "#     print(COVARIANCE_MATRIX['amino_acid'][1])\n",
    "    REGULARIZATION_LIST = [np.power(10, float(i)) for i in range(int(np.log10(1/MAX_READ)-1), 4)]\n",
    "    CORRELATION_LIST = optimize_regularization(REGULARIZATION_LIST, SITES, COVARIANCE_MATRIX, FREQUENCY_DIFF, REPLICATES)\n",
    "\n",
    "    plot_reg_corr(REGULARIZATION_LIST, CORRELATION_LIST, TARGET_PROTEIN)\n",
    "\n",
    "    REGULARIZATION_SELECTED = find_best_regularization(REGULARIZATION_LIST, CORRELATION_LIST, REGULARIZATION_PERCENT)\n",
    "\n",
    "    FINAL_SELECTION = output_final_selection_human(REGULARIZATION_SELECTED, SITES, COVARIANCE_MATRIX, FREQUENCY_DIFF, REPLICATES)\n",
    "    \n",
    "    if os.path.exists(OUTPUT_DIR):\n",
    "        FINAL_SELECTION.to_csv(OUTPUT_DIR+TARGET_PROTEIN+'_'+'%d.csv.gz' %int(np.log10(REGULARIZATION_SELECTED)), index = False, compression = 'gzip')\n",
    "    else:\n",
    "        os.makedirs(OUTPUT_DIR)\n",
    "        FINAL_SELECTION.to_csv(OUTPUT_DIR+TARGET_PROTEIN+'_'+'%d.csv.gz' %int(np.log10(REGULARIZATION_SELECTED)), index = False, compression = 'gzip')\n",
    "\n",
    "def MPL_elements(flag_list, Input_dir, replicates, Input_file_prefix, sites):\n",
    "    df_counts_dict = {}\n",
    "    max_read_final = 0\n",
    "\n",
    "    for flag in flag_list:\n",
    "        print('Reading %s allele counts files from:' %flag)\n",
    "        df_counts_dict[flag] = MPL.get_counts(Input_dir, replicates, Input_file_prefix, flag)\n",
    "\n",
    "    df_frequency_dict = {}\n",
    "\n",
    "    for flag in flag_list:\n",
    "        df_frequency_dict[flag], max_read = MPL.counts_to_frequency(df_counts_dict, replicates, flag, sites)\n",
    "        max_read_final = max(max_read_final, max_read)\n",
    "\n",
    "    df_frequency_change_dict = {}\n",
    "\n",
    "    for flag in flag_list:\n",
    "        df_frequency_change_dict[flag] = MPL.frequency_change(df_frequency_dict, flag)\n",
    "\n",
    "    cov_matx = MPL.covariance_matrix(df_frequency_dict, flag_list, sites)\n",
    "    \n",
    "    return df_frequency_change_dict, cov_matx, max_read_final\n",
    "\n",
    "def optimize_regularization(regularization_list, sites, cov_matx, df_frequency_change_dict, replicates):\n",
    "    correlation_list = []\n",
    "    \n",
    "    for gamma in regularization_list:\n",
    "#         print('regularization = %.1E' %gamma)\n",
    "        copy_cov_matx = copy.deepcopy(cov_matx['amino_acid'])\n",
    "        q = len(AA)\n",
    "        L = len(sites)\n",
    "        estimate_selection = {}\n",
    "        \n",
    "        for rep in list(copy_cov_matx.keys()):\n",
    "            \n",
    "            invert_matrix = np.zeros((q * L, q * L))\n",
    "            for k in range(q * L):\n",
    "                invert_matrix[k,k] += gamma\n",
    "#             print([copy_cov_matx[rep][0][k,k] for k in range(q*L)])\n",
    "            for i in range(len(list(copy_cov_matx[rep].keys()))-1):\n",
    "                time_i = list(copy_cov_matx[rep].keys())[i]\n",
    "#                 print([copy_cov_matx[rep][time_i][k,k] for k in range(q*L)])\n",
    "                time_i_post = list(copy_cov_matx[rep].keys())[i+1]\n",
    "                time_interval = time_i_post- time_i\n",
    "#                 print(time_interval)\n",
    "                invert_matrix += time_interval * copy_cov_matx[rep][time_i]\n",
    "#             print([invert_matrix[k,k] for k in range(q*L)])\n",
    "            invert_matrix = np.linalg.inv(invert_matrix)\n",
    "            estimate_selection[rep] = np.inner(invert_matrix, df_frequency_change_dict['single']['amino_acid'][rep])\n",
    "#             print(gamma, rep,estimate_selection[rep][:20])\n",
    "        df_column = ['site', 'amino_acid'] + ['rep_' + str(k) for k in replicates]\n",
    "        df_selection_coefficients = pd.DataFrame(columns = df_column)\n",
    "        column_site = []\n",
    "        column_aa = []\n",
    "        column_sc = []\n",
    "        for rep in replicates:\n",
    "            column_sc.append([])\n",
    "        for site_name in sites:\n",
    "            for aa in AA:\n",
    "                column_site.append(site_name+1)\n",
    "                column_aa.append(aa)\n",
    "        for rep in replicates:\n",
    "            column_sc[replicates.index(rep)].append(estimate_selection[rep])\n",
    "\n",
    "        df_selection_coefficients['site'] = column_site\n",
    "        df_selection_coefficients['amino_acid'] = column_aa\n",
    "        #df_selection_coefficients['rep_1'] = column_sc[0]\n",
    "        for rep in replicates:\n",
    "            df_selection_coefficients['rep_' + str(rep)] = column_sc[replicates.index(rep)][0]\n",
    "\n",
    "#         print((df_selection_coefficients.iloc[:,2:].corr().sum().sum()-len(replicates))/2)\n",
    "#         df_selection_coefficients = df_selection_coefficients[(df_selection_coefficients != 0).all(1)]\n",
    "        correlation_list.append((df_selection_coefficients.iloc[:,2:].corr().sum().sum()-len(replicates))/(len(replicates)*(len(replicates)-1)))\n",
    "    return correlation_list\n",
    "\n",
    "def plot_reg_corr(regularization_list, correlation_list, protein_name):\n",
    "    plt.plot(regularization_list, correlation_list)\n",
    "    plt.xscale('log')\n",
    "    plt.xlabel('Regularization')\n",
    "    plt.ylabel('Pearson Correlation')\n",
    "    plt.title(protein_name+' regularization plot')\n",
    "    plt.show()\n",
    "\n",
    "def find_best_regularization(reg_list, corr_list, percent):\n",
    "    threshold = (max(corr_list)-min(corr_list))/percent\n",
    "    max_index = corr_list.index(max(corr_list))\n",
    "    if abs(corr_list[max_index]-corr_list[0])<0.01:\n",
    "        optimized_regularization = reg_list[0]\n",
    "#         print('Optimized regularization term = %.1e' %optimized_regularization)\n",
    "    else:\n",
    "        for i in range(max_index,0,-1):\n",
    "            if abs(corr_list[i]-corr_list[i-1])>=threshold*corr_list[i]:\n",
    "                optimized_regularization = reg_list[i]\n",
    "                break  \n",
    "    print('Optimized regularization term = %.1e' %optimized_regularization)\n",
    "    return optimized_regularization\n",
    "\n",
    "def output_final_selection_human(gamma, sites, cov_matx, df_frequency_change_dict, replicates):\n",
    "    copy_cov_matx = copy.deepcopy(cov_matx['amino_acid'])\n",
    "    q = len(AA)\n",
    "    L = len(sites)\n",
    "    estimate_selection = {}\n",
    "\n",
    "    for rep in list(copy_cov_matx.keys()):\n",
    "        invert_matrix = np.zeros((q * L, q * L))\n",
    "        for k in range(q * L):\n",
    "            invert_matrix[k,k] += gamma\n",
    "        for i in range(len(list(copy_cov_matx[rep].keys())) - 1):\n",
    "            time_i = list(copy_cov_matx[rep].keys())[i]\n",
    "#             print([copy_cov_matx[rep][generations[time_i]][k,k] for k in range(q*L)])\n",
    "            time_i_post = list(copy_cov_matx[rep].keys())[i+1]\n",
    "            time_interval = (time_i_post- time_i)\n",
    "            invert_matrix += time_interval * copy_cov_matx[rep][time_i]\n",
    "#         for i in range(len(list(copy_cov_matx[rep].keys())) - 1):\n",
    "#             for k in range(q * L):\n",
    "#                 copy_cov_matx[rep][list(copy_cov_matx[rep].keys())[i]][k, k] += gamma\n",
    "#             invert_matrix += (list(copy_cov_matx[rep].keys())[i+1]- list(copy_cov_matx[rep].keys())[i]) * copy_cov_matx[rep][list(copy_cov_matx[rep].keys())[i]]\n",
    "        invert_matrix = np.linalg.inv(invert_matrix)\n",
    "        estimate_selection[rep] = np.inner(invert_matrix, df_frequency_change_dict['single']['amino_acid'][rep])\n",
    "\n",
    "    df_column = ['site', 'amino_acid'] + ['rep_' + str(k) for k in replicates]\n",
    "    df_selection_coefficients = pd.DataFrame(columns = df_column)\n",
    "    column_site = []\n",
    "    column_aa = []\n",
    "    column_sc = []\n",
    "    for rep in replicates:\n",
    "        column_sc.append([])\n",
    "    for site_name in sites:\n",
    "        for aa in AA:\n",
    "            column_site.append(site_name+1)\n",
    "            column_aa.append(aa)\n",
    "    for rep in replicates:\n",
    "        column_sc[replicates.index(rep)].append(estimate_selection[rep])\n",
    "\n",
    "    df_selection_coefficients['site'] = column_site\n",
    "    df_selection_coefficients['amino_acid'] = column_aa\n",
    "    #df_selection_coefficients['rep_1'] = column_sc[0]\n",
    "    for rep in replicates:\n",
    "        df_selection_coefficients['rep_' + str(rep)] = column_sc[replicates.index(rep)][0]\n",
    "\n",
    "    return df_selection_coefficients"
   ]
  },
  {
   "cell_type": "markdown",
   "metadata": {},
   "source": [
    "# YAP1"
   ]
  },
  {
   "cell_type": "code",
   "execution_count": null,
   "metadata": {
    "scrolled": false
   },
   "outputs": [],
   "source": [
    "%%time\n",
    "# Arguments input\n",
    "TARGET_PROTEIN = 'YAP1'\n",
    "REPLICATES = [1, 2] \n",
    "SITE_START, SITE_END = 1, 34\n",
    "INPUT_DIR = './data/human_protein/YAP1/allele_counts/'                            # Allele counts file input directory\n",
    "OUTPUT_DIR = './outputs/human_protein/YAP1/selection_coefficients/test/'    # Estimate selection coefficients file output directory\n",
    "EPISTASIS = False\n",
    "REGULARIZATION_PERCENT = 10\n",
    "\n",
    "human_pipeline(TARGET_PROTEIN, REPLICATES, SITE_START, SITE_END, INPUT_DIR, OUTPUT_DIR, EPISTASIS, REGULARIZATION_PERCENT)\n",
    "\n",
    "\n",
    "# INPUT_FILE_PREFIX, FLAG_LIST, SITES = MPL.initialization(SITE_START, SITE_END, INPUT_DIR, OUTPUT_DIR, EPISTASIS)\n",
    "\n",
    "# FREQUENCY_DIFF, COVARIANCE_MATRIX, MAX_READ = MPL_elements(FLAG_LIST, INPUT_DIR, REPLICATES, INPUT_FILE_PREFIX, SITES)\n",
    "\n",
    "\n",
    "# REGULARIZATION_LIST = [np.power(10, float(i)) for i in range(int(np.log10(1/MAX_READ)-1), 4)]\n",
    "# CORRELATION_LIST = optimize_regularization(REGULARIZATION_LIST, SITES, COVARIANCE_MATRIX, FREQUENCY_DIFF, REPLICATES)\n",
    "\n",
    "# plot_reg_corr(REGULARIZATION_LIST, CORRELATION_LIST, TARGET_PROTEIN)\n",
    "\n",
    "# REGULARIZATION_SELECTED = find_best_regularization(REGULARIZATION_LIST, CORRELATION_LIST, REGULARIZATION_PERCENT)\n",
    "\n",
    "# FINAL_SELECTION = output_final_selection_human(REGULARIZATION_SELECTED, SITES, COVARIANCE_MATRIX, FREQUENCY_DIFF, REPLICATES)\n",
    "\n",
    "# FINAL_SELECTION.to_csv(TARGET_PROTEIN+'_'+'%d.csv.gz' %int(np.log10(REGULARIZATION_SELECTED)), index = False, compression = 'gzip')"
   ]
  },
  {
   "cell_type": "markdown",
   "metadata": {},
   "source": [
    "# DRB1"
   ]
  },
  {
   "cell_type": "code",
   "execution_count": 5,
   "metadata": {},
   "outputs": [
    {
     "name": "stdout",
     "output_type": "stream",
     "text": [
      "Reading single allele counts files from:\n",
      "  ./data/human_protein/DRB1/allele_counts/single_allele_counts_rep1.csv\n"
     ]
    },
    {
     "ename": "FileNotFoundError",
     "evalue": "[Errno 2] No such file or directory: './data/human_protein/DRB1/allele_counts/single_allele_counts_rep1.csv'",
     "output_type": "error",
     "traceback": [
      "\u001b[0;31m---------------------------------------------------------------------------\u001b[0m",
      "\u001b[0;31mFileNotFoundError\u001b[0m                         Traceback (most recent call last)",
      "\u001b[0;32m<timed exec>\u001b[0m in \u001b[0;36m<module>\u001b[0;34m\u001b[0m\n",
      "\u001b[0;32m<ipython-input-3-c21173207858>\u001b[0m in \u001b[0;36mhuman_pipeline\u001b[0;34m(TARGET_PROTEIN, REPLICATES, SITE_START, SITE_END, INPUT_DIR, OUTPUT_DIR, EPISTASIS, REGULARIZATION_PERCENT)\u001b[0m\n\u001b[1;32m      2\u001b[0m     \u001b[0mINPUT_FILE_PREFIX\u001b[0m\u001b[0;34m,\u001b[0m \u001b[0mFLAG_LIST\u001b[0m\u001b[0;34m,\u001b[0m \u001b[0mSITES\u001b[0m \u001b[0;34m=\u001b[0m \u001b[0mMPL\u001b[0m\u001b[0;34m.\u001b[0m\u001b[0minitialization\u001b[0m\u001b[0;34m(\u001b[0m\u001b[0mSITE_START\u001b[0m\u001b[0;34m,\u001b[0m \u001b[0mSITE_END\u001b[0m\u001b[0;34m,\u001b[0m \u001b[0mINPUT_DIR\u001b[0m\u001b[0;34m,\u001b[0m \u001b[0mOUTPUT_DIR\u001b[0m\u001b[0;34m,\u001b[0m \u001b[0mEPISTASIS\u001b[0m\u001b[0;34m)\u001b[0m\u001b[0;34m\u001b[0m\u001b[0;34m\u001b[0m\u001b[0m\n\u001b[1;32m      3\u001b[0m \u001b[0;34m\u001b[0m\u001b[0m\n\u001b[0;32m----> 4\u001b[0;31m     \u001b[0mFREQUENCY_DIFF\u001b[0m\u001b[0;34m,\u001b[0m \u001b[0mCOVARIANCE_MATRIX\u001b[0m\u001b[0;34m,\u001b[0m \u001b[0mMAX_READ\u001b[0m \u001b[0;34m=\u001b[0m \u001b[0mMPL_elements\u001b[0m\u001b[0;34m(\u001b[0m\u001b[0mFLAG_LIST\u001b[0m\u001b[0;34m,\u001b[0m \u001b[0mINPUT_DIR\u001b[0m\u001b[0;34m,\u001b[0m \u001b[0mREPLICATES\u001b[0m\u001b[0;34m,\u001b[0m \u001b[0mINPUT_FILE_PREFIX\u001b[0m\u001b[0;34m,\u001b[0m \u001b[0mSITES\u001b[0m\u001b[0;34m)\u001b[0m\u001b[0;34m\u001b[0m\u001b[0;34m\u001b[0m\u001b[0m\n\u001b[0m\u001b[1;32m      5\u001b[0m \u001b[0;34m\u001b[0m\u001b[0m\n\u001b[1;32m      6\u001b[0m \u001b[0;31m#     print(COVARIANCE_MATRIX['amino_acid'][1])\u001b[0m\u001b[0;34m\u001b[0m\u001b[0;34m\u001b[0m\u001b[0;34m\u001b[0m\u001b[0m\n",
      "\u001b[0;32m<ipython-input-3-c21173207858>\u001b[0m in \u001b[0;36mMPL_elements\u001b[0;34m(flag_list, Input_dir, replicates, Input_file_prefix, sites)\u001b[0m\n\u001b[1;32m     26\u001b[0m     \u001b[0;32mfor\u001b[0m \u001b[0mflag\u001b[0m \u001b[0;32min\u001b[0m \u001b[0mflag_list\u001b[0m\u001b[0;34m:\u001b[0m\u001b[0;34m\u001b[0m\u001b[0;34m\u001b[0m\u001b[0m\n\u001b[1;32m     27\u001b[0m         \u001b[0mprint\u001b[0m\u001b[0;34m(\u001b[0m\u001b[0;34m'Reading %s allele counts files from:'\u001b[0m \u001b[0;34m%\u001b[0m\u001b[0mflag\u001b[0m\u001b[0;34m)\u001b[0m\u001b[0;34m\u001b[0m\u001b[0;34m\u001b[0m\u001b[0m\n\u001b[0;32m---> 28\u001b[0;31m         \u001b[0mdf_counts_dict\u001b[0m\u001b[0;34m[\u001b[0m\u001b[0mflag\u001b[0m\u001b[0;34m]\u001b[0m \u001b[0;34m=\u001b[0m \u001b[0mMPL\u001b[0m\u001b[0;34m.\u001b[0m\u001b[0mget_counts\u001b[0m\u001b[0;34m(\u001b[0m\u001b[0mInput_dir\u001b[0m\u001b[0;34m,\u001b[0m \u001b[0mreplicates\u001b[0m\u001b[0;34m,\u001b[0m \u001b[0mInput_file_prefix\u001b[0m\u001b[0;34m,\u001b[0m \u001b[0mflag\u001b[0m\u001b[0;34m)\u001b[0m\u001b[0;34m\u001b[0m\u001b[0;34m\u001b[0m\u001b[0m\n\u001b[0m\u001b[1;32m     29\u001b[0m \u001b[0;34m\u001b[0m\u001b[0m\n\u001b[1;32m     30\u001b[0m     \u001b[0mdf_frequency_dict\u001b[0m \u001b[0;34m=\u001b[0m \u001b[0;34m{\u001b[0m\u001b[0;34m}\u001b[0m\u001b[0;34m\u001b[0m\u001b[0;34m\u001b[0m\u001b[0m\n",
      "\u001b[0;32m~/Downloads/paper-DMS-inference/MPL.py\u001b[0m in \u001b[0;36mget_counts\u001b[0;34m(Input_dir, replicates, Input_file_prefix, flag)\u001b[0m\n\u001b[1;32m    128\u001b[0m             \u001b[0mInput_file\u001b[0m \u001b[0;34m=\u001b[0m \u001b[0mInput_dir\u001b[0m \u001b[0;34m+\u001b[0m \u001b[0mInput_file_prefix\u001b[0m\u001b[0;34m[\u001b[0m\u001b[0mflag\u001b[0m\u001b[0;34m]\u001b[0m \u001b[0;34m+\u001b[0m \u001b[0mstr\u001b[0m\u001b[0;34m(\u001b[0m\u001b[0mreplicate\u001b[0m\u001b[0;34m)\u001b[0m \u001b[0;34m+\u001b[0m \u001b[0;34m'.csv'\u001b[0m\u001b[0;34m\u001b[0m\u001b[0;34m\u001b[0m\u001b[0m\n\u001b[1;32m    129\u001b[0m             \u001b[0mprint\u001b[0m\u001b[0;34m(\u001b[0m\u001b[0;34m' '\u001b[0m\u001b[0;34m,\u001b[0m \u001b[0mInput_file\u001b[0m\u001b[0;34m)\u001b[0m\u001b[0;34m\u001b[0m\u001b[0;34m\u001b[0m\u001b[0m\n\u001b[0;32m--> 130\u001b[0;31m             \u001b[0mtable\u001b[0m \u001b[0;34m=\u001b[0m \u001b[0mpd\u001b[0m\u001b[0;34m.\u001b[0m\u001b[0mread_csv\u001b[0m\u001b[0;34m(\u001b[0m\u001b[0mInput_file\u001b[0m\u001b[0;34m)\u001b[0m\u001b[0;34m\u001b[0m\u001b[0;34m\u001b[0m\u001b[0m\n\u001b[0m\u001b[1;32m    131\u001b[0m             \u001b[0moriginal_rows\u001b[0m \u001b[0;34m=\u001b[0m \u001b[0mtable\u001b[0m\u001b[0;34m.\u001b[0m\u001b[0mshape\u001b[0m\u001b[0;34m[\u001b[0m\u001b[0;36m0\u001b[0m\u001b[0;34m]\u001b[0m\u001b[0;34m\u001b[0m\u001b[0;34m\u001b[0m\u001b[0m\n\u001b[1;32m    132\u001b[0m             \u001b[0mindexNames\u001b[0m \u001b[0;34m=\u001b[0m \u001b[0mtable\u001b[0m\u001b[0;34m[\u001b[0m\u001b[0mtable\u001b[0m\u001b[0;34m[\u001b[0m\u001b[0;34m'counts'\u001b[0m\u001b[0;34m]\u001b[0m \u001b[0;34m<=\u001b[0m \u001b[0;36m0\u001b[0m\u001b[0;34m]\u001b[0m\u001b[0;34m.\u001b[0m\u001b[0mindex\u001b[0m\u001b[0;34m\u001b[0m\u001b[0;34m\u001b[0m\u001b[0m\n",
      "\u001b[0;32m/usr/local/lib/python3.7/site-packages/pandas/util/_decorators.py\u001b[0m in \u001b[0;36mwrapper\u001b[0;34m(*args, **kwargs)\u001b[0m\n\u001b[1;32m    309\u001b[0m                     \u001b[0mstacklevel\u001b[0m\u001b[0;34m=\u001b[0m\u001b[0mstacklevel\u001b[0m\u001b[0;34m,\u001b[0m\u001b[0;34m\u001b[0m\u001b[0;34m\u001b[0m\u001b[0m\n\u001b[1;32m    310\u001b[0m                 )\n\u001b[0;32m--> 311\u001b[0;31m             \u001b[0;32mreturn\u001b[0m \u001b[0mfunc\u001b[0m\u001b[0;34m(\u001b[0m\u001b[0;34m*\u001b[0m\u001b[0margs\u001b[0m\u001b[0;34m,\u001b[0m \u001b[0;34m**\u001b[0m\u001b[0mkwargs\u001b[0m\u001b[0;34m)\u001b[0m\u001b[0;34m\u001b[0m\u001b[0;34m\u001b[0m\u001b[0m\n\u001b[0m\u001b[1;32m    312\u001b[0m \u001b[0;34m\u001b[0m\u001b[0m\n\u001b[1;32m    313\u001b[0m         \u001b[0;32mreturn\u001b[0m \u001b[0mwrapper\u001b[0m\u001b[0;34m\u001b[0m\u001b[0;34m\u001b[0m\u001b[0m\n",
      "\u001b[0;32m/usr/local/lib/python3.7/site-packages/pandas/io/parsers/readers.py\u001b[0m in \u001b[0;36mread_csv\u001b[0;34m(filepath_or_buffer, sep, delimiter, header, names, index_col, usecols, squeeze, prefix, mangle_dupe_cols, dtype, engine, converters, true_values, false_values, skipinitialspace, skiprows, skipfooter, nrows, na_values, keep_default_na, na_filter, verbose, skip_blank_lines, parse_dates, infer_datetime_format, keep_date_col, date_parser, dayfirst, cache_dates, iterator, chunksize, compression, thousands, decimal, lineterminator, quotechar, quoting, doublequote, escapechar, comment, encoding, encoding_errors, dialect, error_bad_lines, warn_bad_lines, on_bad_lines, delim_whitespace, low_memory, memory_map, float_precision, storage_options)\u001b[0m\n\u001b[1;32m    584\u001b[0m     \u001b[0mkwds\u001b[0m\u001b[0;34m.\u001b[0m\u001b[0mupdate\u001b[0m\u001b[0;34m(\u001b[0m\u001b[0mkwds_defaults\u001b[0m\u001b[0;34m)\u001b[0m\u001b[0;34m\u001b[0m\u001b[0;34m\u001b[0m\u001b[0m\n\u001b[1;32m    585\u001b[0m \u001b[0;34m\u001b[0m\u001b[0m\n\u001b[0;32m--> 586\u001b[0;31m     \u001b[0;32mreturn\u001b[0m \u001b[0m_read\u001b[0m\u001b[0;34m(\u001b[0m\u001b[0mfilepath_or_buffer\u001b[0m\u001b[0;34m,\u001b[0m \u001b[0mkwds\u001b[0m\u001b[0;34m)\u001b[0m\u001b[0;34m\u001b[0m\u001b[0;34m\u001b[0m\u001b[0m\n\u001b[0m\u001b[1;32m    587\u001b[0m \u001b[0;34m\u001b[0m\u001b[0m\n\u001b[1;32m    588\u001b[0m \u001b[0;34m\u001b[0m\u001b[0m\n",
      "\u001b[0;32m/usr/local/lib/python3.7/site-packages/pandas/io/parsers/readers.py\u001b[0m in \u001b[0;36m_read\u001b[0;34m(filepath_or_buffer, kwds)\u001b[0m\n\u001b[1;32m    480\u001b[0m \u001b[0;34m\u001b[0m\u001b[0m\n\u001b[1;32m    481\u001b[0m     \u001b[0;31m# Create the parser.\u001b[0m\u001b[0;34m\u001b[0m\u001b[0;34m\u001b[0m\u001b[0;34m\u001b[0m\u001b[0m\n\u001b[0;32m--> 482\u001b[0;31m     \u001b[0mparser\u001b[0m \u001b[0;34m=\u001b[0m \u001b[0mTextFileReader\u001b[0m\u001b[0;34m(\u001b[0m\u001b[0mfilepath_or_buffer\u001b[0m\u001b[0;34m,\u001b[0m \u001b[0;34m**\u001b[0m\u001b[0mkwds\u001b[0m\u001b[0;34m)\u001b[0m\u001b[0;34m\u001b[0m\u001b[0;34m\u001b[0m\u001b[0m\n\u001b[0m\u001b[1;32m    483\u001b[0m \u001b[0;34m\u001b[0m\u001b[0m\n\u001b[1;32m    484\u001b[0m     \u001b[0;32mif\u001b[0m \u001b[0mchunksize\u001b[0m \u001b[0;32mor\u001b[0m \u001b[0miterator\u001b[0m\u001b[0;34m:\u001b[0m\u001b[0;34m\u001b[0m\u001b[0;34m\u001b[0m\u001b[0m\n",
      "\u001b[0;32m/usr/local/lib/python3.7/site-packages/pandas/io/parsers/readers.py\u001b[0m in \u001b[0;36m__init__\u001b[0;34m(self, f, engine, **kwds)\u001b[0m\n\u001b[1;32m    809\u001b[0m             \u001b[0mself\u001b[0m\u001b[0;34m.\u001b[0m\u001b[0moptions\u001b[0m\u001b[0;34m[\u001b[0m\u001b[0;34m\"has_index_names\"\u001b[0m\u001b[0;34m]\u001b[0m \u001b[0;34m=\u001b[0m \u001b[0mkwds\u001b[0m\u001b[0;34m[\u001b[0m\u001b[0;34m\"has_index_names\"\u001b[0m\u001b[0;34m]\u001b[0m\u001b[0;34m\u001b[0m\u001b[0;34m\u001b[0m\u001b[0m\n\u001b[1;32m    810\u001b[0m \u001b[0;34m\u001b[0m\u001b[0m\n\u001b[0;32m--> 811\u001b[0;31m         \u001b[0mself\u001b[0m\u001b[0;34m.\u001b[0m\u001b[0m_engine\u001b[0m \u001b[0;34m=\u001b[0m \u001b[0mself\u001b[0m\u001b[0;34m.\u001b[0m\u001b[0m_make_engine\u001b[0m\u001b[0;34m(\u001b[0m\u001b[0mself\u001b[0m\u001b[0;34m.\u001b[0m\u001b[0mengine\u001b[0m\u001b[0;34m)\u001b[0m\u001b[0;34m\u001b[0m\u001b[0;34m\u001b[0m\u001b[0m\n\u001b[0m\u001b[1;32m    812\u001b[0m \u001b[0;34m\u001b[0m\u001b[0m\n\u001b[1;32m    813\u001b[0m     \u001b[0;32mdef\u001b[0m \u001b[0mclose\u001b[0m\u001b[0;34m(\u001b[0m\u001b[0mself\u001b[0m\u001b[0;34m)\u001b[0m\u001b[0;34m:\u001b[0m\u001b[0;34m\u001b[0m\u001b[0;34m\u001b[0m\u001b[0m\n",
      "\u001b[0;32m/usr/local/lib/python3.7/site-packages/pandas/io/parsers/readers.py\u001b[0m in \u001b[0;36m_make_engine\u001b[0;34m(self, engine)\u001b[0m\n\u001b[1;32m   1038\u001b[0m             )\n\u001b[1;32m   1039\u001b[0m         \u001b[0;31m# error: Too many arguments for \"ParserBase\"\u001b[0m\u001b[0;34m\u001b[0m\u001b[0;34m\u001b[0m\u001b[0;34m\u001b[0m\u001b[0m\n\u001b[0;32m-> 1040\u001b[0;31m         \u001b[0;32mreturn\u001b[0m \u001b[0mmapping\u001b[0m\u001b[0;34m[\u001b[0m\u001b[0mengine\u001b[0m\u001b[0;34m]\u001b[0m\u001b[0;34m(\u001b[0m\u001b[0mself\u001b[0m\u001b[0;34m.\u001b[0m\u001b[0mf\u001b[0m\u001b[0;34m,\u001b[0m \u001b[0;34m**\u001b[0m\u001b[0mself\u001b[0m\u001b[0;34m.\u001b[0m\u001b[0moptions\u001b[0m\u001b[0;34m)\u001b[0m  \u001b[0;31m# type: ignore[call-arg]\u001b[0m\u001b[0;34m\u001b[0m\u001b[0;34m\u001b[0m\u001b[0m\n\u001b[0m\u001b[1;32m   1041\u001b[0m \u001b[0;34m\u001b[0m\u001b[0m\n\u001b[1;32m   1042\u001b[0m     \u001b[0;32mdef\u001b[0m \u001b[0m_failover_to_python\u001b[0m\u001b[0;34m(\u001b[0m\u001b[0mself\u001b[0m\u001b[0;34m)\u001b[0m\u001b[0;34m:\u001b[0m\u001b[0;34m\u001b[0m\u001b[0;34m\u001b[0m\u001b[0m\n",
      "\u001b[0;32m/usr/local/lib/python3.7/site-packages/pandas/io/parsers/c_parser_wrapper.py\u001b[0m in \u001b[0;36m__init__\u001b[0;34m(self, src, **kwds)\u001b[0m\n\u001b[1;32m     49\u001b[0m \u001b[0;34m\u001b[0m\u001b[0m\n\u001b[1;32m     50\u001b[0m         \u001b[0;31m# open handles\u001b[0m\u001b[0;34m\u001b[0m\u001b[0;34m\u001b[0m\u001b[0;34m\u001b[0m\u001b[0m\n\u001b[0;32m---> 51\u001b[0;31m         \u001b[0mself\u001b[0m\u001b[0;34m.\u001b[0m\u001b[0m_open_handles\u001b[0m\u001b[0;34m(\u001b[0m\u001b[0msrc\u001b[0m\u001b[0;34m,\u001b[0m \u001b[0mkwds\u001b[0m\u001b[0;34m)\u001b[0m\u001b[0;34m\u001b[0m\u001b[0;34m\u001b[0m\u001b[0m\n\u001b[0m\u001b[1;32m     52\u001b[0m         \u001b[0;32massert\u001b[0m \u001b[0mself\u001b[0m\u001b[0;34m.\u001b[0m\u001b[0mhandles\u001b[0m \u001b[0;32mis\u001b[0m \u001b[0;32mnot\u001b[0m \u001b[0;32mNone\u001b[0m\u001b[0;34m\u001b[0m\u001b[0;34m\u001b[0m\u001b[0m\n\u001b[1;32m     53\u001b[0m \u001b[0;34m\u001b[0m\u001b[0m\n",
      "\u001b[0;32m/usr/local/lib/python3.7/site-packages/pandas/io/parsers/base_parser.py\u001b[0m in \u001b[0;36m_open_handles\u001b[0;34m(self, src, kwds)\u001b[0m\n\u001b[1;32m    227\u001b[0m             \u001b[0mmemory_map\u001b[0m\u001b[0;34m=\u001b[0m\u001b[0mkwds\u001b[0m\u001b[0;34m.\u001b[0m\u001b[0mget\u001b[0m\u001b[0;34m(\u001b[0m\u001b[0;34m\"memory_map\"\u001b[0m\u001b[0;34m,\u001b[0m \u001b[0;32mFalse\u001b[0m\u001b[0;34m)\u001b[0m\u001b[0;34m,\u001b[0m\u001b[0;34m\u001b[0m\u001b[0;34m\u001b[0m\u001b[0m\n\u001b[1;32m    228\u001b[0m             \u001b[0mstorage_options\u001b[0m\u001b[0;34m=\u001b[0m\u001b[0mkwds\u001b[0m\u001b[0;34m.\u001b[0m\u001b[0mget\u001b[0m\u001b[0;34m(\u001b[0m\u001b[0;34m\"storage_options\"\u001b[0m\u001b[0;34m,\u001b[0m \u001b[0;32mNone\u001b[0m\u001b[0;34m)\u001b[0m\u001b[0;34m,\u001b[0m\u001b[0;34m\u001b[0m\u001b[0;34m\u001b[0m\u001b[0m\n\u001b[0;32m--> 229\u001b[0;31m             \u001b[0merrors\u001b[0m\u001b[0;34m=\u001b[0m\u001b[0mkwds\u001b[0m\u001b[0;34m.\u001b[0m\u001b[0mget\u001b[0m\u001b[0;34m(\u001b[0m\u001b[0;34m\"encoding_errors\"\u001b[0m\u001b[0;34m,\u001b[0m \u001b[0;34m\"strict\"\u001b[0m\u001b[0;34m)\u001b[0m\u001b[0;34m,\u001b[0m\u001b[0;34m\u001b[0m\u001b[0;34m\u001b[0m\u001b[0m\n\u001b[0m\u001b[1;32m    230\u001b[0m         )\n\u001b[1;32m    231\u001b[0m \u001b[0;34m\u001b[0m\u001b[0m\n",
      "\u001b[0;32m/usr/local/lib/python3.7/site-packages/pandas/io/common.py\u001b[0m in \u001b[0;36mget_handle\u001b[0;34m(path_or_buf, mode, encoding, compression, memory_map, is_text, errors, storage_options)\u001b[0m\n\u001b[1;32m    705\u001b[0m                 \u001b[0mencoding\u001b[0m\u001b[0;34m=\u001b[0m\u001b[0mioargs\u001b[0m\u001b[0;34m.\u001b[0m\u001b[0mencoding\u001b[0m\u001b[0;34m,\u001b[0m\u001b[0;34m\u001b[0m\u001b[0;34m\u001b[0m\u001b[0m\n\u001b[1;32m    706\u001b[0m                 \u001b[0merrors\u001b[0m\u001b[0;34m=\u001b[0m\u001b[0merrors\u001b[0m\u001b[0;34m,\u001b[0m\u001b[0;34m\u001b[0m\u001b[0;34m\u001b[0m\u001b[0m\n\u001b[0;32m--> 707\u001b[0;31m                 \u001b[0mnewline\u001b[0m\u001b[0;34m=\u001b[0m\u001b[0;34m\"\"\u001b[0m\u001b[0;34m,\u001b[0m\u001b[0;34m\u001b[0m\u001b[0;34m\u001b[0m\u001b[0m\n\u001b[0m\u001b[1;32m    708\u001b[0m             )\n\u001b[1;32m    709\u001b[0m         \u001b[0;32melse\u001b[0m\u001b[0;34m:\u001b[0m\u001b[0;34m\u001b[0m\u001b[0;34m\u001b[0m\u001b[0m\n",
      "\u001b[0;31mFileNotFoundError\u001b[0m: [Errno 2] No such file or directory: './data/human_protein/DRB1/allele_counts/single_allele_counts_rep1.csv'"
     ]
    }
   ],
   "source": [
    "%%time\n",
    "# Arguments input\n",
    "TARGET_PROTEIN = 'DRB1'\n",
    "REPLICATES = [1, 2] \n",
    "SITE_START, SITE_END = 84, 108\n",
    "INPUT_DIR = './data/human_protein/DRB1/allele_counts/'                            # Allele counts file input directory\n",
    "OUTPUT_DIR = './outputs/human_protein/DRB1/selection_coefficients/'    # Estimate selection coefficients file output directory\n",
    "EPISTASIS = False\n",
    "REGULARIZATION_PERCENT = 10\n",
    "\n",
    "human_pipeline(TARGET_PROTEIN, REPLICATES, SITE_START, SITE_END, INPUT_DIR, OUTPUT_DIR, EPISTASIS, REGULARIZATION_PERCENT)\n",
    "\n",
    "# INPUT_FILE_PREFIX, FLAG_LIST, SITES = MPL.initialization(SITE_START, SITE_END, INPUT_DIR, OUTPUT_DIR, EPISTASIS)\n",
    "\n",
    "# FREQUENCY_DIFF, COVARIANCE_MATRIX, MAX_READ = MPL_elements(FLAG_LIST, INPUT_DIR, REPLICATES, INPUT_FILE_PREFIX, SITES)\n",
    "\n",
    "# REGULARIZATION_LIST = [np.power(10, float(i)) for i in range(int(np.log10(1/MAX_READ)-1), 4)]\n",
    "# CORRELATION_LIST = optimize_regularization(REGULARIZATION_LIST, SITES, COVARIANCE_MATRIX, FREQUENCY_DIFF, REPLICATES)\n",
    "\n",
    "# plot_reg_corr(REGULARIZATION_LIST, CORRELATION_LIST, TARGET_PROTEIN)\n",
    "\n",
    "\n",
    "# REGULARIZATION_SELECTED = find_best_regularization(REGULARIZATION_LIST, CORRELATION_LIST, REGULARIZATION_PERCENT)"
   ]
  },
  {
   "cell_type": "markdown",
   "metadata": {},
   "source": [
    "# TpoR MPL"
   ]
  },
  {
   "cell_type": "code",
   "execution_count": 6,
   "metadata": {
    "scrolled": false
   },
   "outputs": [
    {
     "name": "stdout",
     "output_type": "stream",
     "text": [
      "Reading single allele counts files from:\n",
      "  ./data/human_protein/TpoR/TpoR_MPL/allele_counts/single_allele_counts_rep1.csv\n"
     ]
    },
    {
     "ename": "FileNotFoundError",
     "evalue": "[Errno 2] No such file or directory: './data/human_protein/TpoR/TpoR_MPL/allele_counts/single_allele_counts_rep1.csv'",
     "output_type": "error",
     "traceback": [
      "\u001b[0;31m---------------------------------------------------------------------------\u001b[0m",
      "\u001b[0;31mFileNotFoundError\u001b[0m                         Traceback (most recent call last)",
      "\u001b[0;32m<timed exec>\u001b[0m in \u001b[0;36m<module>\u001b[0;34m\u001b[0m\n",
      "\u001b[0;32m<ipython-input-3-c21173207858>\u001b[0m in \u001b[0;36mhuman_pipeline\u001b[0;34m(TARGET_PROTEIN, REPLICATES, SITE_START, SITE_END, INPUT_DIR, OUTPUT_DIR, EPISTASIS, REGULARIZATION_PERCENT)\u001b[0m\n\u001b[1;32m      2\u001b[0m     \u001b[0mINPUT_FILE_PREFIX\u001b[0m\u001b[0;34m,\u001b[0m \u001b[0mFLAG_LIST\u001b[0m\u001b[0;34m,\u001b[0m \u001b[0mSITES\u001b[0m \u001b[0;34m=\u001b[0m \u001b[0mMPL\u001b[0m\u001b[0;34m.\u001b[0m\u001b[0minitialization\u001b[0m\u001b[0;34m(\u001b[0m\u001b[0mSITE_START\u001b[0m\u001b[0;34m,\u001b[0m \u001b[0mSITE_END\u001b[0m\u001b[0;34m,\u001b[0m \u001b[0mINPUT_DIR\u001b[0m\u001b[0;34m,\u001b[0m \u001b[0mOUTPUT_DIR\u001b[0m\u001b[0;34m,\u001b[0m \u001b[0mEPISTASIS\u001b[0m\u001b[0;34m)\u001b[0m\u001b[0;34m\u001b[0m\u001b[0;34m\u001b[0m\u001b[0m\n\u001b[1;32m      3\u001b[0m \u001b[0;34m\u001b[0m\u001b[0m\n\u001b[0;32m----> 4\u001b[0;31m     \u001b[0mFREQUENCY_DIFF\u001b[0m\u001b[0;34m,\u001b[0m \u001b[0mCOVARIANCE_MATRIX\u001b[0m\u001b[0;34m,\u001b[0m \u001b[0mMAX_READ\u001b[0m \u001b[0;34m=\u001b[0m \u001b[0mMPL_elements\u001b[0m\u001b[0;34m(\u001b[0m\u001b[0mFLAG_LIST\u001b[0m\u001b[0;34m,\u001b[0m \u001b[0mINPUT_DIR\u001b[0m\u001b[0;34m,\u001b[0m \u001b[0mREPLICATES\u001b[0m\u001b[0;34m,\u001b[0m \u001b[0mINPUT_FILE_PREFIX\u001b[0m\u001b[0;34m,\u001b[0m \u001b[0mSITES\u001b[0m\u001b[0;34m)\u001b[0m\u001b[0;34m\u001b[0m\u001b[0;34m\u001b[0m\u001b[0m\n\u001b[0m\u001b[1;32m      5\u001b[0m \u001b[0;34m\u001b[0m\u001b[0m\n\u001b[1;32m      6\u001b[0m \u001b[0;31m#     print(COVARIANCE_MATRIX['amino_acid'][1])\u001b[0m\u001b[0;34m\u001b[0m\u001b[0;34m\u001b[0m\u001b[0;34m\u001b[0m\u001b[0m\n",
      "\u001b[0;32m<ipython-input-3-c21173207858>\u001b[0m in \u001b[0;36mMPL_elements\u001b[0;34m(flag_list, Input_dir, replicates, Input_file_prefix, sites)\u001b[0m\n\u001b[1;32m     26\u001b[0m     \u001b[0;32mfor\u001b[0m \u001b[0mflag\u001b[0m \u001b[0;32min\u001b[0m \u001b[0mflag_list\u001b[0m\u001b[0;34m:\u001b[0m\u001b[0;34m\u001b[0m\u001b[0;34m\u001b[0m\u001b[0m\n\u001b[1;32m     27\u001b[0m         \u001b[0mprint\u001b[0m\u001b[0;34m(\u001b[0m\u001b[0;34m'Reading %s allele counts files from:'\u001b[0m \u001b[0;34m%\u001b[0m\u001b[0mflag\u001b[0m\u001b[0;34m)\u001b[0m\u001b[0;34m\u001b[0m\u001b[0;34m\u001b[0m\u001b[0m\n\u001b[0;32m---> 28\u001b[0;31m         \u001b[0mdf_counts_dict\u001b[0m\u001b[0;34m[\u001b[0m\u001b[0mflag\u001b[0m\u001b[0;34m]\u001b[0m \u001b[0;34m=\u001b[0m \u001b[0mMPL\u001b[0m\u001b[0;34m.\u001b[0m\u001b[0mget_counts\u001b[0m\u001b[0;34m(\u001b[0m\u001b[0mInput_dir\u001b[0m\u001b[0;34m,\u001b[0m \u001b[0mreplicates\u001b[0m\u001b[0;34m,\u001b[0m \u001b[0mInput_file_prefix\u001b[0m\u001b[0;34m,\u001b[0m \u001b[0mflag\u001b[0m\u001b[0;34m)\u001b[0m\u001b[0;34m\u001b[0m\u001b[0;34m\u001b[0m\u001b[0m\n\u001b[0m\u001b[1;32m     29\u001b[0m \u001b[0;34m\u001b[0m\u001b[0m\n\u001b[1;32m     30\u001b[0m     \u001b[0mdf_frequency_dict\u001b[0m \u001b[0;34m=\u001b[0m \u001b[0;34m{\u001b[0m\u001b[0;34m}\u001b[0m\u001b[0;34m\u001b[0m\u001b[0;34m\u001b[0m\u001b[0m\n",
      "\u001b[0;32m~/Downloads/paper-DMS-inference/MPL.py\u001b[0m in \u001b[0;36mget_counts\u001b[0;34m(Input_dir, replicates, Input_file_prefix, flag)\u001b[0m\n\u001b[1;32m    128\u001b[0m             \u001b[0mInput_file\u001b[0m \u001b[0;34m=\u001b[0m \u001b[0mInput_dir\u001b[0m \u001b[0;34m+\u001b[0m \u001b[0mInput_file_prefix\u001b[0m\u001b[0;34m[\u001b[0m\u001b[0mflag\u001b[0m\u001b[0;34m]\u001b[0m \u001b[0;34m+\u001b[0m \u001b[0mstr\u001b[0m\u001b[0;34m(\u001b[0m\u001b[0mreplicate\u001b[0m\u001b[0;34m)\u001b[0m \u001b[0;34m+\u001b[0m \u001b[0;34m'.csv'\u001b[0m\u001b[0;34m\u001b[0m\u001b[0;34m\u001b[0m\u001b[0m\n\u001b[1;32m    129\u001b[0m             \u001b[0mprint\u001b[0m\u001b[0;34m(\u001b[0m\u001b[0;34m' '\u001b[0m\u001b[0;34m,\u001b[0m \u001b[0mInput_file\u001b[0m\u001b[0;34m)\u001b[0m\u001b[0;34m\u001b[0m\u001b[0;34m\u001b[0m\u001b[0m\n\u001b[0;32m--> 130\u001b[0;31m             \u001b[0mtable\u001b[0m \u001b[0;34m=\u001b[0m \u001b[0mpd\u001b[0m\u001b[0;34m.\u001b[0m\u001b[0mread_csv\u001b[0m\u001b[0;34m(\u001b[0m\u001b[0mInput_file\u001b[0m\u001b[0;34m)\u001b[0m\u001b[0;34m\u001b[0m\u001b[0;34m\u001b[0m\u001b[0m\n\u001b[0m\u001b[1;32m    131\u001b[0m             \u001b[0moriginal_rows\u001b[0m \u001b[0;34m=\u001b[0m \u001b[0mtable\u001b[0m\u001b[0;34m.\u001b[0m\u001b[0mshape\u001b[0m\u001b[0;34m[\u001b[0m\u001b[0;36m0\u001b[0m\u001b[0;34m]\u001b[0m\u001b[0;34m\u001b[0m\u001b[0;34m\u001b[0m\u001b[0m\n\u001b[1;32m    132\u001b[0m             \u001b[0mindexNames\u001b[0m \u001b[0;34m=\u001b[0m \u001b[0mtable\u001b[0m\u001b[0;34m[\u001b[0m\u001b[0mtable\u001b[0m\u001b[0;34m[\u001b[0m\u001b[0;34m'counts'\u001b[0m\u001b[0;34m]\u001b[0m \u001b[0;34m<=\u001b[0m \u001b[0;36m0\u001b[0m\u001b[0;34m]\u001b[0m\u001b[0;34m.\u001b[0m\u001b[0mindex\u001b[0m\u001b[0;34m\u001b[0m\u001b[0;34m\u001b[0m\u001b[0m\n",
      "\u001b[0;32m/usr/local/lib/python3.7/site-packages/pandas/util/_decorators.py\u001b[0m in \u001b[0;36mwrapper\u001b[0;34m(*args, **kwargs)\u001b[0m\n\u001b[1;32m    309\u001b[0m                     \u001b[0mstacklevel\u001b[0m\u001b[0;34m=\u001b[0m\u001b[0mstacklevel\u001b[0m\u001b[0;34m,\u001b[0m\u001b[0;34m\u001b[0m\u001b[0;34m\u001b[0m\u001b[0m\n\u001b[1;32m    310\u001b[0m                 )\n\u001b[0;32m--> 311\u001b[0;31m             \u001b[0;32mreturn\u001b[0m \u001b[0mfunc\u001b[0m\u001b[0;34m(\u001b[0m\u001b[0;34m*\u001b[0m\u001b[0margs\u001b[0m\u001b[0;34m,\u001b[0m \u001b[0;34m**\u001b[0m\u001b[0mkwargs\u001b[0m\u001b[0;34m)\u001b[0m\u001b[0;34m\u001b[0m\u001b[0;34m\u001b[0m\u001b[0m\n\u001b[0m\u001b[1;32m    312\u001b[0m \u001b[0;34m\u001b[0m\u001b[0m\n\u001b[1;32m    313\u001b[0m         \u001b[0;32mreturn\u001b[0m \u001b[0mwrapper\u001b[0m\u001b[0;34m\u001b[0m\u001b[0;34m\u001b[0m\u001b[0m\n",
      "\u001b[0;32m/usr/local/lib/python3.7/site-packages/pandas/io/parsers/readers.py\u001b[0m in \u001b[0;36mread_csv\u001b[0;34m(filepath_or_buffer, sep, delimiter, header, names, index_col, usecols, squeeze, prefix, mangle_dupe_cols, dtype, engine, converters, true_values, false_values, skipinitialspace, skiprows, skipfooter, nrows, na_values, keep_default_na, na_filter, verbose, skip_blank_lines, parse_dates, infer_datetime_format, keep_date_col, date_parser, dayfirst, cache_dates, iterator, chunksize, compression, thousands, decimal, lineterminator, quotechar, quoting, doublequote, escapechar, comment, encoding, encoding_errors, dialect, error_bad_lines, warn_bad_lines, on_bad_lines, delim_whitespace, low_memory, memory_map, float_precision, storage_options)\u001b[0m\n\u001b[1;32m    584\u001b[0m     \u001b[0mkwds\u001b[0m\u001b[0;34m.\u001b[0m\u001b[0mupdate\u001b[0m\u001b[0;34m(\u001b[0m\u001b[0mkwds_defaults\u001b[0m\u001b[0;34m)\u001b[0m\u001b[0;34m\u001b[0m\u001b[0;34m\u001b[0m\u001b[0m\n\u001b[1;32m    585\u001b[0m \u001b[0;34m\u001b[0m\u001b[0m\n\u001b[0;32m--> 586\u001b[0;31m     \u001b[0;32mreturn\u001b[0m \u001b[0m_read\u001b[0m\u001b[0;34m(\u001b[0m\u001b[0mfilepath_or_buffer\u001b[0m\u001b[0;34m,\u001b[0m \u001b[0mkwds\u001b[0m\u001b[0;34m)\u001b[0m\u001b[0;34m\u001b[0m\u001b[0;34m\u001b[0m\u001b[0m\n\u001b[0m\u001b[1;32m    587\u001b[0m \u001b[0;34m\u001b[0m\u001b[0m\n\u001b[1;32m    588\u001b[0m \u001b[0;34m\u001b[0m\u001b[0m\n",
      "\u001b[0;32m/usr/local/lib/python3.7/site-packages/pandas/io/parsers/readers.py\u001b[0m in \u001b[0;36m_read\u001b[0;34m(filepath_or_buffer, kwds)\u001b[0m\n\u001b[1;32m    480\u001b[0m \u001b[0;34m\u001b[0m\u001b[0m\n\u001b[1;32m    481\u001b[0m     \u001b[0;31m# Create the parser.\u001b[0m\u001b[0;34m\u001b[0m\u001b[0;34m\u001b[0m\u001b[0;34m\u001b[0m\u001b[0m\n\u001b[0;32m--> 482\u001b[0;31m     \u001b[0mparser\u001b[0m \u001b[0;34m=\u001b[0m \u001b[0mTextFileReader\u001b[0m\u001b[0;34m(\u001b[0m\u001b[0mfilepath_or_buffer\u001b[0m\u001b[0;34m,\u001b[0m \u001b[0;34m**\u001b[0m\u001b[0mkwds\u001b[0m\u001b[0;34m)\u001b[0m\u001b[0;34m\u001b[0m\u001b[0;34m\u001b[0m\u001b[0m\n\u001b[0m\u001b[1;32m    483\u001b[0m \u001b[0;34m\u001b[0m\u001b[0m\n\u001b[1;32m    484\u001b[0m     \u001b[0;32mif\u001b[0m \u001b[0mchunksize\u001b[0m \u001b[0;32mor\u001b[0m \u001b[0miterator\u001b[0m\u001b[0;34m:\u001b[0m\u001b[0;34m\u001b[0m\u001b[0;34m\u001b[0m\u001b[0m\n",
      "\u001b[0;32m/usr/local/lib/python3.7/site-packages/pandas/io/parsers/readers.py\u001b[0m in \u001b[0;36m__init__\u001b[0;34m(self, f, engine, **kwds)\u001b[0m\n\u001b[1;32m    809\u001b[0m             \u001b[0mself\u001b[0m\u001b[0;34m.\u001b[0m\u001b[0moptions\u001b[0m\u001b[0;34m[\u001b[0m\u001b[0;34m\"has_index_names\"\u001b[0m\u001b[0;34m]\u001b[0m \u001b[0;34m=\u001b[0m \u001b[0mkwds\u001b[0m\u001b[0;34m[\u001b[0m\u001b[0;34m\"has_index_names\"\u001b[0m\u001b[0;34m]\u001b[0m\u001b[0;34m\u001b[0m\u001b[0;34m\u001b[0m\u001b[0m\n\u001b[1;32m    810\u001b[0m \u001b[0;34m\u001b[0m\u001b[0m\n\u001b[0;32m--> 811\u001b[0;31m         \u001b[0mself\u001b[0m\u001b[0;34m.\u001b[0m\u001b[0m_engine\u001b[0m \u001b[0;34m=\u001b[0m \u001b[0mself\u001b[0m\u001b[0;34m.\u001b[0m\u001b[0m_make_engine\u001b[0m\u001b[0;34m(\u001b[0m\u001b[0mself\u001b[0m\u001b[0;34m.\u001b[0m\u001b[0mengine\u001b[0m\u001b[0;34m)\u001b[0m\u001b[0;34m\u001b[0m\u001b[0;34m\u001b[0m\u001b[0m\n\u001b[0m\u001b[1;32m    812\u001b[0m \u001b[0;34m\u001b[0m\u001b[0m\n\u001b[1;32m    813\u001b[0m     \u001b[0;32mdef\u001b[0m \u001b[0mclose\u001b[0m\u001b[0;34m(\u001b[0m\u001b[0mself\u001b[0m\u001b[0;34m)\u001b[0m\u001b[0;34m:\u001b[0m\u001b[0;34m\u001b[0m\u001b[0;34m\u001b[0m\u001b[0m\n",
      "\u001b[0;32m/usr/local/lib/python3.7/site-packages/pandas/io/parsers/readers.py\u001b[0m in \u001b[0;36m_make_engine\u001b[0;34m(self, engine)\u001b[0m\n\u001b[1;32m   1038\u001b[0m             )\n\u001b[1;32m   1039\u001b[0m         \u001b[0;31m# error: Too many arguments for \"ParserBase\"\u001b[0m\u001b[0;34m\u001b[0m\u001b[0;34m\u001b[0m\u001b[0;34m\u001b[0m\u001b[0m\n\u001b[0;32m-> 1040\u001b[0;31m         \u001b[0;32mreturn\u001b[0m \u001b[0mmapping\u001b[0m\u001b[0;34m[\u001b[0m\u001b[0mengine\u001b[0m\u001b[0;34m]\u001b[0m\u001b[0;34m(\u001b[0m\u001b[0mself\u001b[0m\u001b[0;34m.\u001b[0m\u001b[0mf\u001b[0m\u001b[0;34m,\u001b[0m \u001b[0;34m**\u001b[0m\u001b[0mself\u001b[0m\u001b[0;34m.\u001b[0m\u001b[0moptions\u001b[0m\u001b[0;34m)\u001b[0m  \u001b[0;31m# type: ignore[call-arg]\u001b[0m\u001b[0;34m\u001b[0m\u001b[0;34m\u001b[0m\u001b[0m\n\u001b[0m\u001b[1;32m   1041\u001b[0m \u001b[0;34m\u001b[0m\u001b[0m\n\u001b[1;32m   1042\u001b[0m     \u001b[0;32mdef\u001b[0m \u001b[0m_failover_to_python\u001b[0m\u001b[0;34m(\u001b[0m\u001b[0mself\u001b[0m\u001b[0;34m)\u001b[0m\u001b[0;34m:\u001b[0m\u001b[0;34m\u001b[0m\u001b[0;34m\u001b[0m\u001b[0m\n",
      "\u001b[0;32m/usr/local/lib/python3.7/site-packages/pandas/io/parsers/c_parser_wrapper.py\u001b[0m in \u001b[0;36m__init__\u001b[0;34m(self, src, **kwds)\u001b[0m\n\u001b[1;32m     49\u001b[0m \u001b[0;34m\u001b[0m\u001b[0m\n\u001b[1;32m     50\u001b[0m         \u001b[0;31m# open handles\u001b[0m\u001b[0;34m\u001b[0m\u001b[0;34m\u001b[0m\u001b[0;34m\u001b[0m\u001b[0m\n\u001b[0;32m---> 51\u001b[0;31m         \u001b[0mself\u001b[0m\u001b[0;34m.\u001b[0m\u001b[0m_open_handles\u001b[0m\u001b[0;34m(\u001b[0m\u001b[0msrc\u001b[0m\u001b[0;34m,\u001b[0m \u001b[0mkwds\u001b[0m\u001b[0;34m)\u001b[0m\u001b[0;34m\u001b[0m\u001b[0;34m\u001b[0m\u001b[0m\n\u001b[0m\u001b[1;32m     52\u001b[0m         \u001b[0;32massert\u001b[0m \u001b[0mself\u001b[0m\u001b[0;34m.\u001b[0m\u001b[0mhandles\u001b[0m \u001b[0;32mis\u001b[0m \u001b[0;32mnot\u001b[0m \u001b[0;32mNone\u001b[0m\u001b[0;34m\u001b[0m\u001b[0;34m\u001b[0m\u001b[0m\n\u001b[1;32m     53\u001b[0m \u001b[0;34m\u001b[0m\u001b[0m\n",
      "\u001b[0;32m/usr/local/lib/python3.7/site-packages/pandas/io/parsers/base_parser.py\u001b[0m in \u001b[0;36m_open_handles\u001b[0;34m(self, src, kwds)\u001b[0m\n\u001b[1;32m    227\u001b[0m             \u001b[0mmemory_map\u001b[0m\u001b[0;34m=\u001b[0m\u001b[0mkwds\u001b[0m\u001b[0;34m.\u001b[0m\u001b[0mget\u001b[0m\u001b[0;34m(\u001b[0m\u001b[0;34m\"memory_map\"\u001b[0m\u001b[0;34m,\u001b[0m \u001b[0;32mFalse\u001b[0m\u001b[0;34m)\u001b[0m\u001b[0;34m,\u001b[0m\u001b[0;34m\u001b[0m\u001b[0;34m\u001b[0m\u001b[0m\n\u001b[1;32m    228\u001b[0m             \u001b[0mstorage_options\u001b[0m\u001b[0;34m=\u001b[0m\u001b[0mkwds\u001b[0m\u001b[0;34m.\u001b[0m\u001b[0mget\u001b[0m\u001b[0;34m(\u001b[0m\u001b[0;34m\"storage_options\"\u001b[0m\u001b[0;34m,\u001b[0m \u001b[0;32mNone\u001b[0m\u001b[0;34m)\u001b[0m\u001b[0;34m,\u001b[0m\u001b[0;34m\u001b[0m\u001b[0;34m\u001b[0m\u001b[0m\n\u001b[0;32m--> 229\u001b[0;31m             \u001b[0merrors\u001b[0m\u001b[0;34m=\u001b[0m\u001b[0mkwds\u001b[0m\u001b[0;34m.\u001b[0m\u001b[0mget\u001b[0m\u001b[0;34m(\u001b[0m\u001b[0;34m\"encoding_errors\"\u001b[0m\u001b[0;34m,\u001b[0m \u001b[0;34m\"strict\"\u001b[0m\u001b[0;34m)\u001b[0m\u001b[0;34m,\u001b[0m\u001b[0;34m\u001b[0m\u001b[0;34m\u001b[0m\u001b[0m\n\u001b[0m\u001b[1;32m    230\u001b[0m         )\n\u001b[1;32m    231\u001b[0m \u001b[0;34m\u001b[0m\u001b[0m\n",
      "\u001b[0;32m/usr/local/lib/python3.7/site-packages/pandas/io/common.py\u001b[0m in \u001b[0;36mget_handle\u001b[0;34m(path_or_buf, mode, encoding, compression, memory_map, is_text, errors, storage_options)\u001b[0m\n\u001b[1;32m    705\u001b[0m                 \u001b[0mencoding\u001b[0m\u001b[0;34m=\u001b[0m\u001b[0mioargs\u001b[0m\u001b[0;34m.\u001b[0m\u001b[0mencoding\u001b[0m\u001b[0;34m,\u001b[0m\u001b[0;34m\u001b[0m\u001b[0;34m\u001b[0m\u001b[0m\n\u001b[1;32m    706\u001b[0m                 \u001b[0merrors\u001b[0m\u001b[0;34m=\u001b[0m\u001b[0merrors\u001b[0m\u001b[0;34m,\u001b[0m\u001b[0;34m\u001b[0m\u001b[0;34m\u001b[0m\u001b[0m\n\u001b[0;32m--> 707\u001b[0;31m                 \u001b[0mnewline\u001b[0m\u001b[0;34m=\u001b[0m\u001b[0;34m\"\"\u001b[0m\u001b[0;34m,\u001b[0m\u001b[0;34m\u001b[0m\u001b[0;34m\u001b[0m\u001b[0m\n\u001b[0m\u001b[1;32m    708\u001b[0m             )\n\u001b[1;32m    709\u001b[0m         \u001b[0;32melse\u001b[0m\u001b[0;34m:\u001b[0m\u001b[0;34m\u001b[0m\u001b[0;34m\u001b[0m\u001b[0m\n",
      "\u001b[0;31mFileNotFoundError\u001b[0m: [Errno 2] No such file or directory: './data/human_protein/TpoR/TpoR_MPL/allele_counts/single_allele_counts_rep1.csv'"
     ]
    }
   ],
   "source": [
    "%%time\n",
    "# Arguments input\n",
    "TARGET_PROTEIN = 'TpoR_MPL'\n",
    "REPLICATES = [1, 2, 3, 4, 5, 6] \n",
    "SITE_START, SITE_END = 1, 31\n",
    "INPUT_DIR = './data/human_protein/TpoR/TpoR_MPL/allele_counts/'                            # Allele counts file input directory\n",
    "OUTPUT_DIR = './outputs/human_protein/TpoR/TpoR_MPL/selection_coefficients/'    # Estimate selection coefficients file output directory\n",
    "EPISTASIS = False\n",
    "REGULARIZATION_PERCENT = 10\n",
    "\n",
    "human_pipeline(TARGET_PROTEIN, REPLICATES, SITE_START, SITE_END, INPUT_DIR, OUTPUT_DIR, EPISTASIS, REGULARIZATION_PERCENT)\n",
    "\n",
    "# INPUT_FILE_PREFIX, FLAG_LIST, SITES = MPL.initialization(SITE_START, SITE_END, INPUT_DIR, OUTPUT_DIR, EPISTASIS)\n",
    "\n",
    "# FREQUENCY_DIFF, COVARIANCE_MATRIX, MAX_READ = MPL_elements(FLAG_LIST, INPUT_DIR, REPLICATES, INPUT_FILE_PREFIX, SITES)\n",
    "\n",
    "# REGULARIZATION_LIST = [np.power(10, float(i)) for i in range(int(np.log10(1/MAX_READ)-1), 4)]\n",
    "# CORRELATION_LIST = optimize_regularization(REGULARIZATION_LIST, SITES, COVARIANCE_MATRIX, FREQUENCY_DIFF, REPLICATES)\n",
    "\n",
    "# plot_reg_corr(REGULARIZATION_LIST, CORRELATION_LIST, TARGET_PROTEIN)\n",
    "\n",
    "\n",
    "# REGULARIZATION_SELECTED = find_best_regularization(REGULARIZATION_LIST, CORRELATION_LIST, REGULARIZATION_PERCENT)"
   ]
  },
  {
   "cell_type": "markdown",
   "metadata": {},
   "source": [
    "# TpoR MPL S505N"
   ]
  },
  {
   "cell_type": "code",
   "execution_count": 7,
   "metadata": {
    "scrolled": false
   },
   "outputs": [
    {
     "name": "stdout",
     "output_type": "stream",
     "text": [
      "Reading single allele counts files from:\n",
      "  ./data/human_protein/TpoR/TpoR_S505NMPL/allele_counts/single_allele_counts_rep1.csv\n"
     ]
    },
    {
     "ename": "FileNotFoundError",
     "evalue": "[Errno 2] No such file or directory: './data/human_protein/TpoR/TpoR_S505NMPL/allele_counts/single_allele_counts_rep1.csv'",
     "output_type": "error",
     "traceback": [
      "\u001b[0;31m---------------------------------------------------------------------------\u001b[0m",
      "\u001b[0;31mFileNotFoundError\u001b[0m                         Traceback (most recent call last)",
      "\u001b[0;32m<timed exec>\u001b[0m in \u001b[0;36m<module>\u001b[0;34m\u001b[0m\n",
      "\u001b[0;32m<ipython-input-3-c21173207858>\u001b[0m in \u001b[0;36mhuman_pipeline\u001b[0;34m(TARGET_PROTEIN, REPLICATES, SITE_START, SITE_END, INPUT_DIR, OUTPUT_DIR, EPISTASIS, REGULARIZATION_PERCENT)\u001b[0m\n\u001b[1;32m      2\u001b[0m     \u001b[0mINPUT_FILE_PREFIX\u001b[0m\u001b[0;34m,\u001b[0m \u001b[0mFLAG_LIST\u001b[0m\u001b[0;34m,\u001b[0m \u001b[0mSITES\u001b[0m \u001b[0;34m=\u001b[0m \u001b[0mMPL\u001b[0m\u001b[0;34m.\u001b[0m\u001b[0minitialization\u001b[0m\u001b[0;34m(\u001b[0m\u001b[0mSITE_START\u001b[0m\u001b[0;34m,\u001b[0m \u001b[0mSITE_END\u001b[0m\u001b[0;34m,\u001b[0m \u001b[0mINPUT_DIR\u001b[0m\u001b[0;34m,\u001b[0m \u001b[0mOUTPUT_DIR\u001b[0m\u001b[0;34m,\u001b[0m \u001b[0mEPISTASIS\u001b[0m\u001b[0;34m)\u001b[0m\u001b[0;34m\u001b[0m\u001b[0;34m\u001b[0m\u001b[0m\n\u001b[1;32m      3\u001b[0m \u001b[0;34m\u001b[0m\u001b[0m\n\u001b[0;32m----> 4\u001b[0;31m     \u001b[0mFREQUENCY_DIFF\u001b[0m\u001b[0;34m,\u001b[0m \u001b[0mCOVARIANCE_MATRIX\u001b[0m\u001b[0;34m,\u001b[0m \u001b[0mMAX_READ\u001b[0m \u001b[0;34m=\u001b[0m \u001b[0mMPL_elements\u001b[0m\u001b[0;34m(\u001b[0m\u001b[0mFLAG_LIST\u001b[0m\u001b[0;34m,\u001b[0m \u001b[0mINPUT_DIR\u001b[0m\u001b[0;34m,\u001b[0m \u001b[0mREPLICATES\u001b[0m\u001b[0;34m,\u001b[0m \u001b[0mINPUT_FILE_PREFIX\u001b[0m\u001b[0;34m,\u001b[0m \u001b[0mSITES\u001b[0m\u001b[0;34m)\u001b[0m\u001b[0;34m\u001b[0m\u001b[0;34m\u001b[0m\u001b[0m\n\u001b[0m\u001b[1;32m      5\u001b[0m \u001b[0;34m\u001b[0m\u001b[0m\n\u001b[1;32m      6\u001b[0m \u001b[0;31m#     print(COVARIANCE_MATRIX['amino_acid'][1])\u001b[0m\u001b[0;34m\u001b[0m\u001b[0;34m\u001b[0m\u001b[0;34m\u001b[0m\u001b[0m\n",
      "\u001b[0;32m<ipython-input-3-c21173207858>\u001b[0m in \u001b[0;36mMPL_elements\u001b[0;34m(flag_list, Input_dir, replicates, Input_file_prefix, sites)\u001b[0m\n\u001b[1;32m     26\u001b[0m     \u001b[0;32mfor\u001b[0m \u001b[0mflag\u001b[0m \u001b[0;32min\u001b[0m \u001b[0mflag_list\u001b[0m\u001b[0;34m:\u001b[0m\u001b[0;34m\u001b[0m\u001b[0;34m\u001b[0m\u001b[0m\n\u001b[1;32m     27\u001b[0m         \u001b[0mprint\u001b[0m\u001b[0;34m(\u001b[0m\u001b[0;34m'Reading %s allele counts files from:'\u001b[0m \u001b[0;34m%\u001b[0m\u001b[0mflag\u001b[0m\u001b[0;34m)\u001b[0m\u001b[0;34m\u001b[0m\u001b[0;34m\u001b[0m\u001b[0m\n\u001b[0;32m---> 28\u001b[0;31m         \u001b[0mdf_counts_dict\u001b[0m\u001b[0;34m[\u001b[0m\u001b[0mflag\u001b[0m\u001b[0;34m]\u001b[0m \u001b[0;34m=\u001b[0m \u001b[0mMPL\u001b[0m\u001b[0;34m.\u001b[0m\u001b[0mget_counts\u001b[0m\u001b[0;34m(\u001b[0m\u001b[0mInput_dir\u001b[0m\u001b[0;34m,\u001b[0m \u001b[0mreplicates\u001b[0m\u001b[0;34m,\u001b[0m \u001b[0mInput_file_prefix\u001b[0m\u001b[0;34m,\u001b[0m \u001b[0mflag\u001b[0m\u001b[0;34m)\u001b[0m\u001b[0;34m\u001b[0m\u001b[0;34m\u001b[0m\u001b[0m\n\u001b[0m\u001b[1;32m     29\u001b[0m \u001b[0;34m\u001b[0m\u001b[0m\n\u001b[1;32m     30\u001b[0m     \u001b[0mdf_frequency_dict\u001b[0m \u001b[0;34m=\u001b[0m \u001b[0;34m{\u001b[0m\u001b[0;34m}\u001b[0m\u001b[0;34m\u001b[0m\u001b[0;34m\u001b[0m\u001b[0m\n",
      "\u001b[0;32m~/Downloads/paper-DMS-inference/MPL.py\u001b[0m in \u001b[0;36mget_counts\u001b[0;34m(Input_dir, replicates, Input_file_prefix, flag)\u001b[0m\n\u001b[1;32m    128\u001b[0m             \u001b[0mInput_file\u001b[0m \u001b[0;34m=\u001b[0m \u001b[0mInput_dir\u001b[0m \u001b[0;34m+\u001b[0m \u001b[0mInput_file_prefix\u001b[0m\u001b[0;34m[\u001b[0m\u001b[0mflag\u001b[0m\u001b[0;34m]\u001b[0m \u001b[0;34m+\u001b[0m \u001b[0mstr\u001b[0m\u001b[0;34m(\u001b[0m\u001b[0mreplicate\u001b[0m\u001b[0;34m)\u001b[0m \u001b[0;34m+\u001b[0m \u001b[0;34m'.csv'\u001b[0m\u001b[0;34m\u001b[0m\u001b[0;34m\u001b[0m\u001b[0m\n\u001b[1;32m    129\u001b[0m             \u001b[0mprint\u001b[0m\u001b[0;34m(\u001b[0m\u001b[0;34m' '\u001b[0m\u001b[0;34m,\u001b[0m \u001b[0mInput_file\u001b[0m\u001b[0;34m)\u001b[0m\u001b[0;34m\u001b[0m\u001b[0;34m\u001b[0m\u001b[0m\n\u001b[0;32m--> 130\u001b[0;31m             \u001b[0mtable\u001b[0m \u001b[0;34m=\u001b[0m \u001b[0mpd\u001b[0m\u001b[0;34m.\u001b[0m\u001b[0mread_csv\u001b[0m\u001b[0;34m(\u001b[0m\u001b[0mInput_file\u001b[0m\u001b[0;34m)\u001b[0m\u001b[0;34m\u001b[0m\u001b[0;34m\u001b[0m\u001b[0m\n\u001b[0m\u001b[1;32m    131\u001b[0m             \u001b[0moriginal_rows\u001b[0m \u001b[0;34m=\u001b[0m \u001b[0mtable\u001b[0m\u001b[0;34m.\u001b[0m\u001b[0mshape\u001b[0m\u001b[0;34m[\u001b[0m\u001b[0;36m0\u001b[0m\u001b[0;34m]\u001b[0m\u001b[0;34m\u001b[0m\u001b[0;34m\u001b[0m\u001b[0m\n\u001b[1;32m    132\u001b[0m             \u001b[0mindexNames\u001b[0m \u001b[0;34m=\u001b[0m \u001b[0mtable\u001b[0m\u001b[0;34m[\u001b[0m\u001b[0mtable\u001b[0m\u001b[0;34m[\u001b[0m\u001b[0;34m'counts'\u001b[0m\u001b[0;34m]\u001b[0m \u001b[0;34m<=\u001b[0m \u001b[0;36m0\u001b[0m\u001b[0;34m]\u001b[0m\u001b[0;34m.\u001b[0m\u001b[0mindex\u001b[0m\u001b[0;34m\u001b[0m\u001b[0;34m\u001b[0m\u001b[0m\n",
      "\u001b[0;32m/usr/local/lib/python3.7/site-packages/pandas/util/_decorators.py\u001b[0m in \u001b[0;36mwrapper\u001b[0;34m(*args, **kwargs)\u001b[0m\n\u001b[1;32m    309\u001b[0m                     \u001b[0mstacklevel\u001b[0m\u001b[0;34m=\u001b[0m\u001b[0mstacklevel\u001b[0m\u001b[0;34m,\u001b[0m\u001b[0;34m\u001b[0m\u001b[0;34m\u001b[0m\u001b[0m\n\u001b[1;32m    310\u001b[0m                 )\n\u001b[0;32m--> 311\u001b[0;31m             \u001b[0;32mreturn\u001b[0m \u001b[0mfunc\u001b[0m\u001b[0;34m(\u001b[0m\u001b[0;34m*\u001b[0m\u001b[0margs\u001b[0m\u001b[0;34m,\u001b[0m \u001b[0;34m**\u001b[0m\u001b[0mkwargs\u001b[0m\u001b[0;34m)\u001b[0m\u001b[0;34m\u001b[0m\u001b[0;34m\u001b[0m\u001b[0m\n\u001b[0m\u001b[1;32m    312\u001b[0m \u001b[0;34m\u001b[0m\u001b[0m\n\u001b[1;32m    313\u001b[0m         \u001b[0;32mreturn\u001b[0m \u001b[0mwrapper\u001b[0m\u001b[0;34m\u001b[0m\u001b[0;34m\u001b[0m\u001b[0m\n",
      "\u001b[0;32m/usr/local/lib/python3.7/site-packages/pandas/io/parsers/readers.py\u001b[0m in \u001b[0;36mread_csv\u001b[0;34m(filepath_or_buffer, sep, delimiter, header, names, index_col, usecols, squeeze, prefix, mangle_dupe_cols, dtype, engine, converters, true_values, false_values, skipinitialspace, skiprows, skipfooter, nrows, na_values, keep_default_na, na_filter, verbose, skip_blank_lines, parse_dates, infer_datetime_format, keep_date_col, date_parser, dayfirst, cache_dates, iterator, chunksize, compression, thousands, decimal, lineterminator, quotechar, quoting, doublequote, escapechar, comment, encoding, encoding_errors, dialect, error_bad_lines, warn_bad_lines, on_bad_lines, delim_whitespace, low_memory, memory_map, float_precision, storage_options)\u001b[0m\n\u001b[1;32m    584\u001b[0m     \u001b[0mkwds\u001b[0m\u001b[0;34m.\u001b[0m\u001b[0mupdate\u001b[0m\u001b[0;34m(\u001b[0m\u001b[0mkwds_defaults\u001b[0m\u001b[0;34m)\u001b[0m\u001b[0;34m\u001b[0m\u001b[0;34m\u001b[0m\u001b[0m\n\u001b[1;32m    585\u001b[0m \u001b[0;34m\u001b[0m\u001b[0m\n\u001b[0;32m--> 586\u001b[0;31m     \u001b[0;32mreturn\u001b[0m \u001b[0m_read\u001b[0m\u001b[0;34m(\u001b[0m\u001b[0mfilepath_or_buffer\u001b[0m\u001b[0;34m,\u001b[0m \u001b[0mkwds\u001b[0m\u001b[0;34m)\u001b[0m\u001b[0;34m\u001b[0m\u001b[0;34m\u001b[0m\u001b[0m\n\u001b[0m\u001b[1;32m    587\u001b[0m \u001b[0;34m\u001b[0m\u001b[0m\n\u001b[1;32m    588\u001b[0m \u001b[0;34m\u001b[0m\u001b[0m\n",
      "\u001b[0;32m/usr/local/lib/python3.7/site-packages/pandas/io/parsers/readers.py\u001b[0m in \u001b[0;36m_read\u001b[0;34m(filepath_or_buffer, kwds)\u001b[0m\n\u001b[1;32m    480\u001b[0m \u001b[0;34m\u001b[0m\u001b[0m\n\u001b[1;32m    481\u001b[0m     \u001b[0;31m# Create the parser.\u001b[0m\u001b[0;34m\u001b[0m\u001b[0;34m\u001b[0m\u001b[0;34m\u001b[0m\u001b[0m\n\u001b[0;32m--> 482\u001b[0;31m     \u001b[0mparser\u001b[0m \u001b[0;34m=\u001b[0m \u001b[0mTextFileReader\u001b[0m\u001b[0;34m(\u001b[0m\u001b[0mfilepath_or_buffer\u001b[0m\u001b[0;34m,\u001b[0m \u001b[0;34m**\u001b[0m\u001b[0mkwds\u001b[0m\u001b[0;34m)\u001b[0m\u001b[0;34m\u001b[0m\u001b[0;34m\u001b[0m\u001b[0m\n\u001b[0m\u001b[1;32m    483\u001b[0m \u001b[0;34m\u001b[0m\u001b[0m\n\u001b[1;32m    484\u001b[0m     \u001b[0;32mif\u001b[0m \u001b[0mchunksize\u001b[0m \u001b[0;32mor\u001b[0m \u001b[0miterator\u001b[0m\u001b[0;34m:\u001b[0m\u001b[0;34m\u001b[0m\u001b[0;34m\u001b[0m\u001b[0m\n",
      "\u001b[0;32m/usr/local/lib/python3.7/site-packages/pandas/io/parsers/readers.py\u001b[0m in \u001b[0;36m__init__\u001b[0;34m(self, f, engine, **kwds)\u001b[0m\n\u001b[1;32m    809\u001b[0m             \u001b[0mself\u001b[0m\u001b[0;34m.\u001b[0m\u001b[0moptions\u001b[0m\u001b[0;34m[\u001b[0m\u001b[0;34m\"has_index_names\"\u001b[0m\u001b[0;34m]\u001b[0m \u001b[0;34m=\u001b[0m \u001b[0mkwds\u001b[0m\u001b[0;34m[\u001b[0m\u001b[0;34m\"has_index_names\"\u001b[0m\u001b[0;34m]\u001b[0m\u001b[0;34m\u001b[0m\u001b[0;34m\u001b[0m\u001b[0m\n\u001b[1;32m    810\u001b[0m \u001b[0;34m\u001b[0m\u001b[0m\n\u001b[0;32m--> 811\u001b[0;31m         \u001b[0mself\u001b[0m\u001b[0;34m.\u001b[0m\u001b[0m_engine\u001b[0m \u001b[0;34m=\u001b[0m \u001b[0mself\u001b[0m\u001b[0;34m.\u001b[0m\u001b[0m_make_engine\u001b[0m\u001b[0;34m(\u001b[0m\u001b[0mself\u001b[0m\u001b[0;34m.\u001b[0m\u001b[0mengine\u001b[0m\u001b[0;34m)\u001b[0m\u001b[0;34m\u001b[0m\u001b[0;34m\u001b[0m\u001b[0m\n\u001b[0m\u001b[1;32m    812\u001b[0m \u001b[0;34m\u001b[0m\u001b[0m\n\u001b[1;32m    813\u001b[0m     \u001b[0;32mdef\u001b[0m \u001b[0mclose\u001b[0m\u001b[0;34m(\u001b[0m\u001b[0mself\u001b[0m\u001b[0;34m)\u001b[0m\u001b[0;34m:\u001b[0m\u001b[0;34m\u001b[0m\u001b[0;34m\u001b[0m\u001b[0m\n",
      "\u001b[0;32m/usr/local/lib/python3.7/site-packages/pandas/io/parsers/readers.py\u001b[0m in \u001b[0;36m_make_engine\u001b[0;34m(self, engine)\u001b[0m\n\u001b[1;32m   1038\u001b[0m             )\n\u001b[1;32m   1039\u001b[0m         \u001b[0;31m# error: Too many arguments for \"ParserBase\"\u001b[0m\u001b[0;34m\u001b[0m\u001b[0;34m\u001b[0m\u001b[0;34m\u001b[0m\u001b[0m\n\u001b[0;32m-> 1040\u001b[0;31m         \u001b[0;32mreturn\u001b[0m \u001b[0mmapping\u001b[0m\u001b[0;34m[\u001b[0m\u001b[0mengine\u001b[0m\u001b[0;34m]\u001b[0m\u001b[0;34m(\u001b[0m\u001b[0mself\u001b[0m\u001b[0;34m.\u001b[0m\u001b[0mf\u001b[0m\u001b[0;34m,\u001b[0m \u001b[0;34m**\u001b[0m\u001b[0mself\u001b[0m\u001b[0;34m.\u001b[0m\u001b[0moptions\u001b[0m\u001b[0;34m)\u001b[0m  \u001b[0;31m# type: ignore[call-arg]\u001b[0m\u001b[0;34m\u001b[0m\u001b[0;34m\u001b[0m\u001b[0m\n\u001b[0m\u001b[1;32m   1041\u001b[0m \u001b[0;34m\u001b[0m\u001b[0m\n\u001b[1;32m   1042\u001b[0m     \u001b[0;32mdef\u001b[0m \u001b[0m_failover_to_python\u001b[0m\u001b[0;34m(\u001b[0m\u001b[0mself\u001b[0m\u001b[0;34m)\u001b[0m\u001b[0;34m:\u001b[0m\u001b[0;34m\u001b[0m\u001b[0;34m\u001b[0m\u001b[0m\n",
      "\u001b[0;32m/usr/local/lib/python3.7/site-packages/pandas/io/parsers/c_parser_wrapper.py\u001b[0m in \u001b[0;36m__init__\u001b[0;34m(self, src, **kwds)\u001b[0m\n\u001b[1;32m     49\u001b[0m \u001b[0;34m\u001b[0m\u001b[0m\n\u001b[1;32m     50\u001b[0m         \u001b[0;31m# open handles\u001b[0m\u001b[0;34m\u001b[0m\u001b[0;34m\u001b[0m\u001b[0;34m\u001b[0m\u001b[0m\n\u001b[0;32m---> 51\u001b[0;31m         \u001b[0mself\u001b[0m\u001b[0;34m.\u001b[0m\u001b[0m_open_handles\u001b[0m\u001b[0;34m(\u001b[0m\u001b[0msrc\u001b[0m\u001b[0;34m,\u001b[0m \u001b[0mkwds\u001b[0m\u001b[0;34m)\u001b[0m\u001b[0;34m\u001b[0m\u001b[0;34m\u001b[0m\u001b[0m\n\u001b[0m\u001b[1;32m     52\u001b[0m         \u001b[0;32massert\u001b[0m \u001b[0mself\u001b[0m\u001b[0;34m.\u001b[0m\u001b[0mhandles\u001b[0m \u001b[0;32mis\u001b[0m \u001b[0;32mnot\u001b[0m \u001b[0;32mNone\u001b[0m\u001b[0;34m\u001b[0m\u001b[0;34m\u001b[0m\u001b[0m\n\u001b[1;32m     53\u001b[0m \u001b[0;34m\u001b[0m\u001b[0m\n",
      "\u001b[0;32m/usr/local/lib/python3.7/site-packages/pandas/io/parsers/base_parser.py\u001b[0m in \u001b[0;36m_open_handles\u001b[0;34m(self, src, kwds)\u001b[0m\n\u001b[1;32m    227\u001b[0m             \u001b[0mmemory_map\u001b[0m\u001b[0;34m=\u001b[0m\u001b[0mkwds\u001b[0m\u001b[0;34m.\u001b[0m\u001b[0mget\u001b[0m\u001b[0;34m(\u001b[0m\u001b[0;34m\"memory_map\"\u001b[0m\u001b[0;34m,\u001b[0m \u001b[0;32mFalse\u001b[0m\u001b[0;34m)\u001b[0m\u001b[0;34m,\u001b[0m\u001b[0;34m\u001b[0m\u001b[0;34m\u001b[0m\u001b[0m\n\u001b[1;32m    228\u001b[0m             \u001b[0mstorage_options\u001b[0m\u001b[0;34m=\u001b[0m\u001b[0mkwds\u001b[0m\u001b[0;34m.\u001b[0m\u001b[0mget\u001b[0m\u001b[0;34m(\u001b[0m\u001b[0;34m\"storage_options\"\u001b[0m\u001b[0;34m,\u001b[0m \u001b[0;32mNone\u001b[0m\u001b[0;34m)\u001b[0m\u001b[0;34m,\u001b[0m\u001b[0;34m\u001b[0m\u001b[0;34m\u001b[0m\u001b[0m\n\u001b[0;32m--> 229\u001b[0;31m             \u001b[0merrors\u001b[0m\u001b[0;34m=\u001b[0m\u001b[0mkwds\u001b[0m\u001b[0;34m.\u001b[0m\u001b[0mget\u001b[0m\u001b[0;34m(\u001b[0m\u001b[0;34m\"encoding_errors\"\u001b[0m\u001b[0;34m,\u001b[0m \u001b[0;34m\"strict\"\u001b[0m\u001b[0;34m)\u001b[0m\u001b[0;34m,\u001b[0m\u001b[0;34m\u001b[0m\u001b[0;34m\u001b[0m\u001b[0m\n\u001b[0m\u001b[1;32m    230\u001b[0m         )\n\u001b[1;32m    231\u001b[0m \u001b[0;34m\u001b[0m\u001b[0m\n",
      "\u001b[0;32m/usr/local/lib/python3.7/site-packages/pandas/io/common.py\u001b[0m in \u001b[0;36mget_handle\u001b[0;34m(path_or_buf, mode, encoding, compression, memory_map, is_text, errors, storage_options)\u001b[0m\n\u001b[1;32m    705\u001b[0m                 \u001b[0mencoding\u001b[0m\u001b[0;34m=\u001b[0m\u001b[0mioargs\u001b[0m\u001b[0;34m.\u001b[0m\u001b[0mencoding\u001b[0m\u001b[0;34m,\u001b[0m\u001b[0;34m\u001b[0m\u001b[0;34m\u001b[0m\u001b[0m\n\u001b[1;32m    706\u001b[0m                 \u001b[0merrors\u001b[0m\u001b[0;34m=\u001b[0m\u001b[0merrors\u001b[0m\u001b[0;34m,\u001b[0m\u001b[0;34m\u001b[0m\u001b[0;34m\u001b[0m\u001b[0m\n\u001b[0;32m--> 707\u001b[0;31m                 \u001b[0mnewline\u001b[0m\u001b[0;34m=\u001b[0m\u001b[0;34m\"\"\u001b[0m\u001b[0;34m,\u001b[0m\u001b[0;34m\u001b[0m\u001b[0;34m\u001b[0m\u001b[0m\n\u001b[0m\u001b[1;32m    708\u001b[0m             )\n\u001b[1;32m    709\u001b[0m         \u001b[0;32melse\u001b[0m\u001b[0;34m:\u001b[0m\u001b[0;34m\u001b[0m\u001b[0;34m\u001b[0m\u001b[0m\n",
      "\u001b[0;31mFileNotFoundError\u001b[0m: [Errno 2] No such file or directory: './data/human_protein/TpoR/TpoR_S505NMPL/allele_counts/single_allele_counts_rep1.csv'"
     ]
    }
   ],
   "source": [
    "%%time\n",
    "# Arguments input\n",
    "TARGET_PROTEIN = 'TpoR_S505NMPL'\n",
    "REPLICATES = [1, 2, 3, 4, 5, 6] \n",
    "SITE_START, SITE_END = 1, 31\n",
    "INPUT_DIR = './data/human_protein/TpoR/TpoR_S505NMPL/allele_counts/'                            # Allele counts file input directory\n",
    "OUTPUT_DIR = './outputs/human_protein/TpoR/TpoR_S505NMPL/selection_coefficients/'    # Estimate selection coefficients file output directory\n",
    "EPISTASIS = False\n",
    "REGULARIZATION_PERCENT = 10\n",
    "\n",
    "human_pipeline(TARGET_PROTEIN, REPLICATES, SITE_START, SITE_END, INPUT_DIR, OUTPUT_DIR, EPISTASIS, REGULARIZATION_PERCENT)\n",
    "\n",
    "# INPUT_FILE_PREFIX, FLAG_LIST, SITES = MPL.initialization(SITE_START, SITE_END, INPUT_DIR, OUTPUT_DIR, EPISTASIS)\n",
    "\n",
    "# FREQUENCY_DIFF, COVARIANCE_MATRIX, MAX_READ = MPL_elements(FLAG_LIST, INPUT_DIR, REPLICATES, INPUT_FILE_PREFIX, SITES)\n",
    "\n",
    "# REGULARIZATION_LIST = [np.power(10, float(i)) for i in range(int(np.log10(1/MAX_READ)-1), 4)]\n",
    "# CORRELATION_LIST = optimize_regularization(REGULARIZATION_LIST, SITES, COVARIANCE_MATRIX, FREQUENCY_DIFF, REPLICATES)\n",
    "\n",
    "# plot_reg_corr(REGULARIZATION_LIST, CORRELATION_LIST, TARGET_PROTEIN)\n",
    "\n",
    "\n",
    "# REGULARIZATION_SELECTED = find_best_regularization(REGULARIZATION_LIST, CORRELATION_LIST, REGULARIZATION_PERCENT)"
   ]
  },
  {
   "cell_type": "markdown",
   "metadata": {},
   "source": [
    "# Ube4b"
   ]
  },
  {
   "cell_type": "code",
   "execution_count": 8,
   "metadata": {
    "scrolled": false
   },
   "outputs": [
    {
     "name": "stdout",
     "output_type": "stream",
     "text": [
      "Reading single allele counts files from:\n",
      "  ./data/human_protein/Ube4b/allele_counts/single_allele_counts_rep1.csv\n"
     ]
    },
    {
     "ename": "FileNotFoundError",
     "evalue": "[Errno 2] No such file or directory: './data/human_protein/Ube4b/allele_counts/single_allele_counts_rep1.csv'",
     "output_type": "error",
     "traceback": [
      "\u001b[0;31m---------------------------------------------------------------------------\u001b[0m",
      "\u001b[0;31mFileNotFoundError\u001b[0m                         Traceback (most recent call last)",
      "\u001b[0;32m<timed exec>\u001b[0m in \u001b[0;36m<module>\u001b[0;34m\u001b[0m\n",
      "\u001b[0;32m<ipython-input-3-c21173207858>\u001b[0m in \u001b[0;36mhuman_pipeline\u001b[0;34m(TARGET_PROTEIN, REPLICATES, SITE_START, SITE_END, INPUT_DIR, OUTPUT_DIR, EPISTASIS, REGULARIZATION_PERCENT)\u001b[0m\n\u001b[1;32m      2\u001b[0m     \u001b[0mINPUT_FILE_PREFIX\u001b[0m\u001b[0;34m,\u001b[0m \u001b[0mFLAG_LIST\u001b[0m\u001b[0;34m,\u001b[0m \u001b[0mSITES\u001b[0m \u001b[0;34m=\u001b[0m \u001b[0mMPL\u001b[0m\u001b[0;34m.\u001b[0m\u001b[0minitialization\u001b[0m\u001b[0;34m(\u001b[0m\u001b[0mSITE_START\u001b[0m\u001b[0;34m,\u001b[0m \u001b[0mSITE_END\u001b[0m\u001b[0;34m,\u001b[0m \u001b[0mINPUT_DIR\u001b[0m\u001b[0;34m,\u001b[0m \u001b[0mOUTPUT_DIR\u001b[0m\u001b[0;34m,\u001b[0m \u001b[0mEPISTASIS\u001b[0m\u001b[0;34m)\u001b[0m\u001b[0;34m\u001b[0m\u001b[0;34m\u001b[0m\u001b[0m\n\u001b[1;32m      3\u001b[0m \u001b[0;34m\u001b[0m\u001b[0m\n\u001b[0;32m----> 4\u001b[0;31m     \u001b[0mFREQUENCY_DIFF\u001b[0m\u001b[0;34m,\u001b[0m \u001b[0mCOVARIANCE_MATRIX\u001b[0m\u001b[0;34m,\u001b[0m \u001b[0mMAX_READ\u001b[0m \u001b[0;34m=\u001b[0m \u001b[0mMPL_elements\u001b[0m\u001b[0;34m(\u001b[0m\u001b[0mFLAG_LIST\u001b[0m\u001b[0;34m,\u001b[0m \u001b[0mINPUT_DIR\u001b[0m\u001b[0;34m,\u001b[0m \u001b[0mREPLICATES\u001b[0m\u001b[0;34m,\u001b[0m \u001b[0mINPUT_FILE_PREFIX\u001b[0m\u001b[0;34m,\u001b[0m \u001b[0mSITES\u001b[0m\u001b[0;34m)\u001b[0m\u001b[0;34m\u001b[0m\u001b[0;34m\u001b[0m\u001b[0m\n\u001b[0m\u001b[1;32m      5\u001b[0m \u001b[0;34m\u001b[0m\u001b[0m\n\u001b[1;32m      6\u001b[0m \u001b[0;31m#     print(COVARIANCE_MATRIX['amino_acid'][1])\u001b[0m\u001b[0;34m\u001b[0m\u001b[0;34m\u001b[0m\u001b[0;34m\u001b[0m\u001b[0m\n",
      "\u001b[0;32m<ipython-input-3-c21173207858>\u001b[0m in \u001b[0;36mMPL_elements\u001b[0;34m(flag_list, Input_dir, replicates, Input_file_prefix, sites)\u001b[0m\n\u001b[1;32m     26\u001b[0m     \u001b[0;32mfor\u001b[0m \u001b[0mflag\u001b[0m \u001b[0;32min\u001b[0m \u001b[0mflag_list\u001b[0m\u001b[0;34m:\u001b[0m\u001b[0;34m\u001b[0m\u001b[0;34m\u001b[0m\u001b[0m\n\u001b[1;32m     27\u001b[0m         \u001b[0mprint\u001b[0m\u001b[0;34m(\u001b[0m\u001b[0;34m'Reading %s allele counts files from:'\u001b[0m \u001b[0;34m%\u001b[0m\u001b[0mflag\u001b[0m\u001b[0;34m)\u001b[0m\u001b[0;34m\u001b[0m\u001b[0;34m\u001b[0m\u001b[0m\n\u001b[0;32m---> 28\u001b[0;31m         \u001b[0mdf_counts_dict\u001b[0m\u001b[0;34m[\u001b[0m\u001b[0mflag\u001b[0m\u001b[0;34m]\u001b[0m \u001b[0;34m=\u001b[0m \u001b[0mMPL\u001b[0m\u001b[0;34m.\u001b[0m\u001b[0mget_counts\u001b[0m\u001b[0;34m(\u001b[0m\u001b[0mInput_dir\u001b[0m\u001b[0;34m,\u001b[0m \u001b[0mreplicates\u001b[0m\u001b[0;34m,\u001b[0m \u001b[0mInput_file_prefix\u001b[0m\u001b[0;34m,\u001b[0m \u001b[0mflag\u001b[0m\u001b[0;34m)\u001b[0m\u001b[0;34m\u001b[0m\u001b[0;34m\u001b[0m\u001b[0m\n\u001b[0m\u001b[1;32m     29\u001b[0m \u001b[0;34m\u001b[0m\u001b[0m\n\u001b[1;32m     30\u001b[0m     \u001b[0mdf_frequency_dict\u001b[0m \u001b[0;34m=\u001b[0m \u001b[0;34m{\u001b[0m\u001b[0;34m}\u001b[0m\u001b[0;34m\u001b[0m\u001b[0;34m\u001b[0m\u001b[0m\n",
      "\u001b[0;32m~/Downloads/paper-DMS-inference/MPL.py\u001b[0m in \u001b[0;36mget_counts\u001b[0;34m(Input_dir, replicates, Input_file_prefix, flag)\u001b[0m\n\u001b[1;32m    128\u001b[0m             \u001b[0mInput_file\u001b[0m \u001b[0;34m=\u001b[0m \u001b[0mInput_dir\u001b[0m \u001b[0;34m+\u001b[0m \u001b[0mInput_file_prefix\u001b[0m\u001b[0;34m[\u001b[0m\u001b[0mflag\u001b[0m\u001b[0;34m]\u001b[0m \u001b[0;34m+\u001b[0m \u001b[0mstr\u001b[0m\u001b[0;34m(\u001b[0m\u001b[0mreplicate\u001b[0m\u001b[0;34m)\u001b[0m \u001b[0;34m+\u001b[0m \u001b[0;34m'.csv'\u001b[0m\u001b[0;34m\u001b[0m\u001b[0;34m\u001b[0m\u001b[0m\n\u001b[1;32m    129\u001b[0m             \u001b[0mprint\u001b[0m\u001b[0;34m(\u001b[0m\u001b[0;34m' '\u001b[0m\u001b[0;34m,\u001b[0m \u001b[0mInput_file\u001b[0m\u001b[0;34m)\u001b[0m\u001b[0;34m\u001b[0m\u001b[0;34m\u001b[0m\u001b[0m\n\u001b[0;32m--> 130\u001b[0;31m             \u001b[0mtable\u001b[0m \u001b[0;34m=\u001b[0m \u001b[0mpd\u001b[0m\u001b[0;34m.\u001b[0m\u001b[0mread_csv\u001b[0m\u001b[0;34m(\u001b[0m\u001b[0mInput_file\u001b[0m\u001b[0;34m)\u001b[0m\u001b[0;34m\u001b[0m\u001b[0;34m\u001b[0m\u001b[0m\n\u001b[0m\u001b[1;32m    131\u001b[0m             \u001b[0moriginal_rows\u001b[0m \u001b[0;34m=\u001b[0m \u001b[0mtable\u001b[0m\u001b[0;34m.\u001b[0m\u001b[0mshape\u001b[0m\u001b[0;34m[\u001b[0m\u001b[0;36m0\u001b[0m\u001b[0;34m]\u001b[0m\u001b[0;34m\u001b[0m\u001b[0;34m\u001b[0m\u001b[0m\n\u001b[1;32m    132\u001b[0m             \u001b[0mindexNames\u001b[0m \u001b[0;34m=\u001b[0m \u001b[0mtable\u001b[0m\u001b[0;34m[\u001b[0m\u001b[0mtable\u001b[0m\u001b[0;34m[\u001b[0m\u001b[0;34m'counts'\u001b[0m\u001b[0;34m]\u001b[0m \u001b[0;34m<=\u001b[0m \u001b[0;36m0\u001b[0m\u001b[0;34m]\u001b[0m\u001b[0;34m.\u001b[0m\u001b[0mindex\u001b[0m\u001b[0;34m\u001b[0m\u001b[0;34m\u001b[0m\u001b[0m\n",
      "\u001b[0;32m/usr/local/lib/python3.7/site-packages/pandas/util/_decorators.py\u001b[0m in \u001b[0;36mwrapper\u001b[0;34m(*args, **kwargs)\u001b[0m\n\u001b[1;32m    309\u001b[0m                     \u001b[0mstacklevel\u001b[0m\u001b[0;34m=\u001b[0m\u001b[0mstacklevel\u001b[0m\u001b[0;34m,\u001b[0m\u001b[0;34m\u001b[0m\u001b[0;34m\u001b[0m\u001b[0m\n\u001b[1;32m    310\u001b[0m                 )\n\u001b[0;32m--> 311\u001b[0;31m             \u001b[0;32mreturn\u001b[0m \u001b[0mfunc\u001b[0m\u001b[0;34m(\u001b[0m\u001b[0;34m*\u001b[0m\u001b[0margs\u001b[0m\u001b[0;34m,\u001b[0m \u001b[0;34m**\u001b[0m\u001b[0mkwargs\u001b[0m\u001b[0;34m)\u001b[0m\u001b[0;34m\u001b[0m\u001b[0;34m\u001b[0m\u001b[0m\n\u001b[0m\u001b[1;32m    312\u001b[0m \u001b[0;34m\u001b[0m\u001b[0m\n\u001b[1;32m    313\u001b[0m         \u001b[0;32mreturn\u001b[0m \u001b[0mwrapper\u001b[0m\u001b[0;34m\u001b[0m\u001b[0;34m\u001b[0m\u001b[0m\n",
      "\u001b[0;32m/usr/local/lib/python3.7/site-packages/pandas/io/parsers/readers.py\u001b[0m in \u001b[0;36mread_csv\u001b[0;34m(filepath_or_buffer, sep, delimiter, header, names, index_col, usecols, squeeze, prefix, mangle_dupe_cols, dtype, engine, converters, true_values, false_values, skipinitialspace, skiprows, skipfooter, nrows, na_values, keep_default_na, na_filter, verbose, skip_blank_lines, parse_dates, infer_datetime_format, keep_date_col, date_parser, dayfirst, cache_dates, iterator, chunksize, compression, thousands, decimal, lineterminator, quotechar, quoting, doublequote, escapechar, comment, encoding, encoding_errors, dialect, error_bad_lines, warn_bad_lines, on_bad_lines, delim_whitespace, low_memory, memory_map, float_precision, storage_options)\u001b[0m\n\u001b[1;32m    584\u001b[0m     \u001b[0mkwds\u001b[0m\u001b[0;34m.\u001b[0m\u001b[0mupdate\u001b[0m\u001b[0;34m(\u001b[0m\u001b[0mkwds_defaults\u001b[0m\u001b[0;34m)\u001b[0m\u001b[0;34m\u001b[0m\u001b[0;34m\u001b[0m\u001b[0m\n\u001b[1;32m    585\u001b[0m \u001b[0;34m\u001b[0m\u001b[0m\n\u001b[0;32m--> 586\u001b[0;31m     \u001b[0;32mreturn\u001b[0m \u001b[0m_read\u001b[0m\u001b[0;34m(\u001b[0m\u001b[0mfilepath_or_buffer\u001b[0m\u001b[0;34m,\u001b[0m \u001b[0mkwds\u001b[0m\u001b[0;34m)\u001b[0m\u001b[0;34m\u001b[0m\u001b[0;34m\u001b[0m\u001b[0m\n\u001b[0m\u001b[1;32m    587\u001b[0m \u001b[0;34m\u001b[0m\u001b[0m\n\u001b[1;32m    588\u001b[0m \u001b[0;34m\u001b[0m\u001b[0m\n",
      "\u001b[0;32m/usr/local/lib/python3.7/site-packages/pandas/io/parsers/readers.py\u001b[0m in \u001b[0;36m_read\u001b[0;34m(filepath_or_buffer, kwds)\u001b[0m\n\u001b[1;32m    480\u001b[0m \u001b[0;34m\u001b[0m\u001b[0m\n\u001b[1;32m    481\u001b[0m     \u001b[0;31m# Create the parser.\u001b[0m\u001b[0;34m\u001b[0m\u001b[0;34m\u001b[0m\u001b[0;34m\u001b[0m\u001b[0m\n\u001b[0;32m--> 482\u001b[0;31m     \u001b[0mparser\u001b[0m \u001b[0;34m=\u001b[0m \u001b[0mTextFileReader\u001b[0m\u001b[0;34m(\u001b[0m\u001b[0mfilepath_or_buffer\u001b[0m\u001b[0;34m,\u001b[0m \u001b[0;34m**\u001b[0m\u001b[0mkwds\u001b[0m\u001b[0;34m)\u001b[0m\u001b[0;34m\u001b[0m\u001b[0;34m\u001b[0m\u001b[0m\n\u001b[0m\u001b[1;32m    483\u001b[0m \u001b[0;34m\u001b[0m\u001b[0m\n\u001b[1;32m    484\u001b[0m     \u001b[0;32mif\u001b[0m \u001b[0mchunksize\u001b[0m \u001b[0;32mor\u001b[0m \u001b[0miterator\u001b[0m\u001b[0;34m:\u001b[0m\u001b[0;34m\u001b[0m\u001b[0;34m\u001b[0m\u001b[0m\n",
      "\u001b[0;32m/usr/local/lib/python3.7/site-packages/pandas/io/parsers/readers.py\u001b[0m in \u001b[0;36m__init__\u001b[0;34m(self, f, engine, **kwds)\u001b[0m\n\u001b[1;32m    809\u001b[0m             \u001b[0mself\u001b[0m\u001b[0;34m.\u001b[0m\u001b[0moptions\u001b[0m\u001b[0;34m[\u001b[0m\u001b[0;34m\"has_index_names\"\u001b[0m\u001b[0;34m]\u001b[0m \u001b[0;34m=\u001b[0m \u001b[0mkwds\u001b[0m\u001b[0;34m[\u001b[0m\u001b[0;34m\"has_index_names\"\u001b[0m\u001b[0;34m]\u001b[0m\u001b[0;34m\u001b[0m\u001b[0;34m\u001b[0m\u001b[0m\n\u001b[1;32m    810\u001b[0m \u001b[0;34m\u001b[0m\u001b[0m\n\u001b[0;32m--> 811\u001b[0;31m         \u001b[0mself\u001b[0m\u001b[0;34m.\u001b[0m\u001b[0m_engine\u001b[0m \u001b[0;34m=\u001b[0m \u001b[0mself\u001b[0m\u001b[0;34m.\u001b[0m\u001b[0m_make_engine\u001b[0m\u001b[0;34m(\u001b[0m\u001b[0mself\u001b[0m\u001b[0;34m.\u001b[0m\u001b[0mengine\u001b[0m\u001b[0;34m)\u001b[0m\u001b[0;34m\u001b[0m\u001b[0;34m\u001b[0m\u001b[0m\n\u001b[0m\u001b[1;32m    812\u001b[0m \u001b[0;34m\u001b[0m\u001b[0m\n\u001b[1;32m    813\u001b[0m     \u001b[0;32mdef\u001b[0m \u001b[0mclose\u001b[0m\u001b[0;34m(\u001b[0m\u001b[0mself\u001b[0m\u001b[0;34m)\u001b[0m\u001b[0;34m:\u001b[0m\u001b[0;34m\u001b[0m\u001b[0;34m\u001b[0m\u001b[0m\n",
      "\u001b[0;32m/usr/local/lib/python3.7/site-packages/pandas/io/parsers/readers.py\u001b[0m in \u001b[0;36m_make_engine\u001b[0;34m(self, engine)\u001b[0m\n\u001b[1;32m   1038\u001b[0m             )\n\u001b[1;32m   1039\u001b[0m         \u001b[0;31m# error: Too many arguments for \"ParserBase\"\u001b[0m\u001b[0;34m\u001b[0m\u001b[0;34m\u001b[0m\u001b[0;34m\u001b[0m\u001b[0m\n\u001b[0;32m-> 1040\u001b[0;31m         \u001b[0;32mreturn\u001b[0m \u001b[0mmapping\u001b[0m\u001b[0;34m[\u001b[0m\u001b[0mengine\u001b[0m\u001b[0;34m]\u001b[0m\u001b[0;34m(\u001b[0m\u001b[0mself\u001b[0m\u001b[0;34m.\u001b[0m\u001b[0mf\u001b[0m\u001b[0;34m,\u001b[0m \u001b[0;34m**\u001b[0m\u001b[0mself\u001b[0m\u001b[0;34m.\u001b[0m\u001b[0moptions\u001b[0m\u001b[0;34m)\u001b[0m  \u001b[0;31m# type: ignore[call-arg]\u001b[0m\u001b[0;34m\u001b[0m\u001b[0;34m\u001b[0m\u001b[0m\n\u001b[0m\u001b[1;32m   1041\u001b[0m \u001b[0;34m\u001b[0m\u001b[0m\n\u001b[1;32m   1042\u001b[0m     \u001b[0;32mdef\u001b[0m \u001b[0m_failover_to_python\u001b[0m\u001b[0;34m(\u001b[0m\u001b[0mself\u001b[0m\u001b[0;34m)\u001b[0m\u001b[0;34m:\u001b[0m\u001b[0;34m\u001b[0m\u001b[0;34m\u001b[0m\u001b[0m\n",
      "\u001b[0;32m/usr/local/lib/python3.7/site-packages/pandas/io/parsers/c_parser_wrapper.py\u001b[0m in \u001b[0;36m__init__\u001b[0;34m(self, src, **kwds)\u001b[0m\n\u001b[1;32m     49\u001b[0m \u001b[0;34m\u001b[0m\u001b[0m\n\u001b[1;32m     50\u001b[0m         \u001b[0;31m# open handles\u001b[0m\u001b[0;34m\u001b[0m\u001b[0;34m\u001b[0m\u001b[0;34m\u001b[0m\u001b[0m\n\u001b[0;32m---> 51\u001b[0;31m         \u001b[0mself\u001b[0m\u001b[0;34m.\u001b[0m\u001b[0m_open_handles\u001b[0m\u001b[0;34m(\u001b[0m\u001b[0msrc\u001b[0m\u001b[0;34m,\u001b[0m \u001b[0mkwds\u001b[0m\u001b[0;34m)\u001b[0m\u001b[0;34m\u001b[0m\u001b[0;34m\u001b[0m\u001b[0m\n\u001b[0m\u001b[1;32m     52\u001b[0m         \u001b[0;32massert\u001b[0m \u001b[0mself\u001b[0m\u001b[0;34m.\u001b[0m\u001b[0mhandles\u001b[0m \u001b[0;32mis\u001b[0m \u001b[0;32mnot\u001b[0m \u001b[0;32mNone\u001b[0m\u001b[0;34m\u001b[0m\u001b[0;34m\u001b[0m\u001b[0m\n\u001b[1;32m     53\u001b[0m \u001b[0;34m\u001b[0m\u001b[0m\n",
      "\u001b[0;32m/usr/local/lib/python3.7/site-packages/pandas/io/parsers/base_parser.py\u001b[0m in \u001b[0;36m_open_handles\u001b[0;34m(self, src, kwds)\u001b[0m\n\u001b[1;32m    227\u001b[0m             \u001b[0mmemory_map\u001b[0m\u001b[0;34m=\u001b[0m\u001b[0mkwds\u001b[0m\u001b[0;34m.\u001b[0m\u001b[0mget\u001b[0m\u001b[0;34m(\u001b[0m\u001b[0;34m\"memory_map\"\u001b[0m\u001b[0;34m,\u001b[0m \u001b[0;32mFalse\u001b[0m\u001b[0;34m)\u001b[0m\u001b[0;34m,\u001b[0m\u001b[0;34m\u001b[0m\u001b[0;34m\u001b[0m\u001b[0m\n\u001b[1;32m    228\u001b[0m             \u001b[0mstorage_options\u001b[0m\u001b[0;34m=\u001b[0m\u001b[0mkwds\u001b[0m\u001b[0;34m.\u001b[0m\u001b[0mget\u001b[0m\u001b[0;34m(\u001b[0m\u001b[0;34m\"storage_options\"\u001b[0m\u001b[0;34m,\u001b[0m \u001b[0;32mNone\u001b[0m\u001b[0;34m)\u001b[0m\u001b[0;34m,\u001b[0m\u001b[0;34m\u001b[0m\u001b[0;34m\u001b[0m\u001b[0m\n\u001b[0;32m--> 229\u001b[0;31m             \u001b[0merrors\u001b[0m\u001b[0;34m=\u001b[0m\u001b[0mkwds\u001b[0m\u001b[0;34m.\u001b[0m\u001b[0mget\u001b[0m\u001b[0;34m(\u001b[0m\u001b[0;34m\"encoding_errors\"\u001b[0m\u001b[0;34m,\u001b[0m \u001b[0;34m\"strict\"\u001b[0m\u001b[0;34m)\u001b[0m\u001b[0;34m,\u001b[0m\u001b[0;34m\u001b[0m\u001b[0;34m\u001b[0m\u001b[0m\n\u001b[0m\u001b[1;32m    230\u001b[0m         )\n\u001b[1;32m    231\u001b[0m \u001b[0;34m\u001b[0m\u001b[0m\n",
      "\u001b[0;32m/usr/local/lib/python3.7/site-packages/pandas/io/common.py\u001b[0m in \u001b[0;36mget_handle\u001b[0;34m(path_or_buf, mode, encoding, compression, memory_map, is_text, errors, storage_options)\u001b[0m\n\u001b[1;32m    705\u001b[0m                 \u001b[0mencoding\u001b[0m\u001b[0;34m=\u001b[0m\u001b[0mioargs\u001b[0m\u001b[0;34m.\u001b[0m\u001b[0mencoding\u001b[0m\u001b[0;34m,\u001b[0m\u001b[0;34m\u001b[0m\u001b[0;34m\u001b[0m\u001b[0m\n\u001b[1;32m    706\u001b[0m                 \u001b[0merrors\u001b[0m\u001b[0;34m=\u001b[0m\u001b[0merrors\u001b[0m\u001b[0;34m,\u001b[0m\u001b[0;34m\u001b[0m\u001b[0;34m\u001b[0m\u001b[0m\n\u001b[0;32m--> 707\u001b[0;31m                 \u001b[0mnewline\u001b[0m\u001b[0;34m=\u001b[0m\u001b[0;34m\"\"\u001b[0m\u001b[0;34m,\u001b[0m\u001b[0;34m\u001b[0m\u001b[0;34m\u001b[0m\u001b[0m\n\u001b[0m\u001b[1;32m    708\u001b[0m             )\n\u001b[1;32m    709\u001b[0m         \u001b[0;32melse\u001b[0m\u001b[0;34m:\u001b[0m\u001b[0;34m\u001b[0m\u001b[0;34m\u001b[0m\u001b[0m\n",
      "\u001b[0;31mFileNotFoundError\u001b[0m: [Errno 2] No such file or directory: './data/human_protein/Ube4b/allele_counts/single_allele_counts_rep1.csv'"
     ]
    }
   ],
   "source": [
    "%%time\n",
    "# Arguments input\n",
    "TARGET_PROTEIN = 'Ube4b'\n",
    "REPLICATES = [1, 2] \n",
    "SITE_START, SITE_END = 1, 103\n",
    "INPUT_DIR = './data/human_protein/Ube4b/allele_counts/'                            # Allele counts file input directory\n",
    "OUTPUT_DIR = './outputs/human_protein/Ube4b/selection_coefficients/'    # Estimate selection coefficients file output directory\n",
    "EPISTASIS = False\n",
    "REGULARIZATION_PERCENT = 10\n",
    "\n",
    "human_pipeline(TARGET_PROTEIN, REPLICATES, SITE_START, SITE_END, INPUT_DIR, OUTPUT_DIR, EPISTASIS, REGULARIZATION_PERCENT)\n",
    "\n",
    "# INPUT_FILE_PREFIX, FLAG_LIST, SITES = MPL.initialization(SITE_START, SITE_END, INPUT_DIR, OUTPUT_DIR, EPISTASIS)\n",
    "\n",
    "# FREQUENCY_DIFF, COVARIANCE_MATRIX, MAX_READ = MPL_elements(FLAG_LIST, INPUT_DIR, REPLICATES, INPUT_FILE_PREFIX, SITES)\n",
    "\n",
    "# REGULARIZATION_LIST = [np.power(10, float(i)) for i in range(int(np.log10(1/MAX_READ)-1), 4)]\n",
    "# CORRELATION_LIST = optimize_regularization(REGULARIZATION_LIST, SITES, COVARIANCE_MATRIX, FREQUENCY_DIFF, REPLICATES)\n",
    "\n",
    "# plot_reg_corr(REGULARIZATION_LIST, CORRELATION_LIST, TARGET_PROTEIN)\n",
    "\n",
    "\n",
    "# REGULARIZATION_SELECTED = find_best_regularization(REGULARIZATION_LIST, CORRELATION_LIST, REGULARIZATION_PERCENT)"
   ]
  },
  {
   "cell_type": "markdown",
   "metadata": {},
   "source": [
    "# Virus proteins"
   ]
  },
  {
   "cell_type": "markdown",
   "metadata": {},
   "source": [
    "# Influenza PR8"
   ]
  },
  {
   "cell_type": "code",
   "execution_count": 9,
   "metadata": {
    "scrolled": false
   },
   "outputs": [
    {
     "name": "stdout",
     "output_type": "stream",
     "text": [
      "------ Calculating single replicate selection coefficients for PR8 ------\n",
      "\n",
      "Calculating error probability from DNA_codoncounts.csv...\n",
      "\n",
      "Calculating selection coefficients for replicate_1 of PR8:\n",
      "Correcting reads and computing allele frequency difference and mutational contribution...\n",
      "Calculating selection coefficients for replicate_2 of PR8:\n",
      "Correcting reads and computing allele frequency difference and mutational contribution...\n",
      "Calculating selection coefficients for replicate_3 of PR8:\n",
      "Correcting reads and computing allele frequency difference and mutational contribution...\n"
     ]
    },
    {
     "data": {
      "image/png": "[encoded data removed]",
      "text/plain": [
       "<Figure size 432x288 with 1 Axes>"
      ]
     },
     "metadata": {
      "needs_background": "light"
     },
     "output_type": "display_data"
    },
    {
     "name": "stdout",
     "output_type": "stream",
     "text": [
      "Optimized regularization term = 1.0e-03\n",
      "CPU times: user 1min 40s, sys: 29 s, total: 2min 9s\n",
      "Wall time: 52.8 s\n"
     ]
    }
   ],
   "source": [
    "%%time\n",
    "INPUT_DIR      = './data/virus_protein/Aichi68C_PR8/PR8/raw_data'    \n",
    "OUTPUT_DIR = './outputs/virus_protein/Aichi68C_PR8/PR8/selection_coefficients/'\n",
    "SITE_START, SITE_END = 1, 498\n",
    "REPLICATES     = [1, 2, 3]  \n",
    "TARGET_PROTEIN = 'PR8'                 \n",
    "MPL_DIR        = 'MPL'                              \n",
    "PREFS_DIR      = ''                            \n",
    "MPL_RAW_DIR    = ''   \n",
    "EPISTASIS      = False\n",
    "DNACODON       = 'DNA_codoncounts.csv'              \n",
    "REGULARIZATION_PERCENT = 10  \n",
    "\n",
    "virus_pipeline(TARGET_PROTEIN, REPLICATES, SITE_START, SITE_END, INPUT_DIR, OUTPUT_DIR, EPISTASIS, REGULARIZATION_PERCENT)\n",
    "\n",
    "# ESTIMATE_SELECTION, MAX_READ = MPL_virus_inference(TARGET_PROTEIN, DNACODON, REPLICATES, MPL_DIR, MPL_RAW_DIR)\n",
    "# REGULARIZATION_LIST = [np.power(10, float(i)) for i in range(int(np.log10(1/MAX_READ)-1), 4)]\n",
    "# CORRELATION_LIST = optimize_regularization_virus(ESTIMATE_SELECTION, REPLICATES, REGULARIZATION_LIST)\n",
    "# plot_reg_corr(REGULARIZATION_LIST, CORRELATION_LIST, TARGET_PROTEIN)\n",
    "\n",
    "# REGULARIZATION_SELECTED = find_best_regularization(REGULARIZATION_LIST, CORRELATION_LIST, REGULARIZATION_PERCENT)\n",
    "\n"
   ]
  },
  {
   "cell_type": "markdown",
   "metadata": {},
   "source": [
    "# Influenza Aichi68C"
   ]
  },
  {
   "cell_type": "code",
   "execution_count": 10,
   "metadata": {},
   "outputs": [
    {
     "name": "stdout",
     "output_type": "stream",
     "text": [
      "------ Calculating single replicate selection coefficients for Aichi68C ------\n",
      "\n",
      "Calculating error probability from DNA_codoncounts.csv...\n",
      "\n",
      "Calculating selection coefficients for replicate_1 of Aichi68C:\n",
      "Correcting reads and computing allele frequency difference and mutational contribution...\n",
      "Calculating selection coefficients for replicate_2 of Aichi68C:\n",
      "Correcting reads and computing allele frequency difference and mutational contribution...\n"
     ]
    },
    {
     "data": {
      "image/png": "[encoded data removed]",
      "text/plain": [
       "<Figure size 432x288 with 1 Axes>"
      ]
     },
     "metadata": {
      "needs_background": "light"
     },
     "output_type": "display_data"
    },
    {
     "name": "stdout",
     "output_type": "stream",
     "text": [
      "Optimized regularization term = 1.0e-02\n"
     ]
    }
   ],
   "source": [
    "INPUT_DIR      = './data/virus_protein/Aichi68C_PR8/Aichi68C/raw_data'    \n",
    "OUTPUT_DIR = './outputs/virus_protein/Aichi68C_PR8/Aichi68C/selection_coefficients/'\n",
    "SITE_START, SITE_END = 1, 498\n",
    "REPLICATES     = [1, 2]                    \n",
    "TARGET_PROTEIN = 'Aichi68C'                 \n",
    "MPL_DIR        = ''                              \n",
    "PREFS_DIR      = ''    \n",
    "EPISTASIS      = False\n",
    "MPL_RAW_DIR    = 'raw_selection_coefficients'       \n",
    "DNACODON       = 'DNA_codoncounts.csv'              \n",
    "REGULARIZATION_PERCENT = 10                                                   \n",
    "\n",
    "virus_pipeline(TARGET_PROTEIN, REPLICATES, SITE_START, SITE_END, INPUT_DIR, OUTPUT_DIR, EPISTASIS, REGULARIZATION_PERCENT)\n",
    "\n",
    "\n",
    "# ESTIMATE_SELECTION, MAX_READ = MPL_virus_inference(TARGET_PROTEIN, DNACODON, REPLICATES, MPL_DIR, MPL_RAW_DIR)\n",
    "# REGULARIZATION_LIST = [np.power(10, float(i)) for i in range(int(np.log10(1/MAX_READ)-1), 4)]\n",
    "# CORRELATION_LIST = optimize_regularization_virus(ESTIMATE_SELECTION, REPLICATES, REGULARIZATION_LIST)\n",
    "# plot_reg_corr(REGULARIZATION_LIST, CORRELATION_LIST, TARGET_PROTEIN)\n",
    "\n",
    "# REGULARIZATION_SELECTED = find_best_regularization(REGULARIZATION_LIST, CORRELATION_LIST, REGULARIZATION_PERCENT)"
   ]
  },
  {
   "cell_type": "markdown",
   "metadata": {},
   "source": [
    "# Influenza Matrix_M1"
   ]
  },
  {
   "cell_type": "code",
   "execution_count": 11,
   "metadata": {},
   "outputs": [
    {
     "name": "stdout",
     "output_type": "stream",
     "text": [
      "------ Calculating single replicate selection coefficients for Matrix_M1 ------\n",
      "\n",
      "Calculating error probability from DNA_codoncounts.csv...\n",
      "\n",
      "Calculating selection coefficients for replicate_1 of Matrix_M1:\n",
      "Correcting reads and computing allele frequency difference and mutational contribution...\n",
      "Calculating selection coefficients for replicate_2 of Matrix_M1:\n",
      "Correcting reads and computing allele frequency difference and mutational contribution...\n",
      "Calculating selection coefficients for replicate_3 of Matrix_M1:\n",
      "Correcting reads and computing allele frequency difference and mutational contribution...\n"
     ]
    },
    {
     "data": {
      "image/png": "[encoded data removed]",
      "text/plain": [
       "<Figure size 432x288 with 1 Axes>"
      ]
     },
     "metadata": {
      "needs_background": "light"
     },
     "output_type": "display_data"
    },
    {
     "name": "stdout",
     "output_type": "stream",
     "text": [
      "Optimized regularization term = 1.0e-02\n"
     ]
    }
   ],
   "source": [
    "INPUT_DIR      = './data/virus_protein/Matrix_M1/raw_data' \n",
    "OUTPUT_DIR     = './outputs/virus_protein/Matrix_M1/selection_coefficients/'\n",
    "SITE_START, SITE_END = 1, 253\n",
    "REPLICATES     = [1, 2, 3]                    \n",
    "TARGET_PROTEIN = 'Matrix_M1'                 \n",
    "MPL_DIR        = ''                              \n",
    "PREFS_DIR      = '' \n",
    "EPISTASIS      = False\n",
    "MPL_RAW_DIR    = 'raw_selection_coefficients'       \n",
    "DNACODON       = 'DNA_codoncounts.csv'              \n",
    "REGULARIZATION_PERCENT = 10                                                   \n",
    "\n",
    "virus_pipeline(TARGET_PROTEIN, REPLICATES, SITE_START, SITE_END, INPUT_DIR, OUTPUT_DIR, EPISTASIS, REGULARIZATION_PERCENT)\n",
    "\n",
    "# ESTIMATE_SELECTION, MAX_READ = MPL_virus_inference(TARGET_PROTEIN, DNACODON, REPLICATES, MPL_DIR, MPL_RAW_DIR)\n",
    "# REGULARIZATION_LIST = [np.power(10, float(i)) for i in range(int(np.log10(1/MAX_READ)-1), 4)]\n",
    "# CORRELATION_LIST = optimize_regularization_virus(ESTIMATE_SELECTION, REPLICATES, REGULARIZATION_LIST)\n",
    "# plot_reg_corr(REGULARIZATION_LIST, CORRELATION_LIST, TARGET_PROTEIN)\n",
    "\n",
    "# REGULARIZATION_SELECTED = find_best_regularization(REGULARIZATION_LIST, CORRELATION_LIST, REGULARIZATION_PERCENT)\n",
    "\n",
    "# FINAL_SELECTION = output_final_selection_virus(REGULARIZATION_SELECTED, SITES, SITE_END, SITE_START, COVARIANCE_MATRIX, FREQUENCY_DIFF, REPLICATES)\n",
    "\n",
    "# if os.path.exists(OUTPUT_DIR):\n",
    "#     FINAL_SELECTION.to_csv(OUTPUT_DIR+TARGET_PROTEIN+'_'+'%d.csv.gz' %int(np.log10(REGULARIZATION_SELECTED)), index = False, compression = 'gzip')\n",
    "# else:\n",
    "#     os.makedirs(OUTPUT_DIR)\n",
    "#     FINAL_SELECTION.to_csv(OUTPUT_DIR+TARGET_PROTEIN+'_'+'%d.csv.gz' %int(np.log10(REGULARIZATION_SELECTED)), index = False, compression = 'gzip')\n",
    "\n"
   ]
  },
  {
   "cell_type": "markdown",
   "metadata": {},
   "source": [
    "# Influenza A549"
   ]
  },
  {
   "cell_type": "code",
   "execution_count": 12,
   "metadata": {},
   "outputs": [
    {
     "name": "stdout",
     "output_type": "stream",
     "text": [
      "------ Calculating single replicate selection coefficients for A549 ------\n",
      "\n",
      "Calculating error probability from DNA_codoncounts.csv...\n",
      "\n",
      "Calculating selection coefficients for replicate_1 of A549:\n",
      "Correcting reads and computing allele frequency difference and mutational contribution...\n",
      "Calculating selection coefficients for replicate_2 of A549:\n",
      "Correcting reads and computing allele frequency difference and mutational contribution...\n",
      "Calculating selection coefficients for replicate_3 of A549:\n",
      "Correcting reads and computing allele frequency difference and mutational contribution...\n"
     ]
    },
    {
     "data": {
      "image/png": "[encoded data removed]",
      "text/plain": [
       "<Figure size 432x288 with 1 Axes>"
      ]
     },
     "metadata": {
      "needs_background": "light"
     },
     "output_type": "display_data"
    },
    {
     "name": "stdout",
     "output_type": "stream",
     "text": [
      "Optimized regularization term = 1.0e-03\n"
     ]
    }
   ],
   "source": [
    "INPUT_DIR      = './data/virus_protein/PB2/A549/raw_data' \n",
    "OUTPUT_DIR     = './outputs/virus_protein/PB2/A549/selection_coefficients/'\n",
    "SITE_START, SITE_END = 1, 760\n",
    "REPLICATES     = [1, 2, 3]                    \n",
    "TARGET_PROTEIN = 'A549'                 \n",
    "MPL_DIR        = ''                              \n",
    "PREFS_DIR      = ''                            \n",
    "MPL_RAW_DIR    = 'raw_selection_coefficients'       \n",
    "DNACODON       = 'DNA_codoncounts.csv'              \n",
    "REGULARIZATION_PERCENT = 10 \n",
    "\n",
    "virus_pipeline(TARGET_PROTEIN, REPLICATES, SITE_START, SITE_END, INPUT_DIR, OUTPUT_DIR, EPISTASIS, REGULARIZATION_PERCENT)\n",
    "\n",
    "# ESTIMATE_SELECTION, MAX_READ = MPL_virus_inference(TARGET_PROTEIN, DNACODON, REPLICATES, MPL_DIR, MPL_RAW_DIR)\n",
    "# REGULARIZATION_LIST = [np.power(10, float(i)) for i in range(int(np.log10(1/MAX_READ)-1), 4)]\n",
    "# CORRELATION_LIST = optimize_regularization_virus(ESTIMATE_SELECTION, REPLICATES, REGULARIZATION_LIST)\n",
    "# plot_reg_corr(REGULARIZATION_LIST, CORRELATION_LIST, TARGET_PROTEIN)\n",
    "\n",
    "# REGULARIZATION_SELECTED = find_best_regularization(REGULARIZATION_LIST, CORRELATION_LIST, REGULARIZATION_PERCENT)\n",
    "\n",
    "# FINAL_SELECTION = output_final_selection_virus(REGULARIZATION_SELECTED, SITE_END, SITE_START, COVARIANCE_MATRIX, FREQUENCY_DIFF, REPLICATES)\n",
    "\n",
    "# if os.path.exists(OUTPUT_DIR):\n",
    "#     FINAL_SELECTION.to_csv(OUTPUT_DIR+TARGET_PROTEIN+'_'+'%d.csv.gz' %int(np.log10(REGULARIZATION_SELECTED)), index = False, compression = 'gzip')\n",
    "# else:\n",
    "#     os.makedirs(OUTPUT_DIR)\n",
    "#     FINAL_SELECTION.to_csv(OUTPUT_DIR+TARGET_PROTEIN+'_'+'%d.csv.gz' %int(np.log10(REGULARIZATION_SELECTED)), index = False, compression = 'gzip')\n",
    "\n"
   ]
  },
  {
   "cell_type": "markdown",
   "metadata": {},
   "source": [
    "# Influenza CCL141"
   ]
  },
  {
   "cell_type": "code",
   "execution_count": 13,
   "metadata": {},
   "outputs": [
    {
     "name": "stdout",
     "output_type": "stream",
     "text": [
      "------ Calculating single replicate selection coefficients for CCL141 ------\n",
      "\n",
      "Calculating error probability from DNA_codoncounts.csv...\n",
      "\n",
      "Calculating selection coefficients for replicate_1 of CCL141:\n",
      "Correcting reads and computing allele frequency difference and mutational contribution...\n",
      "Calculating selection coefficients for replicate_2 of CCL141:\n",
      "Correcting reads and computing allele frequency difference and mutational contribution...\n",
      "Calculating selection coefficients for replicate_3 of CCL141:\n",
      "Correcting reads and computing allele frequency difference and mutational contribution...\n"
     ]
    },
    {
     "data": {
      "image/png": "[encoded data removed]",
      "text/plain": [
       "<Figure size 432x288 with 1 Axes>"
      ]
     },
     "metadata": {
      "needs_background": "light"
     },
     "output_type": "display_data"
    },
    {
     "name": "stdout",
     "output_type": "stream",
     "text": [
      "Optimized regularization term = 1.0e-03\n"
     ]
    }
   ],
   "source": [
    "INPUT_DIR      = './data/virus_protein/PB2/CCL141/raw_data' \n",
    "OUTPUT_DIR     = './outputs/virus_protein/PB2/CCL141/selection_coefficients/'\n",
    "SITE_START, SITE_END = 1, 760\n",
    "REPLICATES     = [1, 2, 3]                    \n",
    "TARGET_PROTEIN = 'CCL141'                 \n",
    "MPL_DIR        = ''                              \n",
    "PREFS_DIR      = ''                            \n",
    "MPL_RAW_DIR    = 'raw_selection_coefficients'       \n",
    "DNACODON       = 'DNA_codoncounts.csv'              \n",
    "REGULARIZATION_PERCENT = 10    \n",
    "\n",
    "virus_pipeline(TARGET_PROTEIN, REPLICATES, SITE_START, SITE_END, INPUT_DIR, OUTPUT_DIR, EPISTASIS, REGULARIZATION_PERCENT)\n",
    "\n",
    "# ESTIMATE_SELECTION, MAX_READ = MPL_virus_inference(TARGET_PROTEIN, DNACODON, REPLICATES, MPL_DIR, MPL_RAW_DIR)\n",
    "# REGULARIZATION_LIST = [np.power(10, float(i)) for i in range(int(np.log10(1/MAX_READ)-1), 4)]\n",
    "# CORRELATION_LIST = optimize_regularization_virus(ESTIMATE_SELECTION, REPLICATES, REGULARIZATION_LIST)\n",
    "# plot_reg_corr(REGULARIZATION_LIST, CORRELATION_LIST, TARGET_PROTEIN)\n",
    "\n",
    "# REGULARIZATION_SELECTED = find_best_regularization(REGULARIZATION_LIST, CORRELATION_LIST, REGULARIZATION_PERCENT)\n",
    "\n",
    "# FINAL_SELECTION = output_final_selection_virus(REGULARIZATION_SELECTED, SITE_END, SITE_START, COVARIANCE_MATRIX, FREQUENCY_DIFF, REPLICATES)\n",
    "\n",
    "# if os.path.exists(OUTPUT_DIR):\n",
    "#     FINAL_SELECTION.to_csv(OUTPUT_DIR+TARGET_PROTEIN+'_'+'%d.csv.gz' %int(np.log10(REGULARIZATION_SELECTED)), index = False, compression = 'gzip')\n",
    "# else:\n",
    "#     os.makedirs(OUTPUT_DIR)\n",
    "#     FINAL_SELECTION.to_csv(OUTPUT_DIR+TARGET_PROTEIN+'_'+'%d.csv.gz' %int(np.log10(REGULARIZATION_SELECTED)), index = False, compression = 'gzip')\n"
   ]
  },
  {
   "cell_type": "markdown",
   "metadata": {},
   "source": [
    "# Influenza MS"
   ]
  },
  {
   "cell_type": "code",
   "execution_count": 14,
   "metadata": {},
   "outputs": [
    {
     "name": "stdout",
     "output_type": "stream",
     "text": [
      "------ Calculating single replicate selection coefficients for MS ------\n",
      "\n",
      "Calculating error probability from DNA_codoncounts.csv...\n",
      "\n",
      "Calculating selection coefficients for replicate_1 of MS:\n",
      "Correcting reads and computing allele frequency difference and mutational contribution...\n",
      "Calculating selection coefficients for replicate_2 of MS:\n",
      "Correcting reads and computing allele frequency difference and mutational contribution...\n"
     ]
    },
    {
     "data": {
      "image/png": "[encoded data removed]",
      "text/plain": [
       "<Figure size 432x288 with 1 Axes>"
      ]
     },
     "metadata": {
      "needs_background": "light"
     },
     "output_type": "display_data"
    },
    {
     "name": "stdout",
     "output_type": "stream",
     "text": [
      "Optimized regularization term = 1.0e-03\n"
     ]
    }
   ],
   "source": [
    "INPUT_DIR      = './data/virus_protein/MxA/MS/raw_data'    \n",
    "OUTPUT_DIR     = './outputs/virus_protein/MxA/MS/selection_coefficients/'\n",
    "SITE_START, SITE_END = 1, 498\n",
    "REPLICATES     = [1, 2]                    \n",
    "TARGET_PROTEIN = 'MS'                 \n",
    "MPL_DIR        = ''                              \n",
    "PREFS_DIR      = ''                            \n",
    "MPL_RAW_DIR    = 'raw_selection_coefficients'       \n",
    "DNACODON       = 'DNA_codoncounts.csv'              \n",
    "REGULARIZATION_PERCENT = 10                                                   \n",
    "\n",
    "virus_pipeline(TARGET_PROTEIN, REPLICATES, SITE_START, SITE_END, INPUT_DIR, OUTPUT_DIR, EPISTASIS, REGULARIZATION_PERCENT)\n",
    "\n",
    "\n",
    "# ESTIMATE_SELECTION, MAX_READ = MPL_virus_inference(TARGET_PROTEIN, DNACODON, REPLICATES, MPL_DIR, MPL_RAW_DIR)\n",
    "# REGULARIZATION_LIST = [np.power(10, float(i)) for i in range(int(np.log10(1/MAX_READ)-1), 4)]\n",
    "# CORRELATION_LIST = optimize_regularization_virus(ESTIMATE_SELECTION, REPLICATES, REGULARIZATION_LIST)\n",
    "# plot_reg_corr(REGULARIZATION_LIST, CORRELATION_LIST, TARGET_PROTEIN)\n",
    "\n",
    "# REGULARIZATION_SELECTED = find_best_regularization(REGULARIZATION_LIST, CORRELATION_LIST, REGULARIZATION_PERCENT)\n",
    "\n",
    "# FINAL_SELECTION = output_final_selection_virus(REGULARIZATION_SELECTED, SITE_END, SITE_START, COVARIANCE_MATRIX, FREQUENCY_DIFF, REPLICATES)\n",
    "\n",
    "# if os.path.exists(OUTPUT_DIR):\n",
    "#     FINAL_SELECTION.to_csv(OUTPUT_DIR+TARGET_PROTEIN+'_'+'%d.csv.gz' %int(np.log10(REGULARIZATION_SELECTED)), index = False, compression = 'gzip')\n",
    "# else:\n",
    "#     os.makedirs(OUTPUT_DIR)\n",
    "#     FINAL_SELECTION.to_csv(OUTPUT_DIR+TARGET_PROTEIN+'_'+'%d.csv.gz' %int(np.log10(REGULARIZATION_SELECTED)), index = False, compression = 'gzip')"
   ]
  },
  {
   "cell_type": "markdown",
   "metadata": {},
   "source": [
    "# Influenza MxA"
   ]
  },
  {
   "cell_type": "code",
   "execution_count": 15,
   "metadata": {},
   "outputs": [
    {
     "name": "stdout",
     "output_type": "stream",
     "text": [
      "------ Calculating single replicate selection coefficients for MxA ------\n",
      "\n",
      "Calculating error probability from DNA_codoncounts.csv...\n",
      "\n",
      "Calculating selection coefficients for replicate_1 of MxA:\n",
      "Correcting reads and computing allele frequency difference and mutational contribution...\n",
      "Calculating selection coefficients for replicate_2 of MxA:\n",
      "Correcting reads and computing allele frequency difference and mutational contribution...\n"
     ]
    },
    {
     "data": {
      "image/png": "[encoded data removed]",
      "text/plain": [
       "<Figure size 432x288 with 1 Axes>"
      ]
     },
     "metadata": {
      "needs_background": "light"
     },
     "output_type": "display_data"
    },
    {
     "name": "stdout",
     "output_type": "stream",
     "text": [
      "Optimized regularization term = 1.0e-03\n"
     ]
    }
   ],
   "source": [
    "INPUT_DIR      = './data/virus_protein/MxA/MxA/raw_data' \n",
    "OUTPUT_DIR     = './outputs/virus_protein/MxA/MxA/selection_coefficients/'\n",
    "SITE_START, SITE_END = 1, 498\n",
    "REPLICATES     = [1, 2]                    \n",
    "TARGET_PROTEIN = 'MxA'                 \n",
    "MPL_DIR        = ''                              \n",
    "PREFS_DIR      = ''                            \n",
    "MPL_RAW_DIR    = 'raw_selection_coefficients'       \n",
    "DNACODON       = 'DNA_codoncounts.csv'              \n",
    "REGULARIZATION_PERCENT = 10                                                   \n",
    "virus_pipeline(TARGET_PROTEIN, REPLICATES, SITE_START, SITE_END, INPUT_DIR, OUTPUT_DIR, EPISTASIS, REGULARIZATION_PERCENT)\n",
    "\n",
    "\n",
    "# ESTIMATE_SELECTION, MAX_READ = MPL_virus_inference(TARGET_PROTEIN, DNACODON, REPLICATES, MPL_DIR, MPL_RAW_DIR)\n",
    "# REGULARIZATION_LIST = [np.power(10, float(i)) for i in range(int(np.log10(1/MAX_READ)-1), 4)]\n",
    "# CORRELATION_LIST = optimize_regularization_virus(ESTIMATE_SELECTION, REPLICATES, REGULARIZATION_LIST)\n",
    "# plot_reg_corr(REGULARIZATION_LIST, CORRELATION_LIST, TARGET_PROTEIN)\n",
    "\n",
    "# REGULARIZATION_SELECTED = find_best_regularization(REGULARIZATION_LIST, CORRELATION_LIST, REGULARIZATION_PERCENT)"
   ]
  },
  {
   "cell_type": "markdown",
   "metadata": {},
   "source": [
    "# Influenza MxAneg"
   ]
  },
  {
   "cell_type": "code",
   "execution_count": 16,
   "metadata": {},
   "outputs": [
    {
     "name": "stdout",
     "output_type": "stream",
     "text": [
      "------ Calculating single replicate selection coefficients for MxAneg ------\n",
      "\n",
      "Calculating error probability from DNA_codoncounts.csv...\n",
      "\n",
      "Calculating selection coefficients for replicate_1 of MxAneg:\n",
      "Correcting reads and computing allele frequency difference and mutational contribution...\n",
      "Calculating selection coefficients for replicate_2 of MxAneg:\n",
      "Correcting reads and computing allele frequency difference and mutational contribution...\n"
     ]
    },
    {
     "ename": "KeyboardInterrupt",
     "evalue": "",
     "output_type": "error",
     "traceback": [
      "\u001b[0;31m---------------------------------------------------------------------------\u001b[0m",
      "\u001b[0;31mKeyboardInterrupt\u001b[0m                         Traceback (most recent call last)",
      "\u001b[0;32m<ipython-input-16-8226de7c0604>\u001b[0m in \u001b[0;36m<module>\u001b[0;34m\u001b[0m\n\u001b[1;32m      9\u001b[0m \u001b[0mDNACODON\u001b[0m       \u001b[0;34m=\u001b[0m \u001b[0;34m'DNA_codoncounts.csv'\u001b[0m\u001b[0;34m\u001b[0m\u001b[0;34m\u001b[0m\u001b[0m\n\u001b[1;32m     10\u001b[0m \u001b[0mREGULARIZATION_PERCENT\u001b[0m \u001b[0;34m=\u001b[0m \u001b[0;36m10\u001b[0m\u001b[0;34m\u001b[0m\u001b[0;34m\u001b[0m\u001b[0m\n\u001b[0;32m---> 11\u001b[0;31m \u001b[0mvirus_pipeline\u001b[0m\u001b[0;34m(\u001b[0m\u001b[0mTARGET_PROTEIN\u001b[0m\u001b[0;34m,\u001b[0m \u001b[0mREPLICATES\u001b[0m\u001b[0;34m,\u001b[0m \u001b[0mSITE_START\u001b[0m\u001b[0;34m,\u001b[0m \u001b[0mSITE_END\u001b[0m\u001b[0;34m,\u001b[0m \u001b[0mINPUT_DIR\u001b[0m\u001b[0;34m,\u001b[0m \u001b[0mOUTPUT_DIR\u001b[0m\u001b[0;34m,\u001b[0m \u001b[0mEPISTASIS\u001b[0m\u001b[0;34m,\u001b[0m \u001b[0mREGULARIZATION_PERCENT\u001b[0m\u001b[0;34m)\u001b[0m\u001b[0;34m\u001b[0m\u001b[0;34m\u001b[0m\u001b[0m\n\u001b[0m\u001b[1;32m     12\u001b[0m \u001b[0;34m\u001b[0m\u001b[0m\n\u001b[1;32m     13\u001b[0m \u001b[0;34m\u001b[0m\u001b[0m\n",
      "\u001b[0;32m<ipython-input-2-1a40c10df5bf>\u001b[0m in \u001b[0;36mvirus_pipeline\u001b[0;34m(TARGET_PROTEIN, REPLICATES, SITE_START, SITE_END, INPUT_DIR, OUTPUT_DIR, EPISTASIS, REGULARIZATION_PERCENT)\u001b[0m\n\u001b[1;32m      1\u001b[0m \u001b[0;32mdef\u001b[0m \u001b[0mvirus_pipeline\u001b[0m\u001b[0;34m(\u001b[0m\u001b[0mTARGET_PROTEIN\u001b[0m\u001b[0;34m,\u001b[0m \u001b[0mREPLICATES\u001b[0m\u001b[0;34m,\u001b[0m \u001b[0mSITE_START\u001b[0m\u001b[0;34m,\u001b[0m \u001b[0mSITE_END\u001b[0m\u001b[0;34m,\u001b[0m \u001b[0mINPUT_DIR\u001b[0m\u001b[0;34m,\u001b[0m \u001b[0mOUTPUT_DIR\u001b[0m\u001b[0;34m,\u001b[0m \u001b[0mEPISTASIS\u001b[0m\u001b[0;34m,\u001b[0m \u001b[0mREGULARIZATION_PERCENT\u001b[0m\u001b[0;34m)\u001b[0m\u001b[0;34m:\u001b[0m\u001b[0;34m\u001b[0m\u001b[0;34m\u001b[0m\u001b[0m\n\u001b[1;32m      2\u001b[0m \u001b[0;34m\u001b[0m\u001b[0m\n\u001b[0;32m----> 3\u001b[0;31m     \u001b[0mestimate_selection\u001b[0m\u001b[0;34m,\u001b[0m \u001b[0mregularization_list\u001b[0m \u001b[0;34m=\u001b[0m \u001b[0mMPL_virus_inference\u001b[0m\u001b[0;34m(\u001b[0m\u001b[0mTARGET_PROTEIN\u001b[0m\u001b[0;34m,\u001b[0m \u001b[0mDNACODON\u001b[0m\u001b[0;34m,\u001b[0m \u001b[0mREPLICATES\u001b[0m\u001b[0;34m,\u001b[0m \u001b[0mMPL_DIR\u001b[0m\u001b[0;34m,\u001b[0m \u001b[0mMPL_RAW_DIR\u001b[0m\u001b[0;34m)\u001b[0m\u001b[0;34m\u001b[0m\u001b[0;34m\u001b[0m\u001b[0m\n\u001b[0m\u001b[1;32m      4\u001b[0m \u001b[0;31m#     REGULARIZATION_LIST = [np.power(10, float(i)) for i in range(int(np.log10(1/MAX_READ)-1), 4)]\u001b[0m\u001b[0;34m\u001b[0m\u001b[0;34m\u001b[0m\u001b[0;34m\u001b[0m\u001b[0m\n\u001b[1;32m      5\u001b[0m     \u001b[0mcorrelation_list\u001b[0m \u001b[0;34m=\u001b[0m \u001b[0moptimize_regularization_virus\u001b[0m\u001b[0;34m(\u001b[0m\u001b[0mestimate_selection\u001b[0m\u001b[0;34m,\u001b[0m \u001b[0mREPLICATES\u001b[0m\u001b[0;34m,\u001b[0m \u001b[0mregularization_list\u001b[0m\u001b[0;34m)\u001b[0m\u001b[0;34m\u001b[0m\u001b[0;34m\u001b[0m\u001b[0m\n",
      "\u001b[0;32m<ipython-input-2-1a40c10df5bf>\u001b[0m in \u001b[0;36mMPL_virus_inference\u001b[0;34m(TARGET_PROTEIN, DNACODON, REPLICATES, MPL_DIR, MPL_RAW_DIR)\u001b[0m\n\u001b[1;32m     99\u001b[0m             \u001b[0mregularization_list\u001b[0m \u001b[0;34m=\u001b[0m \u001b[0;34m[\u001b[0m\u001b[0mnp\u001b[0m\u001b[0;34m.\u001b[0m\u001b[0mpower\u001b[0m\u001b[0;34m(\u001b[0m\u001b[0;36m10\u001b[0m\u001b[0;34m,\u001b[0m \u001b[0mfloat\u001b[0m\u001b[0;34m(\u001b[0m\u001b[0mi\u001b[0m\u001b[0;34m)\u001b[0m\u001b[0;34m)\u001b[0m \u001b[0;32mfor\u001b[0m \u001b[0mi\u001b[0m \u001b[0;32min\u001b[0m \u001b[0mrange\u001b[0m\u001b[0;34m(\u001b[0m\u001b[0mint\u001b[0m\u001b[0;34m(\u001b[0m\u001b[0mnp\u001b[0m\u001b[0;34m.\u001b[0m\u001b[0mlog10\u001b[0m\u001b[0;34m(\u001b[0m\u001b[0;36m1\u001b[0m\u001b[0;34m/\u001b[0m\u001b[0mminimum\u001b[0m\u001b[0;34m)\u001b[0m\u001b[0;34m-\u001b[0m\u001b[0;36m1\u001b[0m\u001b[0;34m)\u001b[0m\u001b[0;34m,\u001b[0m \u001b[0;36m4\u001b[0m\u001b[0;34m)\u001b[0m\u001b[0;34m]\u001b[0m\u001b[0;34m\u001b[0m\u001b[0;34m\u001b[0m\u001b[0m\n\u001b[1;32m    100\u001b[0m         \u001b[0;32mfor\u001b[0m \u001b[0mREGULAR\u001b[0m \u001b[0;32min\u001b[0m \u001b[0mregularization_list\u001b[0m\u001b[0;34m:\u001b[0m\u001b[0;34m\u001b[0m\u001b[0;34m\u001b[0m\u001b[0m\n\u001b[0;32m--> 101\u001b[0;31m             \u001b[0mINVERSE_COV\u001b[0m \u001b[0;34m=\u001b[0m \u001b[0mcov_inverse\u001b[0m\u001b[0;34m(\u001b[0m\u001b[0mCOVARIANCE_MATRIX\u001b[0m\u001b[0;34m,\u001b[0m \u001b[0mL\u001b[0m\u001b[0;34m,\u001b[0m \u001b[0mq\u001b[0m\u001b[0;34m,\u001b[0m \u001b[0mREGULAR\u001b[0m\u001b[0;34m)\u001b[0m\u001b[0;34m\u001b[0m\u001b[0;34m\u001b[0m\u001b[0m\n\u001b[0m\u001b[1;32m    102\u001b[0m             \u001b[0mestimate_selection\u001b[0m\u001b[0;34m[\u001b[0m\u001b[0mrun_name\u001b[0m\u001b[0;34m]\u001b[0m\u001b[0;34m[\u001b[0m\u001b[0mREGULAR\u001b[0m\u001b[0;34m]\u001b[0m \u001b[0;34m=\u001b[0m \u001b[0mnp\u001b[0m\u001b[0;34m.\u001b[0m\u001b[0mdot\u001b[0m\u001b[0;34m(\u001b[0m\u001b[0mINVERSE_COV\u001b[0m\u001b[0;34m,\u001b[0m \u001b[0mFREQUENCY_DIFF\u001b[0m\u001b[0;34m)\u001b[0m\u001b[0;34m\u001b[0m\u001b[0;34m\u001b[0m\u001b[0m\n\u001b[1;32m    103\u001b[0m     \u001b[0;31m#         print(estimate_selection[run_name][REGULAR])\u001b[0m\u001b[0;34m\u001b[0m\u001b[0;34m\u001b[0m\u001b[0;34m\u001b[0m\u001b[0m\n",
      "\u001b[0;32m<ipython-input-2-1a40c10df5bf>\u001b[0m in \u001b[0;36mcov_inverse\u001b[0;34m(cov, L, q, regular)\u001b[0m\n\u001b[1;32m     48\u001b[0m         \u001b[0;32mfor\u001b[0m \u001b[0ma\u001b[0m \u001b[0;32min\u001b[0m \u001b[0mrange\u001b[0m\u001b[0;34m(\u001b[0m\u001b[0mq\u001b[0m\u001b[0;34m)\u001b[0m\u001b[0;34m:\u001b[0m\u001b[0;34m\u001b[0m\u001b[0;34m\u001b[0m\u001b[0m\n\u001b[1;32m     49\u001b[0m             \u001b[0;32mfor\u001b[0m \u001b[0mb\u001b[0m \u001b[0;32min\u001b[0m \u001b[0mrange\u001b[0m\u001b[0;34m(\u001b[0m\u001b[0mq\u001b[0m\u001b[0;34m)\u001b[0m\u001b[0;34m:\u001b[0m\u001b[0;34m\u001b[0m\u001b[0;34m\u001b[0m\u001b[0m\n\u001b[0;32m---> 50\u001b[0;31m                 \u001b[0mcov_temp\u001b[0m\u001b[0;34m[\u001b[0m\u001b[0;34m(\u001b[0m\u001b[0mq\u001b[0m \u001b[0;34m*\u001b[0m \u001b[0mi\u001b[0m\u001b[0;34m)\u001b[0m \u001b[0;34m+\u001b[0m \u001b[0ma\u001b[0m\u001b[0;34m,\u001b[0m \u001b[0;34m(\u001b[0m\u001b[0mq\u001b[0m \u001b[0;34m*\u001b[0m \u001b[0mi\u001b[0m\u001b[0;34m)\u001b[0m \u001b[0;34m+\u001b[0m \u001b[0mb\u001b[0m\u001b[0;34m]\u001b[0m \u001b[0;34m=\u001b[0m \u001b[0mcov_block\u001b[0m\u001b[0;34m[\u001b[0m\u001b[0ma\u001b[0m\u001b[0;34m,\u001b[0m \u001b[0mb\u001b[0m\u001b[0;34m]\u001b[0m\u001b[0;34m\u001b[0m\u001b[0;34m\u001b[0m\u001b[0m\n\u001b[0m\u001b[1;32m     51\u001b[0m \u001b[0;34m\u001b[0m\u001b[0m\n\u001b[1;32m     52\u001b[0m     \u001b[0;32mreturn\u001b[0m \u001b[0mcov_temp\u001b[0m\u001b[0;34m\u001b[0m\u001b[0;34m\u001b[0m\u001b[0m\n",
      "\u001b[0;31mKeyboardInterrupt\u001b[0m: "
     ]
    }
   ],
   "source": [
    "INPUT_DIR      = './data/virus_protein/MxA/MxAneg/raw_data'  \n",
    "OUTPUT_DIR     = './outputs/virus_protein/MxA/MxAneg/selection_coefficients/'\n",
    "SITE_START, SITE_END = 1, 498\n",
    "REPLICATES     = [1, 2]                    \n",
    "TARGET_PROTEIN = 'MxAneg'                 \n",
    "MPL_DIR        = ''                              \n",
    "PREFS_DIR      = '='                            \n",
    "MPL_RAW_DIR    = 'raw_selection_coefficients'       \n",
    "DNACODON       = 'DNA_codoncounts.csv'              \n",
    "REGULARIZATION_PERCENT = 10                                                   \n",
    "virus_pipeline(TARGET_PROTEIN, REPLICATES, SITE_START, SITE_END, INPUT_DIR, OUTPUT_DIR, EPISTASIS, REGULARIZATION_PERCENT)\n",
    "\n",
    "\n",
    "# ESTIMATE_SELECTION, MAX_READ = MPL_virus_inference(TARGET_PROTEIN, DNACODON, REPLICATES, MPL_DIR, MPL_RAW_DIR)\n",
    "# REGULARIZATION_LIST = [np.power(10, float(i)) for i in range(int(np.log10(1/MAX_READ)-1), 4)]\n",
    "# CORRELATION_LIST = optimize_regularization_virus(ESTIMATE_SELECTION, REPLICATES, REGULARIZATION_LIST)\n",
    "# plot_reg_corr(REGULARIZATION_LIST, CORRELATION_LIST, TARGET_PROTEIN)\n",
    "\n",
    "# REGULARIZATION_SELECTED = find_best_regularization(REGULARIZATION_LIST, CORRELATION_LIST, REGULARIZATION_PERCENT)"
   ]
  },
  {
   "cell_type": "markdown",
   "metadata": {},
   "source": [
    "# HIV Env BG505"
   ]
  },
  {
   "cell_type": "code",
   "execution_count": null,
   "metadata": {},
   "outputs": [],
   "source": [
    "INPUT_DIR      = './data/virus_protein/HIVEnv/BG505/raw_data' \n",
    "OUTPUT_DIR     = './outputs/virus_protein/HIVEnv/BG505/selection_coefficients/'\n",
    "SITE_START, SITE_END = 1, 670\n",
    "REPLICATES     = [1, 2, 3]                    \n",
    "TARGET_PROTEIN = 'HIV Env BG505'                 \n",
    "MPL_DIR        = 'MPL'                              \n",
    "PREFS_DIR      = 'prefs'                            \n",
    "MPL_RAW_DIR    = 'raw_selection_coefficients'       \n",
    "DNACODON       = 'DNA_codoncounts.csv'              \n",
    "REGULARIZATION_PERCENT = 10   \n",
    "virus_pipeline(TARGET_PROTEIN, REPLICATES, SITE_START, SITE_END, INPUT_DIR, OUTPUT_DIR, EPISTASIS, REGULARIZATION_PERCENT)\n",
    "\n",
    "\n",
    "# ESTIMATE_SELECTION, MAX_READ = MPL_virus_inference(TARGET_PROTEIN, DNACODON, REPLICATES, MPL_DIR, MPL_RAW_DIR)\n",
    "# REGULARIZATION_LIST = [np.power(10, float(i)) for i in range(int(np.log10(1/MAX_READ)-1), 4)]\n",
    "# CORRELATION_LIST = optimize_regularization_virus(ESTIMATE_SELECTION, REPLICATES, REGULARIZATION_LIST)\n",
    "# plot_reg_corr(REGULARIZATION_LIST, CORRELATION_LIST, TARGET_PROTEIN)\n",
    "\n",
    "# REGULARIZATION_SELECTED = find_best_regularization(REGULARIZATION_LIST, CORRELATION_LIST, REGULARIZATION_PERCENT)"
   ]
  },
  {
   "cell_type": "markdown",
   "metadata": {},
   "source": [
    "# HIV Env BF520"
   ]
  },
  {
   "cell_type": "code",
   "execution_count": null,
   "metadata": {},
   "outputs": [],
   "source": [
    "INPUT_DIR      = './data/virus_protein/HIVEnv/BF520/raw_data'   \n",
    "OUTPUT_DIR     = './outputs/virus_protein/HIVEnv/BF520/selection_coefficients/'\n",
    "SITE_START, SITE_END = 1, 662\n",
    "REPLICATES     = [1, 2, 3]                    \n",
    "TARGET_PROTEIN = 'HIV Env BF520'                 \n",
    "MPL_DIR        = ''                              \n",
    "PREFS_DIR      = ''                            \n",
    "MPL_RAW_DIR    = 'raw_selection_coefficients'       \n",
    "DNACODON       = 'DNA_codoncounts.csv'              \n",
    "REGULARIZATION_PERCENT = 10                                                   \n",
    "virus_pipeline(TARGET_PROTEIN, REPLICATES, SITE_START, SITE_END, INPUT_DIR, OUTPUT_DIR, EPISTASIS, REGULARIZATION_PERCENT)\n",
    "\n",
    "\n",
    "# ESTIMATE_SELECTION, MAX_READ = MPL_virus_inference(TARGET_PROTEIN, DNACODON, REPLICATES, MPL_DIR, MPL_RAW_DIR)\n",
    "# REGULARIZATION_LIST = [np.power(10, float(i)) for i in range(int(np.log10(1/MAX_READ)-1), 4)]\n",
    "# CORRELATION_LIST = optimize_regularization_virus(ESTIMATE_SELECTION, REPLICATES, REGULARIZATION_LIST)\n",
    "# plot_reg_corr(REGULARIZATION_LIST, CORRELATION_LIST, TARGET_PROTEIN)\n",
    "\n",
    "# REGULARIZATION_SELECTED = find_best_regularization(REGULARIZATION_LIST, CORRELATION_LIST, REGULARIZATION_PERCENT)"
   ]
  },
  {
   "cell_type": "markdown",
   "metadata": {},
   "source": [
    "# HIV Env BF520 human host"
   ]
  },
  {
   "cell_type": "code",
   "execution_count": null,
   "metadata": {},
   "outputs": [],
   "source": [
    "INPUT_DIR      = './data/virus_protein/HIVEnv_CD4/BF520_human/raw_data' \n",
    "OUTPUT_DIR     = './outputs/virus_protein/HIVEnv_CD4/BF520_human/selection_coefficients/'\n",
    "SITE_START, SITE_END = 1, 670\n",
    "REPLICATES     = [1, 2]                    \n",
    "TARGET_PROTEIN = 'HIV BF520 human host'                 \n",
    "MPL_DIR        = 'MPL'                              \n",
    "PREFS_DIR      = 'prefs'                            \n",
    "MPL_RAW_DIR    = 'raw_selection_coefficients'       \n",
    "DNACODON       = 'DNA_codoncounts.csv'              \n",
    "REGULARIZATION_PERCENT = 10                                                   \n",
    "virus_pipeline(TARGET_PROTEIN, REPLICATES, SITE_START, SITE_END, INPUT_DIR, OUTPUT_DIR, EPISTASIS, REGULARIZATION_PERCENT)\n",
    "\n",
    "\n",
    "# ESTIMATE_SELECTION, MAX_READ = MPL_virus_inference(TARGET_PROTEIN, DNACODON, REPLICATES, MPL_DIR, MPL_RAW_DIR)\n",
    "# REGULARIZATION_LIST = [np.power(10, float(i)) for i in range(int(np.log10(1/MAX_READ)-1), 4)]\n",
    "# CORRELATION_LIST = optimize_regularization_virus(ESTIMATE_SELECTION, REPLICATES, REGULARIZATION_LIST)\n",
    "# plot_reg_corr(REGULARIZATION_LIST, CORRELATION_LIST, TARGET_PROTEIN)\n",
    "\n",
    "# REGULARIZATION_SELECTED = find_best_regularization(REGULARIZATION_LIST, CORRELATION_LIST, REGULARIZATION_PERCENT)"
   ]
  },
  {
   "cell_type": "markdown",
   "metadata": {},
   "source": [
    "# HIV Env BF520 rhesus host"
   ]
  },
  {
   "cell_type": "code",
   "execution_count": null,
   "metadata": {},
   "outputs": [],
   "source": [
    "INPUT_DIR      = './data/virus_protein/HIVEnv_CD4/BF520_rhesus/raw_data'  \n",
    "OUTPUT_DIR     = './outputs/virus_protein/HIVEnv_CD4/BF520_rhesus/selection_coefficients/'\n",
    "SITE_START, SITE_END = 1, 670\n",
    "REPLICATES     = [1, 2]                    \n",
    "TARGET_PROTEIN = 'HIV BF520 rhesus host'                 \n",
    "MPL_DIR        = 'MPL'                              \n",
    "PREFS_DIR      = 'prefs'                            \n",
    "MPL_RAW_DIR    = 'raw_selection_coefficients'       \n",
    "DNACODON       = 'DNA_codoncounts.csv'              \n",
    "REGULARIZATION_PERCENT = 10   \n",
    "virus_pipeline(TARGET_PROTEIN, REPLICATES, SITE_START, SITE_END, INPUT_DIR, OUTPUT_DIR, EPISTASIS, REGULARIZATION_PERCENT)\n",
    "\n",
    "\n",
    "\n",
    "# ESTIMATE_SELECTION, MAX_READ = MPL_virus_inference(TARGET_PROTEIN, DNACODON, REPLICATES, MPL_DIR, MPL_RAW_DIR)\n",
    "# REGULARIZATION_LIST = [np.power(10, float(i)) for i in range(int(np.log10(1/MAX_READ)-1), 4)]\n",
    "# CORRELATION_LIST = optimize_regularization_virus(ESTIMATE_SELECTION, REPLICATES, REGULARIZATION_LIST)\n",
    "# plot_reg_corr(REGULARIZATION_LIST, CORRELATION_LIST, TARGET_PROTEIN)\n",
    "\n",
    "# REGULARIZATION_SELECTED = find_best_regularization(REGULARIZATION_LIST, CORRELATION_LIST, REGULARIZATION_PERCENT)"
   ]
  },
  {
   "cell_type": "markdown",
   "metadata": {},
   "source": [
    "# HIV bnAbs FP16"
   ]
  },
  {
   "cell_type": "code",
   "execution_count": null,
   "metadata": {},
   "outputs": [],
   "source": [
    "INPUT_DIR      = './data/virus_protein/HIV_bnAbs/FP16/raw_data'  \n",
    "OUTPUT_DIR     = './outputs/virus_protein/HIV_bnAbs/FP16/selection_coefficients/'\n",
    "SITE_START, SITE_END = 1, 670\n",
    "REPLICATES     = [1, 2]                    \n",
    "TARGET_PROTEIN = 'HIV bnAbs FP16'                 \n",
    "MPL_DIR        = 'MPL'                              \n",
    "PREFS_DIR      = 'prefs'                            \n",
    "MPL_RAW_DIR    = 'raw_selection_coefficients'       \n",
    "DNACODON       = 'DNA_codoncounts.csv'         \n",
    "EPISTASIS      = False\n",
    "REGULARIZATION_PERCENT = 10   \n",
    "virus_pipeline(TARGET_PROTEIN, REPLICATES, SITE_START, SITE_END, INPUT_DIR, OUTPUT_DIR, EPISTASIS, REGULARIZATION_PERCENT)\n",
    "\n",
    "\n",
    "\n",
    "# ESTIMATE_SELECTION, MAX_READ = MPL_virus_inference(TARGET_PROTEIN, DNACODON, REPLICATES, MPL_DIR, MPL_RAW_DIR)\n",
    "# REGULARIZATION_LIST = [np.power(10, float(i)) for i in range(int(np.log10(1/MAX_READ)-1), 4)]\n",
    "# CORRELATION_LIST = optimize_regularization_virus(ESTIMATE_SELECTION, REPLICATES, REGULARIZATION_LIST)\n",
    "# plot_reg_corr(REGULARIZATION_LIST, CORRELATION_LIST, TARGET_PROTEIN)\n",
    "\n",
    "# REGULARIZATION_SELECTED = find_best_regularization(REGULARIZATION_LIST, CORRELATION_LIST, REGULARIZATION_PERCENT)"
   ]
  },
  {
   "cell_type": "markdown",
   "metadata": {},
   "source": [
    "# HIV bnAbs FP20"
   ]
  },
  {
   "cell_type": "code",
   "execution_count": null,
   "metadata": {},
   "outputs": [],
   "source": [
    "INPUT_DIR      = './data/virus_protein/HIV_bnAbs/FP20/raw_data'  \n",
    "OUTPUT_DIR     = './outputs/virus_protein/HIV_bnAbs/FP20/selection_coefficients/'\n",
    "SITE_START, SITE_END = 1, 670\n",
    "REPLICATES     = [1, 2]                    \n",
    "TARGET_PROTEIN = 'HIV bnAbs FP20'                 \n",
    "MPL_DIR        = 'MPL'                              \n",
    "PREFS_DIR      = 'prefs'                            \n",
    "MPL_RAW_DIR    = 'raw_selection_coefficients'       \n",
    "DNACODON       = 'DNA_codoncounts.csv'         \n",
    "EPISTASIS      = False\n",
    "REGULARIZATION_PERCENT = 10   \n",
    "virus_pipeline(TARGET_PROTEIN, REPLICATES, SITE_START, SITE_END, INPUT_DIR, OUTPUT_DIR, EPISTASIS, REGULARIZATION_PERCENT)\n",
    "\n",
    "\n",
    "\n",
    "# ESTIMATE_SELECTION, MAX_READ = MPL_virus_inference(TARGET_PROTEIN, DNACODON, REPLICATES, MPL_DIR, MPL_RAW_DIR)\n",
    "# REGULARIZATION_LIST = [np.power(10, float(i)) for i in range(int(np.log10(1/MAX_READ)-1), 4)]\n",
    "# CORRELATION_LIST = optimize_regularization_virus(ESTIMATE_SELECTION, REPLICATES, REGULARIZATION_LIST)\n",
    "# plot_reg_corr(REGULARIZATION_LIST, CORRELATION_LIST, TARGET_PROTEIN)\n",
    "\n",
    "# REGULARIZATION_SELECTED = find_best_regularization(REGULARIZATION_LIST, CORRELATION_LIST, REGULARIZATION_PERCENT)"
   ]
  },
  {
   "cell_type": "markdown",
   "metadata": {},
   "source": [
    "# HIV bnAbs VRC34"
   ]
  },
  {
   "cell_type": "code",
   "execution_count": null,
   "metadata": {},
   "outputs": [],
   "source": [
    "INPUT_DIR      = './data/virus_protein/HIV_bnAbs/VRC34/raw_data'  \n",
    "OUTPUT_DIR     = './outputs/virus_protein/HIV_bnAbs/VRC34/selection_coefficients/'\n",
    "SITE_START, SITE_END = 1, 670\n",
    "REPLICATES     = [1, 2]                    \n",
    "TARGET_PROTEIN = 'HIV bnAbs VRC34'                 \n",
    "MPL_DIR        = 'MPL'                              \n",
    "PREFS_DIR      = 'prefs'                            \n",
    "MPL_RAW_DIR    = 'raw_selection_coefficients'       \n",
    "DNACODON       = 'DNA_codoncounts.csv'         \n",
    "EPISTASIS      = False\n",
    "REGULARIZATION_PERCENT = 10   \n",
    "virus_pipeline(TARGET_PROTEIN, REPLICATES, SITE_START, SITE_END, INPUT_DIR, OUTPUT_DIR, EPISTASIS, REGULARIZATION_PERCENT)\n",
    "\n",
    "\n",
    "\n",
    "# ESTIMATE_SELECTION, MAX_READ = MPL_virus_inference(TARGET_PROTEIN, DNACODON, REPLICATES, MPL_DIR, MPL_RAW_DIR)\n",
    "# REGULARIZATION_LIST = [np.power(10, float(i)) for i in range(int(np.log10(1/MAX_READ)-1), 4)]\n",
    "# CORRELATION_LIST = optimize_regularization_virus(ESTIMATE_SELECTION, REPLICATES, REGULARIZATION_LIST)\n",
    "# plot_reg_corr(REGULARIZATION_LIST, CORRELATION_LIST, TARGET_PROTEIN)\n",
    "\n",
    "# REGULARIZATION_SELECTED = find_best_regularization(REGULARIZATION_LIST, CORRELATION_LIST, REGULARIZATION_PERCENT)"
   ]
  },
  {
   "cell_type": "code",
   "execution_count": null,
   "metadata": {},
   "outputs": [],
   "source": []
  },
  {
   "cell_type": "markdown",
   "metadata": {},
   "source": [
    "# BRCA1 E3\n",
    "\n",
    "This data set is large and the length of sequence is also long."
   ]
  },
  {
   "cell_type": "code",
   "execution_count": null,
   "metadata": {
    "scrolled": true
   },
   "outputs": [],
   "source": [
    "# Arguments input\n",
    "REPLICATES = [1, 2, 3, 4, 5, 6] \n",
    "SITE_START, SITE_END = 1, 303\n",
    "INPUT_DIR = './data/human_protein/BRCA1/E3/allele_counts/'                            # Allele counts file input directory\n",
    "OUTPUT_DIR = './output/human_protein/BRCA1/E3/selection_coefficients/'    # Estimate selection coefficients file output directory\n",
    "EPISTASIS = False\n",
    "\n",
    "INPUT_FILE_PREFIX, FLAG_LIST, SITES = MPL.initialization(SITE_START, SITE_END, INPUT_DIR, OUTPUT_DIR, EPISTASIS)\n",
    "\n",
    "FREQUENCY_DIFF, COVARIANCE_MATRIX, MAX_READ = MPL_elements(FLAG_LIST, INPUT_DIR, REPLICATES, INPUT_FILE_PREFIX, SITES)\n",
    "\n",
    "REGULARIZATION_LIST = [np.power(10, float(i)) for i in range(int(np.log10(1/MAX_READ)-2), 4)]\n",
    "CORRELATION_LIST = optimize_regularization(REGULARIZATION_LIST, SITES, COVARIANCE_MATRIX, FREQUENCY_DIFF, REPLICATES)\n",
    "\n",
    "plot_reg_corr(REGULARIZATION_LIST, CORRELATION_LIST, 'BRCA1 E3')\n"
   ]
  },
  {
   "cell_type": "code",
   "execution_count": null,
   "metadata": {},
   "outputs": [],
   "source": []
  }
 ],
 "metadata": {
  "kernelspec": {
   "display_name": "Python 3",
   "language": "python",
   "name": "python3"
  },
  "language_info": {
   "codemirror_mode": {
    "name": "ipython",
    "version": 3
   },
   "file_extension": ".py",
   "mimetype": "text/x-python",
   "name": "python",
   "nbconvert_exporter": "python",
   "pygments_lexer": "ipython3",
   "version": "3.7.6"
  }
 },
 "nbformat": 4,
 "nbformat_minor": 2
}

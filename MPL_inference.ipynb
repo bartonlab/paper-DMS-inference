{
 "cells": [
  {
   "cell_type": "code",
   "execution_count": 1,
   "metadata": {},
   "outputs": [],
   "source": [
    "import sys, os\n",
    "#from copy import deepcopy\n",
    "from importlib import reload\n",
    "\n",
    "import numpy as np\n",
    "import itertools\n",
    "from itertools import combinations\n",
    "from fractions import Fraction\n",
    "\n",
    "import scipy as sp\n",
    "import scipy.stats as st\n",
    "from scipy import interpolate \n",
    "import copy\n",
    "\n",
    "import pandas as pd\n",
    "\n",
    "import matplotlib\n",
    "import matplotlib.cm as cm\n",
    "import matplotlib.pyplot as plt\n",
    "import matplotlib.gridspec as gridspec\n",
    "import matplotlib.image as mpimg\n",
    "\n",
    "import seaborn as sns\n",
    "\n",
    "import tqdm\n",
    "import time\n",
    "import csv\n",
    "import math\n",
    "\n",
    "import MPL\n",
    "import MPL_virus\n",
    "\n",
    "\n",
    "pd.set_option('display.max_rows', 200)\n",
    "pd.set_option('display.max_columns', 200)\n",
    "\n",
    "AA  = sorted(['A', 'R', 'N', 'D', 'C', 'E', 'Q', 'G', 'H', 'I','L', 'K', 'M', 'F', 'P', 'S', 'T', 'W', 'Y', 'V', '*'])"
   ]
  },
  {
   "cell_type": "markdown",
   "metadata": {},
   "source": [
    "virus glue"
   ]
  },
  {
   "cell_type": "code",
   "execution_count": 2,
   "metadata": {},
   "outputs": [],
   "source": [
    "def virus_pipeline(TARGET_PROTEIN, REPLICATES, SITE_START, SITE_END, INPUT_DIR, OUTPUT_DIR, EPISTASIS, REGULARIZATION_PERCENT):\n",
    "\n",
    "    estimate_selection, regularization_list = MPL_virus_inference(TARGET_PROTEIN, DNACODON, REPLICATES, MPL_DIR, MPL_RAW_DIR)\n",
    "#     REGULARIZATION_LIST = [np.power(10, float(i)) for i in range(int(np.log10(1/MAX_READ)-1), 4)]\n",
    "    correlation_list = optimize_regularization_virus(estimate_selection, REPLICATES, regularization_list)\n",
    "    \n",
    "    plot_reg_corr(regularization_list, correlation_list, TARGET_PROTEIN)\n",
    "\n",
    "    REGULARIZATION_SELECTED = find_best_regularization(regularization_list, correlation_list, REGULARIZATION_PERCENT)\n",
    "\n",
    "\n",
    "    FINAL_SELECTION = output_final_selection_virus(REGULARIZATION_SELECTED, SITE_END, SITE_START, estimate_selection, REPLICATES)\n",
    "    \n",
    "    if os.path.exists(OUTPUT_DIR):\n",
    "        FINAL_SELECTION.to_csv(OUTPUT_DIR+TARGET_PROTEIN+'_'+'%d.csv.gz' %int(np.log10(REGULARIZATION_SELECTED)), index = False, compression = 'gzip')\n",
    "    else:\n",
    "        os.makedirs(OUTPUT_DIR)\n",
    "        FINAL_SELECTION.to_csv(OUTPUT_DIR+TARGET_PROTEIN+'_'+'%d.csv.gz' %int(np.log10(REGULARIZATION_SELECTED)), index = False, compression = 'gzip')\n",
    "\n",
    "def optimize_regularization_virus(estimate_selection, REPLICATES, REGULARIZATION_LIST):\n",
    "    correlation_list = []\n",
    "    for regular in REGULARIZATION_LIST:\n",
    "        temp_sele=[]\n",
    "        temp_corr = []\n",
    "        for replicate in REPLICATES:\n",
    "            temp_sele.append(estimate_selection[str(replicate)][regular])\n",
    "        for pairs in list(combinations(temp_sele, 2)):\n",
    "            temp_corr.append(st.pearsonr(pairs[0], pairs[1])[0])\n",
    "        correlation_list.append(np.mean(temp_corr))\n",
    "    return correlation_list\n",
    "\n",
    "\n",
    "def cov_inverse(cov, L, q, regular):\n",
    "    cov_temp = cov.copy()\n",
    "    for i in range(L):\n",
    "#         print(\"Computing covariance matrix...%.1f%%/100%% completed\"%(float((i+1)/L)*100),end='\\r')\n",
    "        for a in range(q):\n",
    "            cov_temp[(q * i) + a, (q * i) + a] += regular  # diagonal regularization\n",
    "    \n",
    "    for i in range(L):\n",
    "        cov_block = np.zeros((q, q))\n",
    "        for a in range(q):\n",
    "            for b in range(q):\n",
    "                cov_block[a, b] = cov_temp[(q * i) + a, (q * i) + b]\n",
    "\n",
    "        cov_block = np.linalg.inv(cov_block)\n",
    "\n",
    "        for a in range(q):\n",
    "            for b in range(q):\n",
    "                cov_temp[(q * i) + a, (q * i) + b] = cov_block[a, b]\n",
    "\n",
    "    return cov_temp\n",
    "\n",
    "\n",
    "\n",
    "def output_final_selection_virus(REGULARIZATION_SELECTED, SITE_END, SITE_START, estimate_selection, REPLICATES):\n",
    "    \n",
    "    site_list = []\n",
    "    for site in range(SITE_END-SITE_START+1):\n",
    "        site_list+=[site]*21\n",
    "    AA_list = AA*(SITE_END-SITE_START+1)\n",
    "    rep_list = []\n",
    "    for replicate in REPLICATES:\n",
    "        rep_list.append('rep_'+str(replicate))\n",
    "    df_selection = pd.DataFrame(columns=['site', 'amino_acid']+rep_list)\n",
    "    df_selection['site'] = site_list\n",
    "    df_selection['amino_acid'] = AA_list\n",
    "    for replicate in REPLICATES:\n",
    "        df_selection['rep_'+str(replicate)] = estimate_selection[str(replicate)][REGULARIZATION_SELECTED]\n",
    "    return df_selection   \n",
    "        \n",
    "def MPL_virus_inference(TARGET_PROTEIN, DNACODON, REPLICATES, MPL_DIR, MPL_RAW_DIR):\n",
    "    # DATA_DIR = 'data_' + TARGET_PROTEIN\n",
    "    print('------ Calculating single replicate selection coefficients for %s ------' %TARGET_PROTEIN)\n",
    "    print(\"\\nCalculating error probability from %s...\\n\" %DNACODON)\n",
    "\n",
    "    err = MPL_virus.err_correct(INPUT_DIR, DNACODON)\n",
    "    estimate_selection = {}\n",
    "    \n",
    "    minimum = sys.float_info.max\n",
    "\n",
    "    for run_name in REPLICATES:\n",
    "        run_name = str(run_name)\n",
    "        estimate_selection[run_name]={}\n",
    "        func_para = {\n",
    "            'MPL_DIR':      MPL_DIR,                                             # MPL directory\n",
    "            'DMS_DIR':      INPUT_DIR,                                             # DMS directory\n",
    "            'PRE_FILE':     'mutDNA-' + run_name + '_codoncounts.csv',           # Pre-count data file\n",
    "            'POST_FILE':    'mutvirus-' + run_name + '_codoncounts.csv',         # Post-count data filr\n",
    "            'MPL_RAW_DIR':  MPL_RAW_DIR,                                         # MPL raw selection coefficients directory\n",
    "            'run_name':     run_name,                                            # Replicate serial number\n",
    "            'homolog':      TARGET_PROTEIN,                                      # Homolog name\n",
    "            'err':          err                                                  # Error probability for this homolog\n",
    "        }\n",
    "        \n",
    "        FREQUENCY_DIFF, COVARIANCE_MATRIX, L, q, max_read = MPL_virus.MPL_elements(**func_para)\n",
    "        if minimum > 1e50:\n",
    "            minimum = max_read\n",
    "            regularization_list = [np.power(10, float(i)) for i in range(int(np.log10(1/minimum)-1), 4)]\n",
    "        for REGULAR in regularization_list:\n",
    "            INVERSE_COV = cov_inverse(COVARIANCE_MATRIX, L, q, REGULAR)\n",
    "            estimate_selection[run_name][REGULAR] = np.dot(INVERSE_COV, FREQUENCY_DIFF)\n",
    "    #         print(estimate_selection[run_name][REGULAR])\n",
    "    return estimate_selection, regularization_list\n",
    "\n",
    "\n"
   ]
  },
  {
   "cell_type": "markdown",
   "metadata": {},
   "source": [
    "human glue"
   ]
  },
  {
   "cell_type": "code",
   "execution_count": 3,
   "metadata": {},
   "outputs": [],
   "source": [
    "def human_pipeline(TARGET_PROTEIN, REPLICATES, SITE_START, SITE_END, INPUT_DIR, OUTPUT_DIR, EPISTASIS, REGULARIZATION_PERCENT):\n",
    "    INPUT_FILE_PREFIX, FLAG_LIST, SITES = MPL.initialization(SITE_START, SITE_END, INPUT_DIR, OUTPUT_DIR, EPISTASIS)\n",
    "\n",
    "    FREQUENCY_DIFF, COVARIANCE_MATRIX, MAX_READ = MPL_elements(FLAG_LIST, INPUT_DIR, REPLICATES, INPUT_FILE_PREFIX, SITES)\n",
    "\n",
    "#     print(COVARIANCE_MATRIX['amino_acid'][1])\n",
    "    REGULARIZATION_LIST = [np.power(10, float(i)) for i in range(int(np.log10(1/MAX_READ)-1), 4)]\n",
    "    CORRELATION_LIST = optimize_regularization(REGULARIZATION_LIST, SITES, COVARIANCE_MATRIX, FREQUENCY_DIFF, REPLICATES)\n",
    "\n",
    "    plot_reg_corr(REGULARIZATION_LIST, CORRELATION_LIST, TARGET_PROTEIN)\n",
    "\n",
    "    REGULARIZATION_SELECTED = find_best_regularization(REGULARIZATION_LIST, CORRELATION_LIST, REGULARIZATION_PERCENT)\n",
    "\n",
    "    FINAL_SELECTION = output_final_selection_human(REGULARIZATION_SELECTED, SITES, COVARIANCE_MATRIX, FREQUENCY_DIFF, REPLICATES)\n",
    "    \n",
    "    if os.path.exists(OUTPUT_DIR):\n",
    "        FINAL_SELECTION.to_csv(OUTPUT_DIR+TARGET_PROTEIN+'_'+'%d.csv.gz' %int(np.log10(REGULARIZATION_SELECTED)), index = False, compression = 'gzip')\n",
    "    else:\n",
    "        os.makedirs(OUTPUT_DIR)\n",
    "        FINAL_SELECTION.to_csv(OUTPUT_DIR+TARGET_PROTEIN+'_'+'%d.csv.gz' %int(np.log10(REGULARIZATION_SELECTED)), index = False, compression = 'gzip')\n",
    "\n",
    "def MPL_elements(flag_list, Input_dir, replicates, Input_file_prefix, sites):\n",
    "    df_counts_dict = {}\n",
    "    max_read_final = 0\n",
    "\n",
    "    for flag in flag_list:\n",
    "        print('Reading %s allele counts files from:' %flag)\n",
    "        df_counts_dict[flag] = MPL.get_counts(Input_dir, replicates, Input_file_prefix, flag)\n",
    "\n",
    "    df_frequency_dict = {}\n",
    "\n",
    "    for flag in flag_list:\n",
    "        df_frequency_dict[flag], max_read = MPL.counts_to_frequency(df_counts_dict, replicates, flag, sites)\n",
    "        max_read_final = max(max_read_final, max_read)\n",
    "\n",
    "    df_frequency_change_dict = {}\n",
    "\n",
    "    for flag in flag_list:\n",
    "        df_frequency_change_dict[flag] = MPL.frequency_change(df_frequency_dict, flag)\n",
    "\n",
    "    cov_matx = MPL.covariance_matrix(df_frequency_dict, flag_list, sites)\n",
    "    \n",
    "    return df_frequency_change_dict, cov_matx, max_read_final\n",
    "\n",
    "def optimize_regularization(regularization_list, sites, cov_matx, df_frequency_change_dict, replicates):\n",
    "    correlation_list = []\n",
    "    \n",
    "    for gamma in regularization_list:\n",
    "#         print('regularization = %.1E' %gamma)\n",
    "        copy_cov_matx = copy.deepcopy(cov_matx['amino_acid'])\n",
    "        q = len(AA)\n",
    "        L = len(sites)\n",
    "        estimate_selection = {}\n",
    "        \n",
    "        for rep in list(copy_cov_matx.keys()):\n",
    "            \n",
    "            invert_matrix = np.zeros((q * L, q * L))\n",
    "            for k in range(q * L):\n",
    "                invert_matrix[k,k] += gamma\n",
    "#             print([copy_cov_matx[rep][0][k,k] for k in range(q*L)])\n",
    "            for i in range(len(list(copy_cov_matx[rep].keys()))-1):\n",
    "                time_i = list(copy_cov_matx[rep].keys())[i]\n",
    "#                 print([copy_cov_matx[rep][time_i][k,k] for k in range(q*L)])\n",
    "                time_i_post = list(copy_cov_matx[rep].keys())[i+1]\n",
    "                time_interval = time_i_post- time_i\n",
    "#                 print(time_interval)\n",
    "                invert_matrix += time_interval * copy_cov_matx[rep][time_i]\n",
    "#             print([invert_matrix[k,k] for k in range(q*L)])\n",
    "            invert_matrix = np.linalg.inv(invert_matrix)\n",
    "            estimate_selection[rep] = np.inner(invert_matrix, df_frequency_change_dict['single']['amino_acid'][rep])\n",
    "#             print(gamma, rep,estimate_selection[rep][:20])\n",
    "        df_column = ['site', 'amino_acid'] + ['rep_' + str(k) for k in replicates]\n",
    "        df_selection_coefficients = pd.DataFrame(columns = df_column)\n",
    "        column_site = []\n",
    "        column_aa = []\n",
    "        column_sc = []\n",
    "        for rep in replicates:\n",
    "            column_sc.append([])\n",
    "        for site_name in sites:\n",
    "            for aa in AA:\n",
    "                column_site.append(site_name+1)\n",
    "                column_aa.append(aa)\n",
    "        for rep in replicates:\n",
    "            column_sc[replicates.index(rep)].append(estimate_selection[rep])\n",
    "\n",
    "        df_selection_coefficients['site'] = column_site\n",
    "        df_selection_coefficients['amino_acid'] = column_aa\n",
    "        #df_selection_coefficients['rep_1'] = column_sc[0]\n",
    "        for rep in replicates:\n",
    "            df_selection_coefficients['rep_' + str(rep)] = column_sc[replicates.index(rep)][0]\n",
    "\n",
    "#         print((df_selection_coefficients.iloc[:,2:].corr().sum().sum()-len(replicates))/2)\n",
    "#         df_selection_coefficients = df_selection_coefficients[(df_selection_coefficients != 0).all(1)]\n",
    "        correlation_list.append((df_selection_coefficients.iloc[:,2:].corr().sum().sum()-len(replicates))/(len(replicates)*(len(replicates)-1)))\n",
    "    return correlation_list\n",
    "\n",
    "def plot_reg_corr(regularization_list, correlation_list, protein_name):\n",
    "    plt.plot(regularization_list, correlation_list)\n",
    "    plt.xscale('log')\n",
    "    plt.xlabel('Regularization')\n",
    "    plt.ylabel('Pearson Correlation')\n",
    "    plt.title(protein_name+' regularization plot')\n",
    "    plt.show()\n",
    "\n",
    "def find_best_regularization(reg_list, corr_list, percent):\n",
    "    threshold = (max(corr_list)-min(corr_list))/percent\n",
    "    max_index = corr_list.index(max(corr_list))\n",
    "    if abs(corr_list[max_index]-corr_list[0])<0.01:\n",
    "        optimized_regularization = reg_list[0]\n",
    "#         print('Optimized regularization term = %.1e' %optimized_regularization)\n",
    "    else:\n",
    "        for i in range(max_index,0,-1):\n",
    "            if abs(corr_list[i]-corr_list[i-1])>=threshold*corr_list[i]:\n",
    "                optimized_regularization = reg_list[i]\n",
    "                break  \n",
    "    print('Optimized regularization term = %.1e' %optimized_regularization)\n",
    "    return optimized_regularization\n",
    "\n",
    "def output_final_selection_human(gamma, sites, cov_matx, df_frequency_change_dict, replicates):\n",
    "    copy_cov_matx = copy.deepcopy(cov_matx['amino_acid'])\n",
    "    q = len(AA)\n",
    "    L = len(sites)\n",
    "    estimate_selection = {}\n",
    "\n",
    "    for rep in list(copy_cov_matx.keys()):\n",
    "        invert_matrix = np.zeros((q * L, q * L))\n",
    "        for k in range(q * L):\n",
    "            invert_matrix[k,k] += gamma\n",
    "        for i in range(len(list(copy_cov_matx[rep].keys())) - 1):\n",
    "            time_i = list(copy_cov_matx[rep].keys())[i]\n",
    "#             print([copy_cov_matx[rep][generations[time_i]][k,k] for k in range(q*L)])\n",
    "            time_i_post = list(copy_cov_matx[rep].keys())[i+1]\n",
    "            time_interval = (time_i_post- time_i)\n",
    "            invert_matrix += time_interval * copy_cov_matx[rep][time_i]\n",
    "#         for i in range(len(list(copy_cov_matx[rep].keys())) - 1):\n",
    "#             for k in range(q * L):\n",
    "#                 copy_cov_matx[rep][list(copy_cov_matx[rep].keys())[i]][k, k] += gamma\n",
    "#             invert_matrix += (list(copy_cov_matx[rep].keys())[i+1]- list(copy_cov_matx[rep].keys())[i]) * copy_cov_matx[rep][list(copy_cov_matx[rep].keys())[i]]\n",
    "        invert_matrix = np.linalg.inv(invert_matrix)\n",
    "        estimate_selection[rep] = np.inner(invert_matrix, df_frequency_change_dict['single']['amino_acid'][rep])\n",
    "\n",
    "    df_column = ['site', 'amino_acid'] + ['rep_' + str(k) for k in replicates]\n",
    "    df_selection_coefficients = pd.DataFrame(columns = df_column)\n",
    "    column_site = []\n",
    "    column_aa = []\n",
    "    column_sc = []\n",
    "    for rep in replicates:\n",
    "        column_sc.append([])\n",
    "    for site_name in sites:\n",
    "        for aa in AA:\n",
    "            column_site.append(site_name+1)\n",
    "            column_aa.append(aa)\n",
    "    for rep in replicates:\n",
    "        column_sc[replicates.index(rep)].append(estimate_selection[rep])\n",
    "\n",
    "    df_selection_coefficients['site'] = column_site\n",
    "    df_selection_coefficients['amino_acid'] = column_aa\n",
    "    #df_selection_coefficients['rep_1'] = column_sc[0]\n",
    "    for rep in replicates:\n",
    "        df_selection_coefficients['rep_' + str(rep)] = column_sc[replicates.index(rep)][0]\n",
    "\n",
    "    return df_selection_coefficients"
   ]
  },
  {
   "cell_type": "markdown",
   "metadata": {},
   "source": [
    "# YAP1"
   ]
  },
  {
   "cell_type": "code",
   "execution_count": 4,
   "metadata": {
    "scrolled": false
   },
   "outputs": [
    {
     "name": "stdout",
     "output_type": "stream",
     "text": [
      "Reading single allele counts files from:\n",
      "  ./data/human_protein/YAP1/allele_counts/single_allele_counts_rep1.csv\n",
      "   delete 4028 rows of zero count records, remain 4676 rows of non zero count records\n",
      "  ./data/human_protein/YAP1/allele_counts/single_allele_counts_rep2.csv\n",
      "   delete 4028 rows of zero count records, remain 4676 rows of non zero count records\n",
      "Reading double allele counts files from:\n",
      "  ./data/human_protein/YAP1/allele_counts/double_allele_counts_rep1.csv\n",
      "   delete 0 rows of zero count records, remain 317496 rows of non zero count records\n",
      "  ./data/human_protein/YAP1/allele_counts/double_allele_counts_rep2.csv\n",
      "   delete 0 rows of zero count records, remain 317496 rows of non zero count records\n",
      "Getting single allele frequencies table:\n",
      "Replicate 1\n",
      "\tTotal 1684390 reads in generation 0\n",
      "\tTotal 1381826 reads in generation 1\n",
      "\tTotal 789868 reads in generation 2\n",
      "\tTotal 2661120 reads in generation 3\n",
      "Replicate 2\n",
      "\tTotal 2642426 reads in generation 0\n",
      "\tTotal 2881603 reads in generation 1\n",
      "\tTotal 4771474 reads in generation 2\n",
      "\tTotal 5517657 reads in generation 3\n",
      "Getting double allele frequencies table:\n",
      "Replicate 1\n",
      "\tTotal 1684390 reads in generation 0\n",
      "\tTotal 1381826 reads in generation 1\n",
      "\tTotal 789868 reads in generation 2\n",
      "\tTotal 2661120 reads in generation 3\n",
      "Replicate 2\n",
      "\tTotal 2642426 reads in generation 0\n",
      "\tTotal 2881603 reads in generation 1\n",
      "\tTotal 4771474 reads in generation 2\n",
      "\tTotal 5517657 reads in generation 3\n",
      "Getting single allele frequency change of replicate 1 between initial and final generation...\n",
      "Getting single allele frequency change of replicate 2 between initial and final generation...\n",
      "Getting double allele frequency change of replicate 1 between initial and final generation...\n",
      "Getting double allele frequency change of replicate 2 between initial and final generation...\n"
     ]
    },
    {
     "data": {
      "image/png": "[encoded data removed]",
      "text/plain": [
       "<Figure size 432x288 with 1 Axes>"
      ]
     },
     "metadata": {
      "needs_background": "light"
     },
     "output_type": "display_data"
    },
    {
     "name": "stdout",
     "output_type": "stream",
     "text": [
      "Optimized regularization term = 1.0e-03\n",
      "CPU times: user 10.8 s, sys: 761 ms, total: 11.6 s\n",
      "Wall time: 8.53 s\n"
     ]
    }
   ],
   "source": [
    "%%time\n",
    "# Arguments input\n",
    "TARGET_PROTEIN = 'YAP1'\n",
    "REPLICATES = [1, 2] \n",
    "SITE_START, SITE_END = 1, 34\n",
    "INPUT_DIR = './data/human_protein/YAP1/allele_counts/'                            # Allele counts file input directory\n",
    "OUTPUT_DIR = './outputs/human_protein/YAP1/selection_coefficients/test/'    # Estimate selection coefficients file output directory\n",
    "EPISTASIS = False\n",
    "REGULARIZATION_PERCENT = 10\n",
    "\n",
    "human_pipeline(TARGET_PROTEIN, REPLICATES, SITE_START, SITE_END, INPUT_DIR, OUTPUT_DIR, EPISTASIS, REGULARIZATION_PERCENT)\n",
    "\n",
    "\n",
    "# INPUT_FILE_PREFIX, FLAG_LIST, SITES = MPL.initialization(SITE_START, SITE_END, INPUT_DIR, OUTPUT_DIR, EPISTASIS)\n",
    "\n",
    "# FREQUENCY_DIFF, COVARIANCE_MATRIX, MAX_READ = MPL_elements(FLAG_LIST, INPUT_DIR, REPLICATES, INPUT_FILE_PREFIX, SITES)\n",
    "\n",
    "\n",
    "# REGULARIZATION_LIST = [np.power(10, float(i)) for i in range(int(np.log10(1/MAX_READ)-1), 4)]\n",
    "# CORRELATION_LIST = optimize_regularization(REGULARIZATION_LIST, SITES, COVARIANCE_MATRIX, FREQUENCY_DIFF, REPLICATES)\n",
    "\n",
    "# plot_reg_corr(REGULARIZATION_LIST, CORRELATION_LIST, TARGET_PROTEIN)\n",
    "\n",
    "# REGULARIZATION_SELECTED = find_best_regularization(REGULARIZATION_LIST, CORRELATION_LIST, REGULARIZATION_PERCENT)\n",
    "\n",
    "# FINAL_SELECTION = output_final_selection_human(REGULARIZATION_SELECTED, SITES, COVARIANCE_MATRIX, FREQUENCY_DIFF, REPLICATES)\n",
    "\n",
    "# FINAL_SELECTION.to_csv(TARGET_PROTEIN+'_'+'%d.csv.gz' %int(np.log10(REGULARIZATION_SELECTED)), index = False, compression = 'gzip')"
   ]
  },
  {
   "cell_type": "markdown",
   "metadata": {},
   "source": [
    "# DRB1"
   ]
  },
  {
   "cell_type": "code",
   "execution_count": 9,
   "metadata": {},
   "outputs": [
    {
     "name": "stdout",
     "output_type": "stream",
     "text": [
      "Reading single allele counts files from:\n",
      "  ./data/human_protein/DRB1/allele_counts/single_allele_counts_rep1.csv\n",
      "   delete 1649 rows of zero count records, remain 4751 rows of non zero count records\n",
      "  ./data/human_protein/DRB1/allele_counts/single_allele_counts_rep2.csv\n",
      "   delete 1701 rows of zero count records, remain 4699 rows of non zero count records\n",
      "Reading double allele counts files from:\n",
      "  ./data/human_protein/DRB1/allele_counts/double_allele_counts_rep1.csv\n",
      "   delete 4527056 rows of zero count records, remain 388144 rows of non zero count records\n",
      "  ./data/human_protein/DRB1/allele_counts/double_allele_counts_rep2.csv\n",
      "   delete 4533803 rows of zero count records, remain 381397 rows of non zero count records\n",
      "Getting single allele frequencies table:\n",
      "Replicate 1\n",
      "\tTotal 2950956 reads in generation 0\n",
      "\tTotal 2984823 reads in generation 5\n",
      "\tTotal 4543131 reads in generation 8\n",
      "\tTotal 4489743 reads in generation 11\n",
      "Replicate 2\n",
      "\tTotal 2950956 reads in generation 0\n",
      "\tTotal 2998596 reads in generation 5\n",
      "\tTotal 4094305 reads in generation 8\n",
      "\tTotal 4779581 reads in generation 11\n",
      "Getting double allele frequencies table:\n",
      "Replicate 1\n",
      "\tTotal 2950956 reads in generation 0\n",
      "\tTotal 2984823 reads in generation 5\n",
      "\tTotal 4543131 reads in generation 8\n",
      "\tTotal 4489743 reads in generation 11\n",
      "Replicate 2\n",
      "\tTotal 2950956 reads in generation 0\n",
      "\tTotal 2998596 reads in generation 5\n",
      "\tTotal 4094305 reads in generation 8\n",
      "\tTotal 4779581 reads in generation 11\n",
      "Getting single allele frequency change of replicate 1 between initial and final generation...\n",
      "Getting single allele frequency change of replicate 2 between initial and final generation...\n",
      "Getting double allele frequency change of replicate 1 between initial and final generation...\n",
      "Getting double allele frequency change of replicate 2 between initial and final generation...\n"
     ]
    },
    {
     "data": {
      "image/png": "[encoded data removed]",
      "text/plain": [
       "<Figure size 432x288 with 1 Axes>"
      ]
     },
     "metadata": {
      "needs_background": "light"
     },
     "output_type": "display_data"
    },
    {
     "name": "stdout",
     "output_type": "stream",
     "text": [
      "Optimized regularization term = 1.0e+01\n",
      "CPU times: user 12.7 s, sys: 1.44 s, total: 14.2 s\n",
      "Wall time: 12.2 s\n"
     ]
    }
   ],
   "source": [
    "%%time\n",
    "# Arguments input\n",
    "TARGET_PROTEIN = 'DRB1'\n",
    "REPLICATES = [1, 2] \n",
    "SITE_START, SITE_END = 84, 108\n",
    "INPUT_DIR = './data/human_protein/DRB1/allele_counts/'                            # Allele counts file input directory\n",
    "OUTPUT_DIR = './outputs/human_protein/DRB1/selection_coefficients/'    # Estimate selection coefficients file output directory\n",
    "EPISTASIS = False\n",
    "REGULARIZATION_PERCENT = 10\n",
    "\n",
    "human_pipeline(TARGET_PROTEIN, REPLICATES, SITE_START, SITE_END, INPUT_DIR, OUTPUT_DIR, EPISTASIS, REGULARIZATION_PERCENT)\n",
    "\n",
    "# INPUT_FILE_PREFIX, FLAG_LIST, SITES = MPL.initialization(SITE_START, SITE_END, INPUT_DIR, OUTPUT_DIR, EPISTASIS)\n",
    "\n",
    "# FREQUENCY_DIFF, COVARIANCE_MATRIX, MAX_READ = MPL_elements(FLAG_LIST, INPUT_DIR, REPLICATES, INPUT_FILE_PREFIX, SITES)\n",
    "\n",
    "# REGULARIZATION_LIST = [np.power(10, float(i)) for i in range(int(np.log10(1/MAX_READ)-1), 4)]\n",
    "# CORRELATION_LIST = optimize_regularization(REGULARIZATION_LIST, SITES, COVARIANCE_MATRIX, FREQUENCY_DIFF, REPLICATES)\n",
    "\n",
    "# plot_reg_corr(REGULARIZATION_LIST, CORRELATION_LIST, TARGET_PROTEIN)\n",
    "\n",
    "\n",
    "# REGULARIZATION_SELECTED = find_best_regularization(REGULARIZATION_LIST, CORRELATION_LIST, REGULARIZATION_PERCENT)"
   ]
  },
  {
   "cell_type": "markdown",
   "metadata": {},
   "source": [
    "# TpoR MPL"
   ]
  },
  {
   "cell_type": "code",
   "execution_count": 10,
   "metadata": {
    "scrolled": false
   },
   "outputs": [
    {
     "name": "stdout",
     "output_type": "stream",
     "text": [
      "Reading single allele counts files from:\n",
      "  ./data/human_protein/TpoR/TpoR_MPL/allele_counts/single_allele_counts_rep1.csv\n",
      "   delete 426 rows of zero count records, remain 3542 rows of non zero count records\n",
      "  ./data/human_protein/TpoR/TpoR_MPL/allele_counts/single_allele_counts_rep2.csv\n",
      "   delete 426 rows of zero count records, remain 3542 rows of non zero count records\n",
      "  ./data/human_protein/TpoR/TpoR_MPL/allele_counts/single_allele_counts_rep3.csv\n",
      "   delete 426 rows of zero count records, remain 3542 rows of non zero count records\n",
      "  ./data/human_protein/TpoR/TpoR_MPL/allele_counts/single_allele_counts_rep4.csv\n",
      "   delete 426 rows of zero count records, remain 3542 rows of non zero count records\n",
      "  ./data/human_protein/TpoR/TpoR_MPL/allele_counts/single_allele_counts_rep5.csv\n",
      "   delete 426 rows of zero count records, remain 3542 rows of non zero count records\n",
      "  ./data/human_protein/TpoR/TpoR_MPL/allele_counts/single_allele_counts_rep6.csv\n",
      "   delete 426 rows of zero count records, remain 3542 rows of non zero count records\n",
      "Reading double allele counts files from:\n",
      "  ./data/human_protein/TpoR/TpoR_MPL/allele_counts/double_allele_counts_rep1.csv\n",
      "   delete 0 rows of zero count records, remain 106678 rows of non zero count records\n",
      "  ./data/human_protein/TpoR/TpoR_MPL/allele_counts/double_allele_counts_rep2.csv\n",
      "   delete 0 rows of zero count records, remain 106678 rows of non zero count records\n",
      "  ./data/human_protein/TpoR/TpoR_MPL/allele_counts/double_allele_counts_rep3.csv\n",
      "   delete 0 rows of zero count records, remain 106678 rows of non zero count records\n",
      "  ./data/human_protein/TpoR/TpoR_MPL/allele_counts/double_allele_counts_rep4.csv\n",
      "   delete 0 rows of zero count records, remain 106678 rows of non zero count records\n",
      "  ./data/human_protein/TpoR/TpoR_MPL/allele_counts/double_allele_counts_rep5.csv\n",
      "   delete 0 rows of zero count records, remain 106678 rows of non zero count records\n",
      "  ./data/human_protein/TpoR/TpoR_MPL/allele_counts/double_allele_counts_rep6.csv\n",
      "   delete 0 rows of zero count records, remain 106678 rows of non zero count records\n",
      "Getting single allele frequencies table:\n",
      "Replicate 1\n",
      "\tTotal 1645087 reads in generation 0\n",
      "\tTotal 820141 reads in generation 1\n",
      "Replicate 2\n",
      "\tTotal 1645087 reads in generation 0\n",
      "\tTotal 590082 reads in generation 1\n",
      "Replicate 3\n",
      "\tTotal 1645087 reads in generation 0\n",
      "\tTotal 1100755 reads in generation 1\n",
      "Replicate 4\n",
      "\tTotal 1645087 reads in generation 0\n",
      "\tTotal 1168218 reads in generation 1\n",
      "Replicate 5\n",
      "\tTotal 1645087 reads in generation 0\n",
      "\tTotal 954571 reads in generation 1\n",
      "Replicate 6\n",
      "\tTotal 1645087 reads in generation 0\n",
      "\tTotal 1103261 reads in generation 1\n",
      "Getting double allele frequencies table:\n",
      "Replicate 1\n",
      "\tTotal 1645087 reads in generation 0\n",
      "\tTotal 820141 reads in generation 1\n",
      "Replicate 2\n",
      "\tTotal 1645087 reads in generation 0\n",
      "\tTotal 590082 reads in generation 1\n",
      "Replicate 3\n",
      "\tTotal 1645087 reads in generation 0\n",
      "\tTotal 1100755 reads in generation 1\n",
      "Replicate 4\n",
      "\tTotal 1645087 reads in generation 0\n",
      "\tTotal 1168218 reads in generation 1\n",
      "Replicate 5\n",
      "\tTotal 1645087 reads in generation 0\n",
      "\tTotal 954571 reads in generation 1\n",
      "Replicate 6\n",
      "\tTotal 1645087 reads in generation 0\n",
      "\tTotal 1103261 reads in generation 1\n",
      "Getting single allele frequency change of replicate 1 between initial and final generation...\n",
      "Getting single allele frequency change of replicate 2 between initial and final generation...\n",
      "Getting single allele frequency change of replicate 3 between initial and final generation...\n",
      "Getting single allele frequency change of replicate 4 between initial and final generation...\n",
      "Getting single allele frequency change of replicate 5 between initial and final generation...\n",
      "Getting single allele frequency change of replicate 6 between initial and final generation...\n",
      "Getting double allele frequency change of replicate 1 between initial and final generation...\n",
      "Getting double allele frequency change of replicate 2 between initial and final generation...\n",
      "Getting double allele frequency change of replicate 3 between initial and final generation...\n",
      "Getting double allele frequency change of replicate 4 between initial and final generation...\n",
      "Getting double allele frequency change of replicate 5 between initial and final generation...\n",
      "Getting double allele frequency change of replicate 6 between initial and final generation...\n"
     ]
    },
    {
     "data": {
      "image/png": "[encoded data removed]",
      "text/plain": [
       "<Figure size 432x288 with 1 Axes>"
      ]
     },
     "metadata": {
      "needs_background": "light"
     },
     "output_type": "display_data"
    },
    {
     "name": "stdout",
     "output_type": "stream",
     "text": [
      "Optimized regularization term = 1.0e-01\n",
      "CPU times: user 12.3 s, sys: 1.32 s, total: 13.6 s\n",
      "Wall time: 7.98 s\n"
     ]
    }
   ],
   "source": [
    "%%time\n",
    "# Arguments input\n",
    "TARGET_PROTEIN = 'TpoR_MPL'\n",
    "REPLICATES = [1, 2, 3, 4, 5, 6] \n",
    "SITE_START, SITE_END = 1, 31\n",
    "INPUT_DIR = './data/human_protein/TpoR/TpoR_MPL/allele_counts/'                            # Allele counts file input directory\n",
    "OUTPUT_DIR = './outputs/human_protein/TpoR/TpoR_MPL/selection_coefficients/'    # Estimate selection coefficients file output directory\n",
    "EPISTASIS = False\n",
    "REGULARIZATION_PERCENT = 10\n",
    "\n",
    "human_pipeline(TARGET_PROTEIN, REPLICATES, SITE_START, SITE_END, INPUT_DIR, OUTPUT_DIR, EPISTASIS, REGULARIZATION_PERCENT)\n",
    "\n",
    "# INPUT_FILE_PREFIX, FLAG_LIST, SITES = MPL.initialization(SITE_START, SITE_END, INPUT_DIR, OUTPUT_DIR, EPISTASIS)\n",
    "\n",
    "# FREQUENCY_DIFF, COVARIANCE_MATRIX, MAX_READ = MPL_elements(FLAG_LIST, INPUT_DIR, REPLICATES, INPUT_FILE_PREFIX, SITES)\n",
    "\n",
    "# REGULARIZATION_LIST = [np.power(10, float(i)) for i in range(int(np.log10(1/MAX_READ)-1), 4)]\n",
    "# CORRELATION_LIST = optimize_regularization(REGULARIZATION_LIST, SITES, COVARIANCE_MATRIX, FREQUENCY_DIFF, REPLICATES)\n",
    "\n",
    "# plot_reg_corr(REGULARIZATION_LIST, CORRELATION_LIST, TARGET_PROTEIN)\n",
    "\n",
    "\n",
    "# REGULARIZATION_SELECTED = find_best_regularization(REGULARIZATION_LIST, CORRELATION_LIST, REGULARIZATION_PERCENT)"
   ]
  },
  {
   "cell_type": "markdown",
   "metadata": {},
   "source": [
    "# TpoR MPL S505N"
   ]
  },
  {
   "cell_type": "code",
   "execution_count": 12,
   "metadata": {
    "scrolled": false
   },
   "outputs": [
    {
     "name": "stdout",
     "output_type": "stream",
     "text": [
      "Reading single allele counts files from:\n",
      "  ./data/human_protein/TpoR/TpoR_S505NMPL/allele_counts/single_allele_counts_rep1.csv\n",
      "   delete 474 rows of zero count records, remain 3494 rows of non zero count records\n",
      "  ./data/human_protein/TpoR/TpoR_S505NMPL/allele_counts/single_allele_counts_rep2.csv\n",
      "   delete 474 rows of zero count records, remain 3494 rows of non zero count records\n",
      "  ./data/human_protein/TpoR/TpoR_S505NMPL/allele_counts/single_allele_counts_rep3.csv\n",
      "   delete 474 rows of zero count records, remain 3494 rows of non zero count records\n",
      "  ./data/human_protein/TpoR/TpoR_S505NMPL/allele_counts/single_allele_counts_rep4.csv\n",
      "   delete 474 rows of zero count records, remain 3494 rows of non zero count records\n",
      "  ./data/human_protein/TpoR/TpoR_S505NMPL/allele_counts/single_allele_counts_rep5.csv\n",
      "   delete 474 rows of zero count records, remain 3494 rows of non zero count records\n",
      "  ./data/human_protein/TpoR/TpoR_S505NMPL/allele_counts/single_allele_counts_rep6.csv\n",
      "   delete 474 rows of zero count records, remain 3494 rows of non zero count records\n",
      "Reading double allele counts files from:\n",
      "  ./data/human_protein/TpoR/TpoR_S505NMPL/allele_counts/double_allele_counts_rep1.csv\n",
      "   delete 0 rows of zero count records, remain 104358 rows of non zero count records\n",
      "  ./data/human_protein/TpoR/TpoR_S505NMPL/allele_counts/double_allele_counts_rep2.csv\n",
      "   delete 0 rows of zero count records, remain 104358 rows of non zero count records\n",
      "  ./data/human_protein/TpoR/TpoR_S505NMPL/allele_counts/double_allele_counts_rep3.csv\n",
      "   delete 0 rows of zero count records, remain 104358 rows of non zero count records\n",
      "  ./data/human_protein/TpoR/TpoR_S505NMPL/allele_counts/double_allele_counts_rep4.csv\n",
      "   delete 0 rows of zero count records, remain 104358 rows of non zero count records\n",
      "  ./data/human_protein/TpoR/TpoR_S505NMPL/allele_counts/double_allele_counts_rep5.csv\n",
      "   delete 0 rows of zero count records, remain 104358 rows of non zero count records\n",
      "  ./data/human_protein/TpoR/TpoR_S505NMPL/allele_counts/double_allele_counts_rep6.csv\n",
      "   delete 0 rows of zero count records, remain 104358 rows of non zero count records\n",
      "Getting single allele frequencies table:\n",
      "Replicate 1\n",
      "\tTotal 667312 reads in generation 0\n",
      "\tTotal 877007 reads in generation 1\n",
      "Replicate 2\n",
      "\tTotal 1060432 reads in generation 0\n",
      "\tTotal 553508 reads in generation 1\n",
      "Replicate 3\n",
      "\tTotal 1124738 reads in generation 0\n",
      "\tTotal 903018 reads in generation 1\n",
      "Replicate 4\n",
      "\tTotal 1134784 reads in generation 0\n",
      "\tTotal 1969827 reads in generation 1\n",
      "Replicate 5\n",
      "\tTotal 868988 reads in generation 0\n",
      "\tTotal 2105406 reads in generation 1\n",
      "Replicate 6\n",
      "\tTotal 1068096 reads in generation 0\n",
      "\tTotal 1876862 reads in generation 1\n",
      "Getting double allele frequencies table:\n",
      "Replicate 1\n",
      "\tTotal 667312 reads in generation 0\n",
      "\tTotal 877007 reads in generation 1\n",
      "Replicate 2\n",
      "\tTotal 1060432 reads in generation 0\n",
      "\tTotal 553508 reads in generation 1\n",
      "Replicate 3\n",
      "\tTotal 1124738 reads in generation 0\n",
      "\tTotal 903018 reads in generation 1\n",
      "Replicate 4\n",
      "\tTotal 1134784 reads in generation 0\n",
      "\tTotal 1969827 reads in generation 1\n",
      "Replicate 5\n",
      "\tTotal 868988 reads in generation 0\n",
      "\tTotal 2105406 reads in generation 1\n",
      "Replicate 6\n",
      "\tTotal 1068096 reads in generation 0\n",
      "\tTotal 1876862 reads in generation 1\n",
      "Getting single allele frequency change of replicate 1 between initial and final generation...\n",
      "Getting single allele frequency change of replicate 2 between initial and final generation...\n",
      "Getting single allele frequency change of replicate 3 between initial and final generation...\n",
      "Getting single allele frequency change of replicate 4 between initial and final generation...\n",
      "Getting single allele frequency change of replicate 5 between initial and final generation...\n",
      "Getting single allele frequency change of replicate 6 between initial and final generation...\n",
      "Getting double allele frequency change of replicate 1 between initial and final generation...\n",
      "Getting double allele frequency change of replicate 2 between initial and final generation...\n",
      "Getting double allele frequency change of replicate 3 between initial and final generation...\n",
      "Getting double allele frequency change of replicate 4 between initial and final generation...\n",
      "Getting double allele frequency change of replicate 5 between initial and final generation...\n",
      "Getting double allele frequency change of replicate 6 between initial and final generation...\n"
     ]
    },
    {
     "data": {
      "image/png": "[encoded data removed]",
      "text/plain": [
       "<Figure size 432x288 with 1 Axes>"
      ]
     },
     "metadata": {
      "needs_background": "light"
     },
     "output_type": "display_data"
    },
    {
     "name": "stdout",
     "output_type": "stream",
     "text": [
      "Optimized regularization term = 1.0e-01\n",
      "CPU times: user 14.1 s, sys: 1.94 s, total: 16 s\n",
      "Wall time: 9.07 s\n"
     ]
    }
   ],
   "source": [
    "%%time\n",
    "# Arguments input\n",
    "TARGET_PROTEIN = 'TpoR_S505NMPL'\n",
    "REPLICATES = [1, 2, 3, 4, 5, 6] \n",
    "SITE_START, SITE_END = 1, 31\n",
    "INPUT_DIR = './data/human_protein/TpoR/TpoR_S505NMPL/allele_counts/'                            # Allele counts file input directory\n",
    "OUTPUT_DIR = './outputs/human_protein/TpoR/TpoR_S505NMPL/selection_coefficients/'    # Estimate selection coefficients file output directory\n",
    "EPISTASIS = False\n",
    "REGULARIZATION_PERCENT = 10\n",
    "\n",
    "human_pipeline(TARGET_PROTEIN, REPLICATES, SITE_START, SITE_END, INPUT_DIR, OUTPUT_DIR, EPISTASIS, REGULARIZATION_PERCENT)\n",
    "\n",
    "# INPUT_FILE_PREFIX, FLAG_LIST, SITES = MPL.initialization(SITE_START, SITE_END, INPUT_DIR, OUTPUT_DIR, EPISTASIS)\n",
    "\n",
    "# FREQUENCY_DIFF, COVARIANCE_MATRIX, MAX_READ = MPL_elements(FLAG_LIST, INPUT_DIR, REPLICATES, INPUT_FILE_PREFIX, SITES)\n",
    "\n",
    "# REGULARIZATION_LIST = [np.power(10, float(i)) for i in range(int(np.log10(1/MAX_READ)-1), 4)]\n",
    "# CORRELATION_LIST = optimize_regularization(REGULARIZATION_LIST, SITES, COVARIANCE_MATRIX, FREQUENCY_DIFF, REPLICATES)\n",
    "\n",
    "# plot_reg_corr(REGULARIZATION_LIST, CORRELATION_LIST, TARGET_PROTEIN)\n",
    "\n",
    "\n",
    "# REGULARIZATION_SELECTED = find_best_regularization(REGULARIZATION_LIST, CORRELATION_LIST, REGULARIZATION_PERCENT)"
   ]
  },
  {
   "cell_type": "markdown",
   "metadata": {},
   "source": [
    "# Ube4b"
   ]
  },
  {
   "cell_type": "code",
   "execution_count": 13,
   "metadata": {
    "scrolled": false
   },
   "outputs": [
    {
     "name": "stdout",
     "output_type": "stream",
     "text": [
      "Reading single allele counts files from:\n",
      "  ./data/human_protein/Ube4b/allele_counts/single_allele_counts_rep1.csv\n",
      "   delete 15980 rows of zero count records, remain 10388 rows of non zero count records\n",
      "  ./data/human_protein/Ube4b/allele_counts/single_allele_counts_rep2.csv\n",
      "   delete 15980 rows of zero count records, remain 10388 rows of non zero count records\n",
      "Reading double allele counts files from:\n",
      "  ./data/human_protein/Ube4b/allele_counts/double_allele_counts_rep1.csv\n",
      "   delete 0 rows of zero count records, remain 1898584 rows of non zero count records\n",
      "  ./data/human_protein/Ube4b/allele_counts/double_allele_counts_rep2.csv\n",
      "   delete 0 rows of zero count records, remain 1898584 rows of non zero count records\n",
      "Getting single allele frequencies table:\n",
      "Replicate 1\n",
      "\tTotal 7503842 reads in generation 0\n",
      "\tTotal 4016296 reads in generation 1\n",
      "\tTotal 9428941 reads in generation 2\n",
      "\tTotal 10911032 reads in generation 3\n",
      "Replicate 2\n",
      "\tTotal 7503842 reads in generation 0\n",
      "\tTotal 4408083 reads in generation 1\n",
      "\tTotal 8506996 reads in generation 2\n",
      "\tTotal 10251917 reads in generation 3\n",
      "Getting double allele frequencies table:\n",
      "Replicate 1\n",
      "\tTotal 7503842 reads in generation 0\n",
      "\tTotal 4016296 reads in generation 1\n",
      "\tTotal 9428941 reads in generation 2\n",
      "\tTotal 10911032 reads in generation 3\n",
      "Replicate 2\n",
      "\tTotal 7503842 reads in generation 0\n",
      "\tTotal 4408083 reads in generation 1\n",
      "\tTotal 8506996 reads in generation 2\n",
      "\tTotal 10251917 reads in generation 3\n",
      "Getting single allele frequency change of replicate 1 between initial and final generation...\n",
      "Getting single allele frequency change of replicate 2 between initial and final generation...\n",
      "Getting double allele frequency change of replicate 1 between initial and final generation...\n",
      "Getting double allele frequency change of replicate 2 between initial and final generation...\n"
     ]
    },
    {
     "data": {
      "image/png": "[encoded data removed]",
      "text/plain": [
       "<Figure size 432x288 with 1 Axes>"
      ]
     },
     "metadata": {
      "needs_background": "light"
     },
     "output_type": "display_data"
    },
    {
     "name": "stdout",
     "output_type": "stream",
     "text": [
      "Optimized regularization term = 1.0e-04\n",
      "CPU times: user 1min 36s, sys: 4.22 s, total: 1min 40s\n",
      "Wall time: 1min 6s\n"
     ]
    }
   ],
   "source": [
    "%%time\n",
    "# Arguments input\n",
    "TARGET_PROTEIN = 'Ube4b'\n",
    "REPLICATES = [1, 2] \n",
    "SITE_START, SITE_END = 1, 103\n",
    "INPUT_DIR = './data/human_protein/Ube4b/allele_counts/'                            # Allele counts file input directory\n",
    "OUTPUT_DIR = './outputs/human_protein/Ube4b/selection_coefficients/'    # Estimate selection coefficients file output directory\n",
    "EPISTASIS = False\n",
    "REGULARIZATION_PERCENT = 10\n",
    "\n",
    "human_pipeline(TARGET_PROTEIN, REPLICATES, SITE_START, SITE_END, INPUT_DIR, OUTPUT_DIR, EPISTASIS, REGULARIZATION_PERCENT)\n",
    "\n",
    "# INPUT_FILE_PREFIX, FLAG_LIST, SITES = MPL.initialization(SITE_START, SITE_END, INPUT_DIR, OUTPUT_DIR, EPISTASIS)\n",
    "\n",
    "# FREQUENCY_DIFF, COVARIANCE_MATRIX, MAX_READ = MPL_elements(FLAG_LIST, INPUT_DIR, REPLICATES, INPUT_FILE_PREFIX, SITES)\n",
    "\n",
    "# REGULARIZATION_LIST = [np.power(10, float(i)) for i in range(int(np.log10(1/MAX_READ)-1), 4)]\n",
    "# CORRELATION_LIST = optimize_regularization(REGULARIZATION_LIST, SITES, COVARIANCE_MATRIX, FREQUENCY_DIFF, REPLICATES)\n",
    "\n",
    "# plot_reg_corr(REGULARIZATION_LIST, CORRELATION_LIST, TARGET_PROTEIN)\n",
    "\n",
    "\n",
    "# REGULARIZATION_SELECTED = find_best_regularization(REGULARIZATION_LIST, CORRELATION_LIST, REGULARIZATION_PERCENT)"
   ]
  },
  {
   "cell_type": "markdown",
   "metadata": {},
   "source": [
    "# Virus proteins"
   ]
  },
  {
   "cell_type": "markdown",
   "metadata": {},
   "source": [
    "# Influenza PR8"
   ]
  },
  {
   "cell_type": "code",
   "execution_count": 4,
   "metadata": {
    "scrolled": false
   },
   "outputs": [
    {
     "name": "stdout",
     "output_type": "stream",
     "text": [
      "------ Calculating single replicate selection coefficients for PR8 ------\n",
      "\n",
      "Calculating error probability from DNA_codoncounts.csv...\n",
      "\n",
      "Calculating selection coefficients for replicate_1 of PR8:\n",
      "Correcting reads and computing allele frequency difference and mutational contribution...\n",
      "Calculating selection coefficients for replicate_2 of PR8:\n",
      "Correcting reads and computing allele frequency difference and mutational contribution...\n",
      "Calculating selection coefficients for replicate_3 of PR8:\n",
      "Correcting reads and computing allele frequency difference and mutational contribution...\n"
     ]
    },
    {
     "data": {
      "image/png": "[encoded data removed]",
      "text/plain": [
       "<Figure size 432x288 with 1 Axes>"
      ]
     },
     "metadata": {
      "needs_background": "light"
     },
     "output_type": "display_data"
    },
    {
     "name": "stdout",
     "output_type": "stream",
     "text": [
      "Optimized regularization term = 1.0e-03\n",
      "CPU times: user 1min 21s, sys: 17.8 s, total: 1min 39s\n",
      "Wall time: 39.6 s\n"
     ]
    }
   ],
   "source": [
    "%%time\n",
    "INPUT_DIR      = './data/virus_protein/Aichi68C_PR8/PR8/raw_data'    \n",
    "OUTPUT_DIR = './outputs/virus_protein/Aichi68C_PR8/PR8/selection_coefficients/'\n",
    "SITE_START, SITE_END = 1, 498\n",
    "REPLICATES     = [1, 2, 3]  \n",
    "TARGET_PROTEIN = 'PR8'                 \n",
    "MPL_DIR        = 'MPL'                              \n",
    "PREFS_DIR      = ''                            \n",
    "MPL_RAW_DIR    = ''   \n",
    "EPISTASIS      = False\n",
    "DNACODON       = 'DNA_codoncounts.csv'              \n",
    "REGULARIZATION_PERCENT = 10  \n",
    "\n",
    "virus_pipeline(TARGET_PROTEIN, REPLICATES, SITE_START, SITE_END, INPUT_DIR, OUTPUT_DIR, EPISTASIS, REGULARIZATION_PERCENT)\n",
    "\n",
    "# ESTIMATE_SELECTION, MAX_READ = MPL_virus_inference(TARGET_PROTEIN, DNACODON, REPLICATES, MPL_DIR, MPL_RAW_DIR)\n",
    "# REGULARIZATION_LIST = [np.power(10, float(i)) for i in range(int(np.log10(1/MAX_READ)-1), 4)]\n",
    "# CORRELATION_LIST = optimize_regularization_virus(ESTIMATE_SELECTION, REPLICATES, REGULARIZATION_LIST)\n",
    "# plot_reg_corr(REGULARIZATION_LIST, CORRELATION_LIST, TARGET_PROTEIN)\n",
    "\n",
    "# REGULARIZATION_SELECTED = find_best_regularization(REGULARIZATION_LIST, CORRELATION_LIST, REGULARIZATION_PERCENT)\n",
    "\n"
   ]
  },
  {
   "cell_type": "markdown",
   "metadata": {},
   "source": [
    "# Influenza Aichi68C"
   ]
  },
  {
   "cell_type": "code",
   "execution_count": 5,
   "metadata": {},
   "outputs": [
    {
     "name": "stdout",
     "output_type": "stream",
     "text": [
      "------ Calculating single replicate selection coefficients for Aichi68C ------\n",
      "\n",
      "Calculating error probability from DNA_codoncounts.csv...\n",
      "\n",
      "Calculating selection coefficients for replicate_1 of Aichi68C:\n",
      "Correcting reads and computing allele frequency difference and mutational contribution...\n",
      "Calculating selection coefficients for replicate_2 of Aichi68C:\n",
      "Correcting reads and computing allele frequency difference and mutational contribution...\n"
     ]
    },
    {
     "data": {
      "image/png": "[encoded data removed]",
      "text/plain": [
       "<Figure size 432x288 with 1 Axes>"
      ]
     },
     "metadata": {
      "needs_background": "light"
     },
     "output_type": "display_data"
    },
    {
     "name": "stdout",
     "output_type": "stream",
     "text": [
      "Optimized regularization term = 1.0e-02\n"
     ]
    }
   ],
   "source": [
    "INPUT_DIR      = './data/virus_protein/Aichi68C_PR8/Aichi68C/raw_data'    \n",
    "OUTPUT_DIR = './outputs/virus_protein/Aichi68C_PR8/Aichi68C/selection_coefficients/'\n",
    "SITE_START, SITE_END = 1, 498\n",
    "REPLICATES     = [1, 2]                    \n",
    "TARGET_PROTEIN = 'Aichi68C'                 \n",
    "MPL_DIR        = ''                              \n",
    "PREFS_DIR      = ''    \n",
    "EPISTASIS      = False\n",
    "MPL_RAW_DIR    = 'raw_selection_coefficients'       \n",
    "DNACODON       = 'DNA_codoncounts.csv'              \n",
    "REGULARIZATION_PERCENT = 10                                                   \n",
    "\n",
    "virus_pipeline(TARGET_PROTEIN, REPLICATES, SITE_START, SITE_END, INPUT_DIR, OUTPUT_DIR, EPISTASIS, REGULARIZATION_PERCENT)\n",
    "\n",
    "\n",
    "# ESTIMATE_SELECTION, MAX_READ = MPL_virus_inference(TARGET_PROTEIN, DNACODON, REPLICATES, MPL_DIR, MPL_RAW_DIR)\n",
    "# REGULARIZATION_LIST = [np.power(10, float(i)) for i in range(int(np.log10(1/MAX_READ)-1), 4)]\n",
    "# CORRELATION_LIST = optimize_regularization_virus(ESTIMATE_SELECTION, REPLICATES, REGULARIZATION_LIST)\n",
    "# plot_reg_corr(REGULARIZATION_LIST, CORRELATION_LIST, TARGET_PROTEIN)\n",
    "\n",
    "# REGULARIZATION_SELECTED = find_best_regularization(REGULARIZATION_LIST, CORRELATION_LIST, REGULARIZATION_PERCENT)"
   ]
  },
  {
   "cell_type": "markdown",
   "metadata": {},
   "source": [
    "# Influenza Matrix_M1"
   ]
  },
  {
   "cell_type": "code",
   "execution_count": 6,
   "metadata": {},
   "outputs": [
    {
     "name": "stdout",
     "output_type": "stream",
     "text": [
      "------ Calculating single replicate selection coefficients for Matrix_M1 ------\n",
      "\n",
      "Calculating error probability from DNA_codoncounts.csv...\n",
      "\n",
      "Calculating selection coefficients for replicate_1 of Matrix_M1:\n",
      "Correcting reads and computing allele frequency difference and mutational contribution...\n",
      "Calculating selection coefficients for replicate_2 of Matrix_M1:\n",
      "Correcting reads and computing allele frequency difference and mutational contribution...\n",
      "Calculating selection coefficients for replicate_3 of Matrix_M1:\n",
      "Correcting reads and computing allele frequency difference and mutational contribution...\n"
     ]
    },
    {
     "data": {
      "image/png": "[encoded data removed]",
      "text/plain": [
       "<Figure size 432x288 with 1 Axes>"
      ]
     },
     "metadata": {
      "needs_background": "light"
     },
     "output_type": "display_data"
    },
    {
     "name": "stdout",
     "output_type": "stream",
     "text": [
      "Optimized regularization term = 1.0e-02\n"
     ]
    }
   ],
   "source": [
    "INPUT_DIR      = './data/virus_protein/Matrix_M1/raw_data' \n",
    "OUTPUT_DIR     = './outputs/virus_protein/Matrix_M1/selection_coefficients/'\n",
    "SITE_START, SITE_END = 1, 253\n",
    "REPLICATES     = [1, 2, 3]                    \n",
    "TARGET_PROTEIN = 'Matrix_M1'                 \n",
    "MPL_DIR        = ''                              \n",
    "PREFS_DIR      = '' \n",
    "EPISTASIS      = False\n",
    "MPL_RAW_DIR    = 'raw_selection_coefficients'       \n",
    "DNACODON       = 'DNA_codoncounts.csv'              \n",
    "REGULARIZATION_PERCENT = 10                                                   \n",
    "\n",
    "virus_pipeline(TARGET_PROTEIN, REPLICATES, SITE_START, SITE_END, INPUT_DIR, OUTPUT_DIR, EPISTASIS, REGULARIZATION_PERCENT)\n",
    "\n",
    "# ESTIMATE_SELECTION, MAX_READ = MPL_virus_inference(TARGET_PROTEIN, DNACODON, REPLICATES, MPL_DIR, MPL_RAW_DIR)\n",
    "# REGULARIZATION_LIST = [np.power(10, float(i)) for i in range(int(np.log10(1/MAX_READ)-1), 4)]\n",
    "# CORRELATION_LIST = optimize_regularization_virus(ESTIMATE_SELECTION, REPLICATES, REGULARIZATION_LIST)\n",
    "# plot_reg_corr(REGULARIZATION_LIST, CORRELATION_LIST, TARGET_PROTEIN)\n",
    "\n",
    "# REGULARIZATION_SELECTED = find_best_regularization(REGULARIZATION_LIST, CORRELATION_LIST, REGULARIZATION_PERCENT)\n",
    "\n",
    "# FINAL_SELECTION = output_final_selection_virus(REGULARIZATION_SELECTED, SITES, SITE_END, SITE_START, COVARIANCE_MATRIX, FREQUENCY_DIFF, REPLICATES)\n",
    "\n",
    "# if os.path.exists(OUTPUT_DIR):\n",
    "#     FINAL_SELECTION.to_csv(OUTPUT_DIR+TARGET_PROTEIN+'_'+'%d.csv.gz' %int(np.log10(REGULARIZATION_SELECTED)), index = False, compression = 'gzip')\n",
    "# else:\n",
    "#     os.makedirs(OUTPUT_DIR)\n",
    "#     FINAL_SELECTION.to_csv(OUTPUT_DIR+TARGET_PROTEIN+'_'+'%d.csv.gz' %int(np.log10(REGULARIZATION_SELECTED)), index = False, compression = 'gzip')\n",
    "\n"
   ]
  },
  {
   "cell_type": "markdown",
   "metadata": {},
   "source": [
    "# Influenza A549"
   ]
  },
  {
   "cell_type": "code",
   "execution_count": 7,
   "metadata": {},
   "outputs": [
    {
     "name": "stdout",
     "output_type": "stream",
     "text": [
      "------ Calculating single replicate selection coefficients for A549 ------\n",
      "\n",
      "Calculating error probability from DNA_codoncounts.csv...\n",
      "\n",
      "Calculating selection coefficients for replicate_1 of A549:\n",
      "Correcting reads and computing allele frequency difference and mutational contribution...\n",
      "Calculating selection coefficients for replicate_2 of A549:\n",
      "Correcting reads and computing allele frequency difference and mutational contribution...\n",
      "Calculating selection coefficients for replicate_3 of A549:\n",
      "Correcting reads and computing allele frequency difference and mutational contribution...\n"
     ]
    },
    {
     "data": {
      "image/png": "[encoded data removed]",
      "text/plain": [
       "<Figure size 432x288 with 1 Axes>"
      ]
     },
     "metadata": {
      "needs_background": "light"
     },
     "output_type": "display_data"
    },
    {
     "name": "stdout",
     "output_type": "stream",
     "text": [
      "Optimized regularization term = 1.0e-03\n"
     ]
    }
   ],
   "source": [
    "INPUT_DIR      = './data/virus_protein/PB2/A549/raw_data' \n",
    "OUTPUT_DIR     = './outputs/virus_protein/PB2/A549/selection_coefficients/'\n",
    "SITE_START, SITE_END = 1, 760\n",
    "REPLICATES     = [1, 2, 3]                    \n",
    "TARGET_PROTEIN = 'A549'                 \n",
    "MPL_DIR        = ''                              \n",
    "PREFS_DIR      = ''                            \n",
    "MPL_RAW_DIR    = 'raw_selection_coefficients'       \n",
    "DNACODON       = 'DNA_codoncounts.csv'              \n",
    "REGULARIZATION_PERCENT = 10 \n",
    "\n",
    "virus_pipeline(TARGET_PROTEIN, REPLICATES, SITE_START, SITE_END, INPUT_DIR, OUTPUT_DIR, EPISTASIS, REGULARIZATION_PERCENT)\n",
    "\n",
    "# ESTIMATE_SELECTION, MAX_READ = MPL_virus_inference(TARGET_PROTEIN, DNACODON, REPLICATES, MPL_DIR, MPL_RAW_DIR)\n",
    "# REGULARIZATION_LIST = [np.power(10, float(i)) for i in range(int(np.log10(1/MAX_READ)-1), 4)]\n",
    "# CORRELATION_LIST = optimize_regularization_virus(ESTIMATE_SELECTION, REPLICATES, REGULARIZATION_LIST)\n",
    "# plot_reg_corr(REGULARIZATION_LIST, CORRELATION_LIST, TARGET_PROTEIN)\n",
    "\n",
    "# REGULARIZATION_SELECTED = find_best_regularization(REGULARIZATION_LIST, CORRELATION_LIST, REGULARIZATION_PERCENT)\n",
    "\n",
    "# FINAL_SELECTION = output_final_selection_virus(REGULARIZATION_SELECTED, SITE_END, SITE_START, COVARIANCE_MATRIX, FREQUENCY_DIFF, REPLICATES)\n",
    "\n",
    "# if os.path.exists(OUTPUT_DIR):\n",
    "#     FINAL_SELECTION.to_csv(OUTPUT_DIR+TARGET_PROTEIN+'_'+'%d.csv.gz' %int(np.log10(REGULARIZATION_SELECTED)), index = False, compression = 'gzip')\n",
    "# else:\n",
    "#     os.makedirs(OUTPUT_DIR)\n",
    "#     FINAL_SELECTION.to_csv(OUTPUT_DIR+TARGET_PROTEIN+'_'+'%d.csv.gz' %int(np.log10(REGULARIZATION_SELECTED)), index = False, compression = 'gzip')\n",
    "\n"
   ]
  },
  {
   "cell_type": "markdown",
   "metadata": {},
   "source": [
    "# Influenza CCL141"
   ]
  },
  {
   "cell_type": "code",
   "execution_count": 8,
   "metadata": {},
   "outputs": [
    {
     "name": "stdout",
     "output_type": "stream",
     "text": [
      "------ Calculating single replicate selection coefficients for CCL141 ------\n",
      "\n",
      "Calculating error probability from DNA_codoncounts.csv...\n",
      "\n",
      "Calculating selection coefficients for replicate_1 of CCL141:\n",
      "Correcting reads and computing allele frequency difference and mutational contribution...\n",
      "Calculating selection coefficients for replicate_2 of CCL141:\n",
      "Correcting reads and computing allele frequency difference and mutational contribution...\n",
      "Calculating selection coefficients for replicate_3 of CCL141:\n",
      "Correcting reads and computing allele frequency difference and mutational contribution...\n"
     ]
    },
    {
     "data": {
      "image/png": "[encoded data removed]",
      "text/plain": [
       "<Figure size 432x288 with 1 Axes>"
      ]
     },
     "metadata": {
      "needs_background": "light"
     },
     "output_type": "display_data"
    },
    {
     "name": "stdout",
     "output_type": "stream",
     "text": [
      "Optimized regularization term = 1.0e-03\n"
     ]
    }
   ],
   "source": [
    "INPUT_DIR      = './data/virus_protein/PB2/CCL141/raw_data' \n",
    "OUTPUT_DIR     = './outputs/virus_protein/PB2/CCL141/selection_coefficients/'\n",
    "SITE_START, SITE_END = 1, 760\n",
    "REPLICATES     = [1, 2, 3]                    \n",
    "TARGET_PROTEIN = 'CCL141'                 \n",
    "MPL_DIR        = ''                              \n",
    "PREFS_DIR      = ''                            \n",
    "MPL_RAW_DIR    = 'raw_selection_coefficients'       \n",
    "DNACODON       = 'DNA_codoncounts.csv'              \n",
    "REGULARIZATION_PERCENT = 10    \n",
    "\n",
    "virus_pipeline(TARGET_PROTEIN, REPLICATES, SITE_START, SITE_END, INPUT_DIR, OUTPUT_DIR, EPISTASIS, REGULARIZATION_PERCENT)\n",
    "\n",
    "# ESTIMATE_SELECTION, MAX_READ = MPL_virus_inference(TARGET_PROTEIN, DNACODON, REPLICATES, MPL_DIR, MPL_RAW_DIR)\n",
    "# REGULARIZATION_LIST = [np.power(10, float(i)) for i in range(int(np.log10(1/MAX_READ)-1), 4)]\n",
    "# CORRELATION_LIST = optimize_regularization_virus(ESTIMATE_SELECTION, REPLICATES, REGULARIZATION_LIST)\n",
    "# plot_reg_corr(REGULARIZATION_LIST, CORRELATION_LIST, TARGET_PROTEIN)\n",
    "\n",
    "# REGULARIZATION_SELECTED = find_best_regularization(REGULARIZATION_LIST, CORRELATION_LIST, REGULARIZATION_PERCENT)\n",
    "\n",
    "# FINAL_SELECTION = output_final_selection_virus(REGULARIZATION_SELECTED, SITE_END, SITE_START, COVARIANCE_MATRIX, FREQUENCY_DIFF, REPLICATES)\n",
    "\n",
    "# if os.path.exists(OUTPUT_DIR):\n",
    "#     FINAL_SELECTION.to_csv(OUTPUT_DIR+TARGET_PROTEIN+'_'+'%d.csv.gz' %int(np.log10(REGULARIZATION_SELECTED)), index = False, compression = 'gzip')\n",
    "# else:\n",
    "#     os.makedirs(OUTPUT_DIR)\n",
    "#     FINAL_SELECTION.to_csv(OUTPUT_DIR+TARGET_PROTEIN+'_'+'%d.csv.gz' %int(np.log10(REGULARIZATION_SELECTED)), index = False, compression = 'gzip')\n"
   ]
  },
  {
   "cell_type": "markdown",
   "metadata": {},
   "source": [
    "# Influenza MS"
   ]
  },
  {
   "cell_type": "code",
   "execution_count": 9,
   "metadata": {},
   "outputs": [
    {
     "name": "stdout",
     "output_type": "stream",
     "text": [
      "------ Calculating single replicate selection coefficients for MS ------\n",
      "\n",
      "Calculating error probability from DNA_codoncounts.csv...\n",
      "\n",
      "Calculating selection coefficients for replicate_1 of MS:\n",
      "Correcting reads and computing allele frequency difference and mutational contribution...\n",
      "Calculating selection coefficients for replicate_2 of MS:\n",
      "Correcting reads and computing allele frequency difference and mutational contribution...\n"
     ]
    },
    {
     "data": {
      "image/png": "[encoded data removed]",
      "text/plain": [
       "<Figure size 432x288 with 1 Axes>"
      ]
     },
     "metadata": {
      "needs_background": "light"
     },
     "output_type": "display_data"
    },
    {
     "name": "stdout",
     "output_type": "stream",
     "text": [
      "Optimized regularization term = 1.0e-03\n"
     ]
    }
   ],
   "source": [
    "INPUT_DIR      = './data/virus_protein/MxA/MS/raw_data'    \n",
    "OUTPUT_DIR     = './outputs/virus_protein/MxA/MS/selection_coefficients/'\n",
    "SITE_START, SITE_END = 1, 498\n",
    "REPLICATES     = [1, 2]                    \n",
    "TARGET_PROTEIN = 'MS'                 \n",
    "MPL_DIR        = ''                              \n",
    "PREFS_DIR      = ''                            \n",
    "MPL_RAW_DIR    = 'raw_selection_coefficients'       \n",
    "DNACODON       = 'DNA_codoncounts.csv'              \n",
    "REGULARIZATION_PERCENT = 10                                                   \n",
    "\n",
    "virus_pipeline(TARGET_PROTEIN, REPLICATES, SITE_START, SITE_END, INPUT_DIR, OUTPUT_DIR, EPISTASIS, REGULARIZATION_PERCENT)\n",
    "\n",
    "\n",
    "# ESTIMATE_SELECTION, MAX_READ = MPL_virus_inference(TARGET_PROTEIN, DNACODON, REPLICATES, MPL_DIR, MPL_RAW_DIR)\n",
    "# REGULARIZATION_LIST = [np.power(10, float(i)) for i in range(int(np.log10(1/MAX_READ)-1), 4)]\n",
    "# CORRELATION_LIST = optimize_regularization_virus(ESTIMATE_SELECTION, REPLICATES, REGULARIZATION_LIST)\n",
    "# plot_reg_corr(REGULARIZATION_LIST, CORRELATION_LIST, TARGET_PROTEIN)\n",
    "\n",
    "# REGULARIZATION_SELECTED = find_best_regularization(REGULARIZATION_LIST, CORRELATION_LIST, REGULARIZATION_PERCENT)\n",
    "\n",
    "# FINAL_SELECTION = output_final_selection_virus(REGULARIZATION_SELECTED, SITE_END, SITE_START, COVARIANCE_MATRIX, FREQUENCY_DIFF, REPLICATES)\n",
    "\n",
    "# if os.path.exists(OUTPUT_DIR):\n",
    "#     FINAL_SELECTION.to_csv(OUTPUT_DIR+TARGET_PROTEIN+'_'+'%d.csv.gz' %int(np.log10(REGULARIZATION_SELECTED)), index = False, compression = 'gzip')\n",
    "# else:\n",
    "#     os.makedirs(OUTPUT_DIR)\n",
    "#     FINAL_SELECTION.to_csv(OUTPUT_DIR+TARGET_PROTEIN+'_'+'%d.csv.gz' %int(np.log10(REGULARIZATION_SELECTED)), index = False, compression = 'gzip')"
   ]
  },
  {
   "cell_type": "markdown",
   "metadata": {},
   "source": [
    "# Influenza MxA"
   ]
  },
  {
   "cell_type": "code",
   "execution_count": 10,
   "metadata": {},
   "outputs": [
    {
     "name": "stdout",
     "output_type": "stream",
     "text": [
      "------ Calculating single replicate selection coefficients for MxA ------\n",
      "\n",
      "Calculating error probability from DNA_codoncounts.csv...\n",
      "\n",
      "Calculating selection coefficients for replicate_1 of MxA:\n",
      "Correcting reads and computing allele frequency difference and mutational contribution...\n",
      "Calculating selection coefficients for replicate_2 of MxA:\n",
      "Correcting reads and computing allele frequency difference and mutational contribution...\n"
     ]
    },
    {
     "data": {
      "image/png": "[encoded data removed]",
      "text/plain": [
       "<Figure size 432x288 with 1 Axes>"
      ]
     },
     "metadata": {
      "needs_background": "light"
     },
     "output_type": "display_data"
    },
    {
     "name": "stdout",
     "output_type": "stream",
     "text": [
      "Optimized regularization term = 1.0e-03\n"
     ]
    }
   ],
   "source": [
    "INPUT_DIR      = './data/virus_protein/MxA/MxA/raw_data' \n",
    "OUTPUT_DIR     = './outputs/virus_protein/MxA/MxA/selection_coefficients/'\n",
    "SITE_START, SITE_END = 1, 498\n",
    "REPLICATES     = [1, 2]                    \n",
    "TARGET_PROTEIN = 'MxA'                 \n",
    "MPL_DIR        = ''                              \n",
    "PREFS_DIR      = ''                            \n",
    "MPL_RAW_DIR    = 'raw_selection_coefficients'       \n",
    "DNACODON       = 'DNA_codoncounts.csv'              \n",
    "REGULARIZATION_PERCENT = 10                                                   \n",
    "virus_pipeline(TARGET_PROTEIN, REPLICATES, SITE_START, SITE_END, INPUT_DIR, OUTPUT_DIR, EPISTASIS, REGULARIZATION_PERCENT)\n",
    "\n",
    "\n",
    "# ESTIMATE_SELECTION, MAX_READ = MPL_virus_inference(TARGET_PROTEIN, DNACODON, REPLICATES, MPL_DIR, MPL_RAW_DIR)\n",
    "# REGULARIZATION_LIST = [np.power(10, float(i)) for i in range(int(np.log10(1/MAX_READ)-1), 4)]\n",
    "# CORRELATION_LIST = optimize_regularization_virus(ESTIMATE_SELECTION, REPLICATES, REGULARIZATION_LIST)\n",
    "# plot_reg_corr(REGULARIZATION_LIST, CORRELATION_LIST, TARGET_PROTEIN)\n",
    "\n",
    "# REGULARIZATION_SELECTED = find_best_regularization(REGULARIZATION_LIST, CORRELATION_LIST, REGULARIZATION_PERCENT)"
   ]
  },
  {
   "cell_type": "markdown",
   "metadata": {},
   "source": [
    "# Influenza MxAneg"
   ]
  },
  {
   "cell_type": "code",
   "execution_count": 11,
   "metadata": {},
   "outputs": [
    {
     "name": "stdout",
     "output_type": "stream",
     "text": [
      "------ Calculating single replicate selection coefficients for MxAneg ------\n",
      "\n",
      "Calculating error probability from DNA_codoncounts.csv...\n",
      "\n",
      "Calculating selection coefficients for replicate_1 of MxAneg:\n",
      "Correcting reads and computing allele frequency difference and mutational contribution...\n",
      "Calculating selection coefficients for replicate_2 of MxAneg:\n",
      "Correcting reads and computing allele frequency difference and mutational contribution...\n"
     ]
    },
    {
     "data": {
      "image/png": "[encoded data removed]",
      "text/plain": [
       "<Figure size 432x288 with 1 Axes>"
      ]
     },
     "metadata": {
      "needs_background": "light"
     },
     "output_type": "display_data"
    },
    {
     "name": "stdout",
     "output_type": "stream",
     "text": [
      "Optimized regularization term = 1.0e-03\n"
     ]
    }
   ],
   "source": [
    "INPUT_DIR      = './data/virus_protein/MxA/MxAneg/raw_data'  \n",
    "OUTPUT_DIR     = './outputs/virus_protein/MxA/MxAneg/selection_coefficients/'\n",
    "SITE_START, SITE_END = 1, 498\n",
    "REPLICATES     = [1, 2]                    \n",
    "TARGET_PROTEIN = 'MxAneg'                 \n",
    "MPL_DIR        = ''                              \n",
    "PREFS_DIR      = '='                            \n",
    "MPL_RAW_DIR    = 'raw_selection_coefficients'       \n",
    "DNACODON       = 'DNA_codoncounts.csv'              \n",
    "REGULARIZATION_PERCENT = 10                                                   \n",
    "virus_pipeline(TARGET_PROTEIN, REPLICATES, SITE_START, SITE_END, INPUT_DIR, OUTPUT_DIR, EPISTASIS, REGULARIZATION_PERCENT)\n",
    "\n",
    "\n",
    "# ESTIMATE_SELECTION, MAX_READ = MPL_virus_inference(TARGET_PROTEIN, DNACODON, REPLICATES, MPL_DIR, MPL_RAW_DIR)\n",
    "# REGULARIZATION_LIST = [np.power(10, float(i)) for i in range(int(np.log10(1/MAX_READ)-1), 4)]\n",
    "# CORRELATION_LIST = optimize_regularization_virus(ESTIMATE_SELECTION, REPLICATES, REGULARIZATION_LIST)\n",
    "# plot_reg_corr(REGULARIZATION_LIST, CORRELATION_LIST, TARGET_PROTEIN)\n",
    "\n",
    "# REGULARIZATION_SELECTED = find_best_regularization(REGULARIZATION_LIST, CORRELATION_LIST, REGULARIZATION_PERCENT)"
   ]
  },
  {
   "cell_type": "markdown",
   "metadata": {},
   "source": [
    "# HIV Env BG505"
   ]
  },
  {
   "cell_type": "code",
   "execution_count": 12,
   "metadata": {},
   "outputs": [
    {
     "name": "stdout",
     "output_type": "stream",
     "text": [
      "------ Calculating single replicate selection coefficients for HIV Env BG505 ------\n",
      "\n",
      "Calculating error probability from DNA_codoncounts.csv...\n",
      "\n",
      "Calculating selection coefficients for replicate_1 of HIV Env BG505:\n",
      "Correcting reads and computing allele frequency difference and mutational contribution...\n",
      "Calculating selection coefficients for replicate_2 of HIV Env BG505:\n",
      "Correcting reads and computing allele frequency difference and mutational contribution...\n",
      "Calculating selection coefficients for replicate_3 of HIV Env BG505:\n",
      "Correcting reads and computing allele frequency difference and mutational contribution...\n"
     ]
    },
    {
     "data": {
      "image/png": "[encoded data removed]",
      "text/plain": [
       "<Figure size 432x288 with 1 Axes>"
      ]
     },
     "metadata": {
      "needs_background": "light"
     },
     "output_type": "display_data"
    },
    {
     "name": "stdout",
     "output_type": "stream",
     "text": [
      "Optimized regularization term = 1.0e-03\n"
     ]
    }
   ],
   "source": [
    "INPUT_DIR      = './data/virus_protein/HIVEnv/BG505/raw_data' \n",
    "OUTPUT_DIR     = './outputs/virus_protein/HIVEnv/BG505/selection_coefficients/'\n",
    "SITE_START, SITE_END = 1, 670\n",
    "REPLICATES     = [1, 2, 3]                    \n",
    "TARGET_PROTEIN = 'HIV Env BG505'                 \n",
    "MPL_DIR        = 'MPL'                              \n",
    "PREFS_DIR      = 'prefs'                            \n",
    "MPL_RAW_DIR    = 'raw_selection_coefficients'       \n",
    "DNACODON       = 'DNA_codoncounts.csv'              \n",
    "REGULARIZATION_PERCENT = 10   \n",
    "virus_pipeline(TARGET_PROTEIN, REPLICATES, SITE_START, SITE_END, INPUT_DIR, OUTPUT_DIR, EPISTASIS, REGULARIZATION_PERCENT)\n",
    "\n",
    "\n",
    "# ESTIMATE_SELECTION, MAX_READ = MPL_virus_inference(TARGET_PROTEIN, DNACODON, REPLICATES, MPL_DIR, MPL_RAW_DIR)\n",
    "# REGULARIZATION_LIST = [np.power(10, float(i)) for i in range(int(np.log10(1/MAX_READ)-1), 4)]\n",
    "# CORRELATION_LIST = optimize_regularization_virus(ESTIMATE_SELECTION, REPLICATES, REGULARIZATION_LIST)\n",
    "# plot_reg_corr(REGULARIZATION_LIST, CORRELATION_LIST, TARGET_PROTEIN)\n",
    "\n",
    "# REGULARIZATION_SELECTED = find_best_regularization(REGULARIZATION_LIST, CORRELATION_LIST, REGULARIZATION_PERCENT)"
   ]
  },
  {
   "cell_type": "markdown",
   "metadata": {},
   "source": [
    "# HIV Env BF520"
   ]
  },
  {
   "cell_type": "code",
   "execution_count": 13,
   "metadata": {},
   "outputs": [
    {
     "name": "stdout",
     "output_type": "stream",
     "text": [
      "------ Calculating single replicate selection coefficients for HIV Env BF520 ------\n",
      "\n",
      "Calculating error probability from DNA_codoncounts.csv...\n",
      "\n",
      "Calculating selection coefficients for replicate_1 of HIV Env BF520:\n",
      "Correcting reads and computing allele frequency difference and mutational contribution...\n",
      "Calculating selection coefficients for replicate_2 of HIV Env BF520:\n",
      "Correcting reads and computing allele frequency difference and mutational contribution...\n",
      "Calculating selection coefficients for replicate_3 of HIV Env BF520:\n",
      "Correcting reads and computing allele frequency difference and mutational contribution...\n"
     ]
    },
    {
     "data": {
      "image/png": "[encoded data removed]",
      "text/plain": [
       "<Figure size 432x288 with 1 Axes>"
      ]
     },
     "metadata": {
      "needs_background": "light"
     },
     "output_type": "display_data"
    },
    {
     "name": "stdout",
     "output_type": "stream",
     "text": [
      "Optimized regularization term = 1.0e-03\n"
     ]
    }
   ],
   "source": [
    "INPUT_DIR      = './data/virus_protein/HIVEnv/BF520/raw_data'   \n",
    "OUTPUT_DIR     = './outputs/virus_protein/HIVEnv/BF520/selection_coefficients/'\n",
    "SITE_START, SITE_END = 1, 662\n",
    "REPLICATES     = [1, 2, 3]                    \n",
    "TARGET_PROTEIN = 'HIV Env BF520'                 \n",
    "MPL_DIR        = ''                              \n",
    "PREFS_DIR      = ''                            \n",
    "MPL_RAW_DIR    = 'raw_selection_coefficients'       \n",
    "DNACODON       = 'DNA_codoncounts.csv'              \n",
    "REGULARIZATION_PERCENT = 10                                                   \n",
    "virus_pipeline(TARGET_PROTEIN, REPLICATES, SITE_START, SITE_END, INPUT_DIR, OUTPUT_DIR, EPISTASIS, REGULARIZATION_PERCENT)\n",
    "\n",
    "\n",
    "# ESTIMATE_SELECTION, MAX_READ = MPL_virus_inference(TARGET_PROTEIN, DNACODON, REPLICATES, MPL_DIR, MPL_RAW_DIR)\n",
    "# REGULARIZATION_LIST = [np.power(10, float(i)) for i in range(int(np.log10(1/MAX_READ)-1), 4)]\n",
    "# CORRELATION_LIST = optimize_regularization_virus(ESTIMATE_SELECTION, REPLICATES, REGULARIZATION_LIST)\n",
    "# plot_reg_corr(REGULARIZATION_LIST, CORRELATION_LIST, TARGET_PROTEIN)\n",
    "\n",
    "# REGULARIZATION_SELECTED = find_best_regularization(REGULARIZATION_LIST, CORRELATION_LIST, REGULARIZATION_PERCENT)"
   ]
  },
  {
   "cell_type": "markdown",
   "metadata": {},
   "source": [
    "# HIV Env BF520 human host"
   ]
  },
  {
   "cell_type": "code",
   "execution_count": 14,
   "metadata": {},
   "outputs": [
    {
     "name": "stdout",
     "output_type": "stream",
     "text": [
      "------ Calculating single replicate selection coefficients for HIV BF520 human host ------\n",
      "\n",
      "Calculating error probability from DNA_codoncounts.csv...\n",
      "\n",
      "Calculating selection coefficients for replicate_1 of HIV BF520 human host:\n",
      "Correcting reads and computing allele frequency difference and mutational contribution...\n",
      "Calculating selection coefficients for replicate_2 of HIV BF520 human host:\n",
      "Correcting reads and computing allele frequency difference and mutational contribution...\n"
     ]
    },
    {
     "data": {
      "image/png": "[encoded data removed]",
      "text/plain": [
       "<Figure size 432x288 with 1 Axes>"
      ]
     },
     "metadata": {
      "needs_background": "light"
     },
     "output_type": "display_data"
    },
    {
     "name": "stdout",
     "output_type": "stream",
     "text": [
      "Optimized regularization term = 1.0e-03\n"
     ]
    }
   ],
   "source": [
    "INPUT_DIR      = './data/virus_protein/HIVEnv_CD4/BF520_human/raw_data' \n",
    "OUTPUT_DIR     = './outputs/virus_protein/HIVEnv_CD4/BF520_human/selection_coefficients/'\n",
    "SITE_START, SITE_END = 1, 670\n",
    "REPLICATES     = [1, 2]                    \n",
    "TARGET_PROTEIN = 'HIV BF520 human host'                 \n",
    "MPL_DIR        = 'MPL'                              \n",
    "PREFS_DIR      = 'prefs'                            \n",
    "MPL_RAW_DIR    = 'raw_selection_coefficients'       \n",
    "DNACODON       = 'DNA_codoncounts.csv'              \n",
    "REGULARIZATION_PERCENT = 10                                                   \n",
    "virus_pipeline(TARGET_PROTEIN, REPLICATES, SITE_START, SITE_END, INPUT_DIR, OUTPUT_DIR, EPISTASIS, REGULARIZATION_PERCENT)\n",
    "\n",
    "\n",
    "# ESTIMATE_SELECTION, MAX_READ = MPL_virus_inference(TARGET_PROTEIN, DNACODON, REPLICATES, MPL_DIR, MPL_RAW_DIR)\n",
    "# REGULARIZATION_LIST = [np.power(10, float(i)) for i in range(int(np.log10(1/MAX_READ)-1), 4)]\n",
    "# CORRELATION_LIST = optimize_regularization_virus(ESTIMATE_SELECTION, REPLICATES, REGULARIZATION_LIST)\n",
    "# plot_reg_corr(REGULARIZATION_LIST, CORRELATION_LIST, TARGET_PROTEIN)\n",
    "\n",
    "# REGULARIZATION_SELECTED = find_best_regularization(REGULARIZATION_LIST, CORRELATION_LIST, REGULARIZATION_PERCENT)"
   ]
  },
  {
   "cell_type": "markdown",
   "metadata": {},
   "source": [
    "# HIV Env BF520 rhesus host"
   ]
  },
  {
   "cell_type": "code",
   "execution_count": 15,
   "metadata": {},
   "outputs": [
    {
     "name": "stdout",
     "output_type": "stream",
     "text": [
      "------ Calculating single replicate selection coefficients for HIV BF520 rhesus host ------\n",
      "\n",
      "Calculating error probability from DNA_codoncounts.csv...\n",
      "\n",
      "Calculating selection coefficients for replicate_1 of HIV BF520 rhesus host:\n",
      "Correcting reads and computing allele frequency difference and mutational contribution...\n",
      "Calculating selection coefficients for replicate_2 of HIV BF520 rhesus host:\n",
      "Correcting reads and computing allele frequency difference and mutational contribution...\n"
     ]
    },
    {
     "data": {
      "image/png": "[encoded data removed]",
      "text/plain": [
       "<Figure size 432x288 with 1 Axes>"
      ]
     },
     "metadata": {
      "needs_background": "light"
     },
     "output_type": "display_data"
    },
    {
     "name": "stdout",
     "output_type": "stream",
     "text": [
      "Optimized regularization term = 1.0e-02\n"
     ]
    }
   ],
   "source": [
    "INPUT_DIR      = './data/virus_protein/HIVEnv_CD4/BF520_rhesus/raw_data'  \n",
    "OUTPUT_DIR     = './outputs/virus_protein/HIVEnv_CD4/BF520_rhesus/selection_coefficients/'\n",
    "SITE_START, SITE_END = 1, 670\n",
    "REPLICATES     = [1, 2]                    \n",
    "TARGET_PROTEIN = 'HIV BF520 rhesus host'                 \n",
    "MPL_DIR        = 'MPL'                              \n",
    "PREFS_DIR      = 'prefs'                            \n",
    "MPL_RAW_DIR    = 'raw_selection_coefficients'       \n",
    "DNACODON       = 'DNA_codoncounts.csv'              \n",
    "REGULARIZATION_PERCENT = 10   \n",
    "virus_pipeline(TARGET_PROTEIN, REPLICATES, SITE_START, SITE_END, INPUT_DIR, OUTPUT_DIR, EPISTASIS, REGULARIZATION_PERCENT)\n",
    "\n",
    "\n",
    "\n",
    "# ESTIMATE_SELECTION, MAX_READ = MPL_virus_inference(TARGET_PROTEIN, DNACODON, REPLICATES, MPL_DIR, MPL_RAW_DIR)\n",
    "# REGULARIZATION_LIST = [np.power(10, float(i)) for i in range(int(np.log10(1/MAX_READ)-1), 4)]\n",
    "# CORRELATION_LIST = optimize_regularization_virus(ESTIMATE_SELECTION, REPLICATES, REGULARIZATION_LIST)\n",
    "# plot_reg_corr(REGULARIZATION_LIST, CORRELATION_LIST, TARGET_PROTEIN)\n",
    "\n",
    "# REGULARIZATION_SELECTED = find_best_regularization(REGULARIZATION_LIST, CORRELATION_LIST, REGULARIZATION_PERCENT)"
   ]
  },
  {
   "cell_type": "markdown",
   "metadata": {},
   "source": [
    "# HIV bnAbs FP16"
   ]
  },
  {
   "cell_type": "code",
   "execution_count": 5,
   "metadata": {},
   "outputs": [
    {
     "name": "stdout",
     "output_type": "stream",
     "text": [
      "------ Calculating single replicate selection coefficients for HIV bnAbs FP16 ------\n",
      "\n",
      "Calculating error probability from DNA_codoncounts.csv...\n",
      "\n",
      "Calculating selection coefficients for replicate_1 of HIV bnAbs FP16:\n",
      "Correcting reads and computing allele frequency difference and mutational contribution...\n",
      "Calculating selection coefficients for replicate_2 of HIV bnAbs FP16:\n",
      "Correcting reads and computing allele frequency difference and mutational contribution...\n"
     ]
    },
    {
     "data": {
      "image/png": "[encoded data removed]",
      "text/plain": [
       "<Figure size 432x288 with 1 Axes>"
      ]
     },
     "metadata": {
      "needs_background": "light"
     },
     "output_type": "display_data"
    },
    {
     "name": "stdout",
     "output_type": "stream",
     "text": [
      "Optimized regularization term = 1.0e-02\n"
     ]
    }
   ],
   "source": [
    "INPUT_DIR      = './data/virus_protein/HIV_bnAbs/FP16/raw_data'  \n",
    "OUTPUT_DIR     = './outputs/virus_protein/HIV_bnAbs/FP16/selection_coefficients/'\n",
    "SITE_START, SITE_END = 1, 670\n",
    "REPLICATES     = [1, 2]                    \n",
    "TARGET_PROTEIN = 'HIV bnAbs FP16'                 \n",
    "MPL_DIR        = 'MPL'                              \n",
    "PREFS_DIR      = 'prefs'                            \n",
    "MPL_RAW_DIR    = 'raw_selection_coefficients'       \n",
    "DNACODON       = 'DNA_codoncounts.csv'         \n",
    "EPISTASIS      = False\n",
    "REGULARIZATION_PERCENT = 10   \n",
    "virus_pipeline(TARGET_PROTEIN, REPLICATES, SITE_START, SITE_END, INPUT_DIR, OUTPUT_DIR, EPISTASIS, REGULARIZATION_PERCENT)\n",
    "\n",
    "\n",
    "\n",
    "# ESTIMATE_SELECTION, MAX_READ = MPL_virus_inference(TARGET_PROTEIN, DNACODON, REPLICATES, MPL_DIR, MPL_RAW_DIR)\n",
    "# REGULARIZATION_LIST = [np.power(10, float(i)) for i in range(int(np.log10(1/MAX_READ)-1), 4)]\n",
    "# CORRELATION_LIST = optimize_regularization_virus(ESTIMATE_SELECTION, REPLICATES, REGULARIZATION_LIST)\n",
    "# plot_reg_corr(REGULARIZATION_LIST, CORRELATION_LIST, TARGET_PROTEIN)\n",
    "\n",
    "# REGULARIZATION_SELECTED = find_best_regularization(REGULARIZATION_LIST, CORRELATION_LIST, REGULARIZATION_PERCENT)"
   ]
  },
  {
   "cell_type": "markdown",
   "metadata": {},
   "source": [
    "# HIV bnAbs FP20"
   ]
  },
  {
   "cell_type": "code",
   "execution_count": 6,
   "metadata": {},
   "outputs": [
    {
     "name": "stdout",
     "output_type": "stream",
     "text": [
      "------ Calculating single replicate selection coefficients for HIV bnAbs FP20 ------\n",
      "\n",
      "Calculating error probability from DNA_codoncounts.csv...\n",
      "\n",
      "Calculating selection coefficients for replicate_1 of HIV bnAbs FP20:\n",
      "Correcting reads and computing allele frequency difference and mutational contribution...\n",
      "Calculating selection coefficients for replicate_2 of HIV bnAbs FP20:\n",
      "Correcting reads and computing allele frequency difference and mutational contribution...\n"
     ]
    },
    {
     "data": {
      "image/png": "[encoded data removed]",
      "text/plain": [
       "<Figure size 432x288 with 1 Axes>"
      ]
     },
     "metadata": {
      "needs_background": "light"
     },
     "output_type": "display_data"
    },
    {
     "name": "stdout",
     "output_type": "stream",
     "text": [
      "Optimized regularization term = 1.0e-02\n"
     ]
    }
   ],
   "source": [
    "INPUT_DIR      = './data/virus_protein/HIV_bnAbs/FP20/raw_data'  \n",
    "OUTPUT_DIR     = './outputs/virus_protein/HIV_bnAbs/FP20/selection_coefficients/'\n",
    "SITE_START, SITE_END = 1, 670\n",
    "REPLICATES     = [1, 2]                    \n",
    "TARGET_PROTEIN = 'HIV bnAbs FP20'                 \n",
    "MPL_DIR        = 'MPL'                              \n",
    "PREFS_DIR      = 'prefs'                            \n",
    "MPL_RAW_DIR    = 'raw_selection_coefficients'       \n",
    "DNACODON       = 'DNA_codoncounts.csv'         \n",
    "EPISTASIS      = False\n",
    "REGULARIZATION_PERCENT = 10   \n",
    "virus_pipeline(TARGET_PROTEIN, REPLICATES, SITE_START, SITE_END, INPUT_DIR, OUTPUT_DIR, EPISTASIS, REGULARIZATION_PERCENT)\n",
    "\n",
    "\n",
    "\n",
    "# ESTIMATE_SELECTION, MAX_READ = MPL_virus_inference(TARGET_PROTEIN, DNACODON, REPLICATES, MPL_DIR, MPL_RAW_DIR)\n",
    "# REGULARIZATION_LIST = [np.power(10, float(i)) for i in range(int(np.log10(1/MAX_READ)-1), 4)]\n",
    "# CORRELATION_LIST = optimize_regularization_virus(ESTIMATE_SELECTION, REPLICATES, REGULARIZATION_LIST)\n",
    "# plot_reg_corr(REGULARIZATION_LIST, CORRELATION_LIST, TARGET_PROTEIN)\n",
    "\n",
    "# REGULARIZATION_SELECTED = find_best_regularization(REGULARIZATION_LIST, CORRELATION_LIST, REGULARIZATION_PERCENT)"
   ]
  },
  {
   "cell_type": "markdown",
   "metadata": {},
   "source": [
    "# HIV bnAbs VRC34"
   ]
  },
  {
   "cell_type": "code",
   "execution_count": 7,
   "metadata": {},
   "outputs": [
    {
     "name": "stdout",
     "output_type": "stream",
     "text": [
      "------ Calculating single replicate selection coefficients for HIV bnAbs VRC34 ------\n",
      "\n",
      "Calculating error probability from DNA_codoncounts.csv...\n",
      "\n",
      "Calculating selection coefficients for replicate_1 of HIV bnAbs VRC34:\n",
      "Correcting reads and computing allele frequency difference and mutational contribution...\n",
      "Calculating selection coefficients for replicate_2 of HIV bnAbs VRC34:\n",
      "Correcting reads and computing allele frequency difference and mutational contribution...\n"
     ]
    },
    {
     "data": {
      "image/png": "[encoded data removed]",
      "text/plain": [
       "<Figure size 432x288 with 1 Axes>"
      ]
     },
     "metadata": {
      "needs_background": "light"
     },
     "output_type": "display_data"
    },
    {
     "name": "stdout",
     "output_type": "stream",
     "text": [
      "Optimized regularization term = 1.0e-02\n"
     ]
    }
   ],
   "source": [
    "INPUT_DIR      = './data/virus_protein/HIV_bnAbs/VRC34/raw_data'  \n",
    "OUTPUT_DIR     = './outputs/virus_protein/HIV_bnAbs/VRC34/selection_coefficients/'\n",
    "SITE_START, SITE_END = 1, 670\n",
    "REPLICATES     = [1, 2]                    \n",
    "TARGET_PROTEIN = 'HIV bnAbs VRC34'                 \n",
    "MPL_DIR        = 'MPL'                              \n",
    "PREFS_DIR      = 'prefs'                            \n",
    "MPL_RAW_DIR    = 'raw_selection_coefficients'       \n",
    "DNACODON       = 'DNA_codoncounts.csv'         \n",
    "EPISTASIS      = False\n",
    "REGULARIZATION_PERCENT = 10   \n",
    "virus_pipeline(TARGET_PROTEIN, REPLICATES, SITE_START, SITE_END, INPUT_DIR, OUTPUT_DIR, EPISTASIS, REGULARIZATION_PERCENT)\n",
    "\n",
    "\n",
    "\n",
    "# ESTIMATE_SELECTION, MAX_READ = MPL_virus_inference(TARGET_PROTEIN, DNACODON, REPLICATES, MPL_DIR, MPL_RAW_DIR)\n",
    "# REGULARIZATION_LIST = [np.power(10, float(i)) for i in range(int(np.log10(1/MAX_READ)-1), 4)]\n",
    "# CORRELATION_LIST = optimize_regularization_virus(ESTIMATE_SELECTION, REPLICATES, REGULARIZATION_LIST)\n",
    "# plot_reg_corr(REGULARIZATION_LIST, CORRELATION_LIST, TARGET_PROTEIN)\n",
    "\n",
    "# REGULARIZATION_SELECTED = find_best_regularization(REGULARIZATION_LIST, CORRELATION_LIST, REGULARIZATION_PERCENT)"
   ]
  },
  {
   "cell_type": "code",
   "execution_count": null,
   "metadata": {},
   "outputs": [],
   "source": []
  },
  {
   "cell_type": "markdown",
   "metadata": {},
   "source": [
    "# BRCA1 E3\n",
    "\n",
    "This data set is large and the length of sequence is also long."
   ]
  },
  {
   "cell_type": "code",
   "execution_count": 33,
   "metadata": {
    "scrolled": true
   },
   "outputs": [
    {
     "name": "stdout",
     "output_type": "stream",
     "text": [
      "Reading single allele counts files from:\n",
      "  ./data/human_protein/BRCA1/E3/allele_counts/single_allele_counts_rep1.csv\n",
      "   delete 47374 rows of zero count records, remain 68978 rows of non zero count records\n",
      "  ./data/human_protein/BRCA1/E3/allele_counts/single_allele_counts_rep2.csv\n",
      "   delete 47682 rows of zero count records, remain 68670 rows of non zero count records\n",
      "  ./data/human_protein/BRCA1/E3/allele_counts/single_allele_counts_rep3.csv\n",
      "   delete 47086 rows of zero count records, remain 69266 rows of non zero count records\n",
      "  ./data/human_protein/BRCA1/E3/allele_counts/single_allele_counts_rep4.csv\n",
      "   delete 49200 rows of zero count records, remain 67152 rows of non zero count records\n",
      "  ./data/human_protein/BRCA1/E3/allele_counts/single_allele_counts_rep5.csv\n",
      "   delete 48482 rows of zero count records, remain 67870 rows of non zero count records\n",
      "  ./data/human_protein/BRCA1/E3/allele_counts/single_allele_counts_rep6.csv\n",
      "   delete 49846 rows of zero count records, remain 66506 rows of non zero count records\n",
      "Reading double allele counts files from:\n",
      "  ./data/human_protein/BRCA1/E3/allele_counts/double_allele_counts_rep1.csv\n",
      "   delete 1375623 rows of zero count records, remain 20615163 rows of non zero count records\n",
      "  ./data/human_protein/BRCA1/E3/allele_counts/double_allele_counts_rep2.csv\n",
      "   delete 1469984 rows of zero count records, remain 20520802 rows of non zero count records\n",
      "  ./data/human_protein/BRCA1/E3/allele_counts/double_allele_counts_rep3.csv\n",
      "   delete 1288450 rows of zero count records, remain 20702336 rows of non zero count records\n",
      "  ./data/human_protein/BRCA1/E3/allele_counts/double_allele_counts_rep4.csv\n",
      "   delete 1932263 rows of zero count records, remain 20058523 rows of non zero count records\n",
      "  ./data/human_protein/BRCA1/E3/allele_counts/double_allele_counts_rep5.csv\n",
      "   delete 1713306 rows of zero count records, remain 20277480 rows of non zero count records\n",
      "  ./data/human_protein/BRCA1/E3/allele_counts/double_allele_counts_rep6.csv\n",
      "   delete 2129281 rows of zero count records, remain 19861505 rows of non zero count records\n",
      "Getting single allele frequencies table:\n",
      "Replicate 1\n",
      "\tTotal 32300943 reads in generation 0\n",
      "\tTotal 3077142 reads in generation 1\n",
      "\tTotal 4897497 reads in generation 2\n",
      "\tTotal 11852795 reads in generation 3\n",
      "\tTotal 9097773 reads in generation 4\n",
      "\tTotal 7431069 reads in generation 5\n",
      "Replicate 2\n",
      "\tTotal 32300943 reads in generation 0\n",
      "\tTotal 1837531 reads in generation 1\n",
      "\tTotal 4100894 reads in generation 2\n",
      "\tTotal 9701402 reads in generation 3\n",
      "\tTotal 6463964 reads in generation 4\n",
      "\tTotal 6414269 reads in generation 5\n",
      "Replicate 3\n",
      "\tTotal 32300943 reads in generation 0\n",
      "\tTotal 4952548 reads in generation 1\n",
      "\tTotal 3215630 reads in generation 2\n",
      "\tTotal 6333900 reads in generation 3\n",
      "\tTotal 10540954 reads in generation 4\n",
      "\tTotal 8776308 reads in generation 5\n",
      "Replicate 4\n",
      "\tTotal 20540851 reads in generation 0\n",
      "\tTotal 19154685 reads in generation 1\n",
      "\tTotal 1372169 reads in generation 2\n",
      "\tTotal 7587361 reads in generation 3\n",
      "\tTotal 20662154 reads in generation 4\n",
      "\tTotal 7207456 reads in generation 5\n",
      "Replicate 5\n",
      "\tTotal 20540851 reads in generation 0\n",
      "\tTotal 13376404 reads in generation 1\n",
      "\tTotal 4253944 reads in generation 2\n",
      "\tTotal 27285876 reads in generation 3\n",
      "\tTotal 13655835 reads in generation 4\n",
      "\tTotal 7954625 reads in generation 5\n",
      "Replicate 6\n",
      "\tTotal 20540851 reads in generation 0\n",
      "\tTotal 4354191 reads in generation 1\n",
      "\tTotal 2406272 reads in generation 2\n",
      "\tTotal 5177607 reads in generation 3\n",
      "\tTotal 7086807 reads in generation 4\n",
      "\tTotal 4092958 reads in generation 5\n",
      "Getting double allele frequencies table:\n",
      "Replicate 1\n",
      "\tTotal 32300943 reads in generation 0\n",
      "\tTotal 3077142 reads in generation 1\n",
      "\tTotal 4897497 reads in generation 2\n",
      "\tTotal 11852795 reads in generation 3\n",
      "\tTotal 9097773 reads in generation 4\n",
      "\tTotal 7431069 reads in generation 5\n",
      "Replicate 2\n",
      "\tTotal 32300943 reads in generation 0\n",
      "\tTotal 1837531 reads in generation 1\n",
      "\tTotal 4100894 reads in generation 2\n",
      "\tTotal 9701402 reads in generation 3\n",
      "\tTotal 6463964 reads in generation 4\n",
      "\tTotal 6414269 reads in generation 5\n",
      "Replicate 3\n",
      "\tTotal 32300943 reads in generation 0\n",
      "\tTotal 4952548 reads in generation 1\n",
      "\tTotal 3215630 reads in generation 2\n",
      "\tTotal 6333900 reads in generation 3\n",
      "\tTotal 10540954 reads in generation 4\n",
      "\tTotal 8776308 reads in generation 5\n",
      "Replicate 4\n",
      "\tTotal 20540851 reads in generation 0\n",
      "\tTotal 19154685 reads in generation 1\n",
      "\tTotal 1372169 reads in generation 2\n",
      "\tTotal 7587361 reads in generation 3\n",
      "\tTotal 20662154 reads in generation 4\n",
      "\tTotal 7207456 reads in generation 5\n",
      "Replicate 5\n",
      "\tTotal 20540851 reads in generation 0\n",
      "\tTotal 13376404 reads in generation 1\n",
      "\tTotal 4253944 reads in generation 2\n",
      "\tTotal 27285876 reads in generation 3\n",
      "\tTotal 13655835 reads in generation 4\n",
      "\tTotal 7954625 reads in generation 5\n",
      "Replicate 6\n",
      "\tTotal 20540851 reads in generation 0\n",
      "\tTotal 4354191 reads in generation 1\n",
      "\tTotal 2406272 reads in generation 2\n",
      "\tTotal 5177607 reads in generation 3\n",
      "\tTotal 7086807 reads in generation 4\n",
      "\tTotal 4092958 reads in generation 5\n",
      "Getting single allele frequency change of replicate 1 between initial and final generation...\n",
      "Getting single allele frequency change of replicate 2 between initial and final generation...\n",
      "Getting single allele frequency change of replicate 3 between initial and final generation...\n",
      "Getting single allele frequency change of replicate 4 between initial and final generation...\n",
      "Getting single allele frequency change of replicate 5 between initial and final generation...\n",
      "Getting single allele frequency change of replicate 6 between initial and final generation...\n",
      "Getting double allele frequency change of replicate 1 between initial and final generation...\n",
      "Getting double allele frequency change of replicate 2 between initial and final generation...\n",
      "Getting double allele frequency change of replicate 3 between initial and final generation...\n",
      "Getting double allele frequency change of replicate 4 between initial and final generation...\n",
      "Getting double allele frequency change of replicate 5 between initial and final generation...\n",
      "Getting double allele frequency change of replicate 6 between initial and final generation...\n"
     ]
    },
    {
     "data": {
      "image/png": "[encoded data removed]",
      "text/plain": [
       "<Figure size 432x288 with 1 Axes>"
      ]
     },
     "metadata": {
      "needs_background": "light"
     },
     "output_type": "display_data"
    }
   ],
   "source": [
    "# Arguments input\n",
    "REPLICATES = [1, 2, 3, 4, 5, 6] \n",
    "SITE_START, SITE_END = 1, 303\n",
    "INPUT_DIR = './data/human_protein/BRCA1/E3/allele_counts/'                            # Allele counts file input directory\n",
    "OUTPUT_DIR = './output/human_protein/BRCA1/E3/selection_coefficients/'    # Estimate selection coefficients file output directory\n",
    "EPISTASIS = False\n",
    "\n",
    "INPUT_FILE_PREFIX, FLAG_LIST, SITES = MPL.initialization(SITE_START, SITE_END, INPUT_DIR, OUTPUT_DIR, EPISTASIS)\n",
    "\n",
    "FREQUENCY_DIFF, COVARIANCE_MATRIX, MAX_READ = MPL_elements(FLAG_LIST, INPUT_DIR, REPLICATES, INPUT_FILE_PREFIX, SITES)\n",
    "\n",
    "REGULARIZATION_LIST = [np.power(10, float(i)) for i in range(int(np.log10(1/MAX_READ)-2), 4)]\n",
    "CORRELATION_LIST = optimize_regularization(REGULARIZATION_LIST, SITES, COVARIANCE_MATRIX, FREQUENCY_DIFF, REPLICATES)\n",
    "\n",
    "plot_reg_corr(REGULARIZATION_LIST, CORRELATION_LIST, 'BRCA1 E3')\n"
   ]
  },
  {
   "cell_type": "code",
   "execution_count": null,
   "metadata": {},
   "outputs": [],
   "source": []
  }
 ],
 "metadata": {
  "kernelspec": {
   "display_name": "Python 3",
   "language": "python",
   "name": "python3"
  },
  "language_info": {
   "codemirror_mode": {
    "name": "ipython",
    "version": 3
   },
   "file_extension": ".py",
   "mimetype": "text/x-python",
   "name": "python",
   "nbconvert_exporter": "python",
   "pygments_lexer": "ipython3",
   "version": "3.7.6"
  }
 },
 "nbformat": 4,
 "nbformat_minor": 2
}

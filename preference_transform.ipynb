{
 "cells": [
  {
   "cell_type": "code",
   "execution_count": 2,
   "id": "c23f11c6",
   "metadata": {},
   "outputs": [],
   "source": [
    "import pandas as pd\n",
    "import popDMS\n",
    "import numpy as np\n",
    "import scipy.stats as st\n",
    "AA  = ['A', 'R', 'N', 'D', 'C', 'E', 'Q', 'G', 'H', 'I','L', 'K', 'M', 'F', 'P', 'S', 'T', 'W', 'Y', 'V']\n"
   ]
  },
  {
   "cell_type": "markdown",
   "id": "6b79fcea",
   "metadata": {},
   "source": [
    "# PR8, Aichi68C, HIV Env BG505, HIV Env BF520"
   ]
  },
  {
   "cell_type": "code",
   "execution_count": 3,
   "id": "86859b80",
   "metadata": {
    "scrolled": false
   },
   "outputs": [],
   "source": [
    "def preference_merge(REP, Target_name, count_file):\n",
    "    pref_list = ['./data/prefs/'+Target_name+'-1_prefs.csv',\n",
    "                 './data/prefs/'+Target_name+'-2_prefs.csv',\n",
    "                 './data/prefs/'+Target_name+'-3_prefs.csv']\n",
    "\n",
    "    df_count = pd.read_csv(count_file)\n",
    "    site_list = df_count['site'].tolist()\n",
    "    site_list_merged = []\n",
    "    for site in site_list:\n",
    "        site_list_merged += [site]*20\n",
    "\n",
    "    aa_list_merged = []\n",
    "    for i in range(len(site_list)):\n",
    "        aa_list_merged += AA\n",
    "\n",
    "    rep=[i+1 for i in range(REP)]\n",
    "    rep_list=[]\n",
    "    for replicate in rep:\n",
    "        rep_list.append('rep_'+str(replicate))\n",
    "    df_pref_merged = pd.DataFrame(columns=['site', 'amino_acid'] + rep_list + ['average'])\n",
    "    df_pref_merged['site'] = site_list_merged\n",
    "    df_pref_merged['amino_acid'] = aa_list_merged\n",
    "\n",
    "    for i in rep:\n",
    "        df_pref = pd.read_csv(pref_list[i-1])\n",
    "        df_pref_aa = df_pref[AA]\n",
    "        df_pref_merged['rep_'+str(i)] = df_pref_aa.values.flatten()\n",
    "    df_pref_merged['average'] = df_pref_merged[rep_list].mean(axis = 1)\n",
    "    df_pref_merged.to_csv('./outputs/merged_preference/' + Target_name + '.csv.gz', index = False, compression = 'gzip')\n",
    "\n",
    "REP=3\n",
    "Target_name = 'PR8'\n",
    "count_file = './data/raw_data/PR8_DNA_codoncounts.csv'\n",
    "preference_merge(REP, Target_name, count_file)\n",
    "\n",
    "# REP=2\n",
    "# Target_name = 'Aichi68C'\n",
    "# count_file = './data/raw_data/Aichi68C_DNA_codoncounts.csv'\n",
    "# preference_merge(REP, Target_name, count_file)\n",
    "\n",
    "# REP=3\n",
    "# Target_name = 'HIV Env BG505'\n",
    "# count_file = './data/raw_data/BG505_DNA_codoncounts.csv'\n",
    "# preference_merge(REP, Target_name, count_file)\n",
    "\n",
    "# REP=3\n",
    "# Target_name = 'HIV Env BF520'\n",
    "# count_file = './data/raw_data/BF520_DNA_codoncounts.csv'\n",
    "# preference_merge(REP, Target_name, count_file)"
   ]
  },
  {
   "cell_type": "markdown",
   "id": "f221dcbe",
   "metadata": {},
   "source": [
    "# HIV Env BG505 FP16, FP20, VRC34"
   ]
  },
  {
   "cell_type": "code",
   "execution_count": 4,
   "id": "24c4c266",
   "metadata": {},
   "outputs": [],
   "source": [
    "def transform_FP_VRC(index_file, pref_file, rep_num):\n",
    "    df_index = pd.read_csv(index_file, delimiter = ',')\n",
    "    df = pd.read_csv(pref_file)\n",
    "    df = df.drop('wildtype', axis = 1)\n",
    "    df = df.dropna()\n",
    "    df['site'] = df['site'].astype('string')\n",
    "    df_index['original'] = df_index['original'].astype('string')\n",
    "    df_index['new'] = df_index['new'].astype('string')\n",
    "\n",
    "    df['site'] = df['site'].map(df_index.set_index('new')['original'])\n",
    "    df['site'] = df['site'].astype('int')\n",
    "    df = df.rename(columns={'mutation': 'amino_acid', 'mutdiffsel': rep_num})\n",
    "    return df\n",
    "\n",
    "# FP16\n",
    "index_file = './data/prefs/BG505_to_HXB2_numbering.txt'\n",
    "Target_name = 'HIV bnAbs FP16'\n",
    "\n",
    "pref_file = './data/prefs/FP16-02-500ug-rep-1.csv'\n",
    "rep_num = 'rep_1'\n",
    "df1 = transform_FP_VRC(index_file, pref_file, rep_num)\n",
    "\n",
    "pref_file = './data/prefs/FP16-02-500ug-rep-3.csv'\n",
    "rep_num = 'rep_2'\n",
    "df2 = transform_FP_VRC(index_file, pref_file, rep_num)\n",
    "\n",
    "df_merge = pd.merge(df1, df2, on = ['site', 'amino_acid'])\n",
    "df_merge['average'] = df_merge[['rep_1', 'rep_2']].mean(axis=1)\n",
    "df_merge = df_merge.sort_values('site')\n",
    "df_merge.to_csv('./outputs/merged_preference/' + Target_name + '.csv.gz', index = False, compression = 'gzip')\n",
    "\n",
    "#FP20\n",
    "index_file = './data/prefs/BG505_to_HXB2_numbering.txt'\n",
    "Target_name = 'HIV bnAbs FP20'\n",
    "\n",
    "pref_file = './data/prefs/FP20-01-500ug-rep-1.csv'\n",
    "rep_num = 'rep_1'\n",
    "df1 = transform_FP_VRC(index_file, pref_file, rep_num)\n",
    "\n",
    "pref_file = './data/prefs/FP20-01-500ug-rep-3.csv'\n",
    "rep_num = 'rep_2'\n",
    "df2 = transform_FP_VRC(index_file, pref_file, rep_num)\n",
    "\n",
    "df_merge = pd.merge(df1, df2, on = ['site', 'amino_acid'])\n",
    "df_merge['average'] = df_merge[['rep_1', 'rep_2']].mean(axis=1)\n",
    "df_merge = df_merge.sort_values('site')\n",
    "df_merge.to_csv('./outputs/merged_preference/' + Target_name + '.csv.gz', index = False, compression = 'gzip')\n",
    "\n",
    "#VRC34\n",
    "index_file = './data/prefs/BG505_to_HXB2_numbering.txt'\n",
    "Target_name = 'HIV bnAbs VRC34'\n",
    "\n",
    "pref_file = './data/prefs/VRC34-33ug-rep-1.csv'\n",
    "rep_num = 'rep_1'\n",
    "df1 = transform_FP_VRC(index_file, pref_file, rep_num)\n",
    "\n",
    "pref_file = './data/prefs/VRC34-33ug-rep-3.csv'\n",
    "rep_num = 'rep_2'\n",
    "df2 = transform_FP_VRC(index_file, pref_file, rep_num)\n",
    "\n",
    "df_merge = pd.merge(df1, df2, on = ['site', 'amino_acid'])\n",
    "df_merge['average'] = df_merge[['rep_1', 'rep_2']].mean(axis=1)\n",
    "df_merge = df_merge.sort_values('site')\n",
    "df_merge.to_csv('./outputs/merged_preference/' + Target_name + '.csv.gz', index = False, compression = 'gzip')\n"
   ]
  },
  {
   "cell_type": "markdown",
   "id": "a0e81026",
   "metadata": {},
   "source": [
    "# HIV Env BF520 human host, rhesus host"
   ]
  },
  {
   "cell_type": "code",
   "execution_count": 5,
   "id": "33bed0db",
   "metadata": {},
   "outputs": [],
   "source": [
    "def transform_host(index_file, pref_file, rep_num):\n",
    "    df_index = pd.read_csv(index_file, delimiter = ',')\n",
    "    df = pd.read_csv(pref_file)\n",
    "    df = df.dropna()\n",
    "    df['site'] = df['site'].astype('string')\n",
    "    df_index['original'] = df_index['original'].astype('string')\n",
    "    df_index['new'] = df_index['new'].astype('string')\n",
    "\n",
    "    df['site'] = df['site'].map(df_index.set_index('new')['original'])\n",
    "    df['site'] = df['site'].astype('int')\n",
    "    \n",
    "    site_list = []\n",
    "    AA_list = []\n",
    "    df_pref_only = df[AA]\n",
    "    for i in df['site'].tolist():\n",
    "        site_list += [i]*20\n",
    "        AA_list += AA\n",
    "    df_pref = pd.DataFrame(columns=['site', 'amino_acid', rep_num]) \n",
    "    df_pref['site'] = site_list\n",
    "    df_pref['amino_acid'] = AA_list\n",
    "    df_pref[rep_num] = df_pref_only.values.flatten()\n",
    "    return df_pref\n",
    "\n",
    "# BF520 human host\n",
    "index_file = './data/prefs/BF520c2_to_HXB2.csv'\n",
    "Target_name = 'HIV BF520 human host'\n",
    "\n",
    "pref_file = './data/prefs/HIV BF520 human host-1_prefs.csv'\n",
    "rep_num = 'rep_1'\n",
    "df1 = transform_host(index_file, pref_file, rep_num)\n",
    "\n",
    "pref_file = './data/prefs/HIV BF520 human host-2_prefs.csv'\n",
    "rep_num = 'rep_2'\n",
    "df2 = transform_host(index_file, pref_file, rep_num)\n",
    "\n",
    "df_merge = pd.merge(df1, df2, on = ['site', 'amino_acid'])\n",
    "df_merge['average'] = df_merge[['rep_1', 'rep_2']].mean(axis=1)\n",
    "df_merge = df_merge.sort_values('site')\n",
    "df_merge.to_csv('./outputs/merged_preference/' + Target_name + '.csv.gz', index = False, compression = 'gzip')\n",
    "\n",
    "# BF520 rhesus host\n",
    "index_file = './data/prefs/BF520c2_to_HXB2.csv'\n",
    "Target_name = 'HIV BF520 rhesus host'\n",
    "\n",
    "pref_file = './data/prefs/HIV BF520 rhesus host-1_prefs.csv'\n",
    "rep_num = 'rep_1'\n",
    "df1 = transform_host(index_file, pref_file, rep_num)\n",
    "\n",
    "pref_file = './data/prefs/HIV BF520 rhesus host-2_prefs.csv'\n",
    "rep_num = 'rep_2'\n",
    "df2 = transform_host(index_file, pref_file, rep_num)\n",
    "\n",
    "df_merge = pd.merge(df1, df2, on = ['site', 'amino_acid'])\n",
    "df_merge['average'] = df_merge[['rep_1', 'rep_2']].mean(axis=1)\n",
    "df_merge = df_merge.sort_values('site')\n",
    "df_merge.to_csv('./outputs/merged_preference/' + Target_name + '.csv.gz', index = False, compression = 'gzip')\n"
   ]
  },
  {
   "cell_type": "code",
   "execution_count": null,
   "id": "5f313717",
   "metadata": {},
   "outputs": [],
   "source": []
  },
  {
   "cell_type": "code",
   "execution_count": null,
   "id": "ccb525eb",
   "metadata": {},
   "outputs": [],
   "source": []
  },
  {
   "cell_type": "code",
   "execution_count": null,
   "id": "fc1367b1",
   "metadata": {},
   "outputs": [],
   "source": []
  },
  {
   "cell_type": "code",
   "execution_count": null,
   "id": "371bcd09",
   "metadata": {},
   "outputs": [],
   "source": []
  },
  {
   "cell_type": "code",
   "execution_count": null,
   "id": "ea183881",
   "metadata": {
    "scrolled": true
   },
   "outputs": [],
   "source": [
    "REP=3\n",
    "Target_name = 'Matrix_M1'\n",
    "count_file = './data/raw_data/HomM1_DNA_codoncounts.csv'\n",
    "preference_merge(REP, Target_name, count_file)"
   ]
  },
  {
   "cell_type": "code",
   "execution_count": null,
   "id": "a5e8d3c9",
   "metadata": {
    "scrolled": true
   },
   "outputs": [],
   "source": [
    "REP=3\n",
    "Target_name = 'A549'\n",
    "count_file = './data/raw_data/A549_DNA_codoncounts.csv'\n",
    "preference_merge(REP, Target_name, count_file)"
   ]
  },
  {
   "cell_type": "code",
   "execution_count": null,
   "id": "8ce73b74",
   "metadata": {
    "scrolled": true
   },
   "outputs": [],
   "source": [
    "REP=3\n",
    "Target_name = 'CCL141'\n",
    "count_file = './data/raw_data/CCL141_DNA_codoncounts.csv'\n",
    "preference_merge(REP, Target_name, count_file)"
   ]
  },
  {
   "cell_type": "code",
   "execution_count": null,
   "id": "1fe26b55",
   "metadata": {
    "scrolled": true
   },
   "outputs": [],
   "source": [
    "REP=2\n",
    "Target_name = 'MS'\n",
    "count_file = './data/raw_data/MS_DNA_codoncounts.csv'\n",
    "preference_merge(REP, Target_name, count_file)"
   ]
  },
  {
   "cell_type": "code",
   "execution_count": null,
   "id": "a40d3000",
   "metadata": {
    "scrolled": true
   },
   "outputs": [],
   "source": [
    "REP=2\n",
    "Target_name = 'MxA'\n",
    "count_file = './data/raw_data/MxA_DNA_codoncounts.csv'\n",
    "preference_merge(REP, Target_name, count_file)"
   ]
  },
  {
   "cell_type": "code",
   "execution_count": null,
   "id": "276b35a6",
   "metadata": {
    "scrolled": true
   },
   "outputs": [],
   "source": [
    "REP=2\n",
    "Target_name = 'MxAneg'\n",
    "count_file = './data/raw_data/MxAneg_DNA_codoncounts.csv'\n",
    "preference_merge(REP, Target_name, count_file)"
   ]
  },
  {
   "cell_type": "code",
   "execution_count": null,
   "id": "4b6c4d30",
   "metadata": {
    "scrolled": true
   },
   "outputs": [],
   "source": [
    "REP=2\n",
    "Target_name = 'HIV BF520 human host'\n",
    "count_file = './data/raw_data/human_DNA_codoncounts.csv'\n",
    "preference_merge(REP, Target_name, count_file)\n",
    "\n",
    "REP=2\n",
    "Target_name = 'HIV BF520 rhesus host'\n",
    "count_file = './data/raw_data/rhesus_DNA_codoncounts.csv'\n",
    "preference_merge(REP, Target_name, count_file)"
   ]
  },
  {
   "cell_type": "code",
   "execution_count": null,
   "id": "f12e51a0",
   "metadata": {},
   "outputs": [],
   "source": [
    "pd.read_csv('./outputs/selection_coefficients/HIV BF520 rhesus host.csv.gz')"
   ]
  },
  {
   "cell_type": "code",
   "execution_count": null,
   "id": "6e04d2b9",
   "metadata": {},
   "outputs": [],
   "source": [
    "count_file = './data/raw_data/human_DNA_codoncounts.csv'\n",
    "pd.read_csv(count_file)"
   ]
  },
  {
   "cell_type": "code",
   "execution_count": null,
   "id": "091f163f",
   "metadata": {
    "scrolled": true
   },
   "outputs": [],
   "source": []
  },
  {
   "cell_type": "code",
   "execution_count": null,
   "id": "80102a87",
   "metadata": {},
   "outputs": [],
   "source": []
  }
 ],
 "metadata": {
  "kernelspec": {
   "display_name": "Python 3",
   "language": "python",
   "name": "python3"
  },
  "language_info": {
   "codemirror_mode": {
    "name": "ipython",
    "version": 3
   },
   "file_extension": ".py",
   "mimetype": "text/x-python",
   "name": "python",
   "nbconvert_exporter": "python",
   "pygments_lexer": "ipython3",
   "version": "3.7.6"
  }
 },
 "nbformat": 4,
 "nbformat_minor": 5
}

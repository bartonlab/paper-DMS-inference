{
 "cells": [
  {
   "cell_type": "code",
   "execution_count": 17,
   "id": "bab6ed4d",
   "metadata": {},
   "outputs": [],
   "source": [
    "import numpy as np\n",
    "import pandas as pd\n",
    "import scipy.stats as st\n",
    "AA = ['A', 'C', 'D', 'E', 'F', 'G', 'H', 'I', 'K', 'L', 'M', 'N', 'P', 'Q', 'R', 'S', 'T', 'V', 'W', 'Y']"
   ]
  },
  {
   "cell_type": "code",
   "execution_count": 114,
   "id": "2877f4ca",
   "metadata": {
    "scrolled": true
   },
   "outputs": [
    {
     "name": "stdout",
     "output_type": "stream",
     "text": [
      "rank of WT AA (larger is better)\n",
      "method\tmean\tstd\n",
      "pref\t18.3\t3.2\n",
      "s\t18.9\t3.7\n",
      "\n",
      "rank of WT AA, normalized by site entropy (larger is better)\n",
      "method\tmean\tstd\n",
      "pref\t6.3\t1.5\n",
      "s\t6.5\t1.7\n",
      "\n",
      "worst rank of WT AA (larger is better)\n",
      "method\tstd\tnorm\n",
      "pref\t1.0\t0.3\n",
      "s\t1.0\t0.3\n",
      "\n",
      "z score of WT AA (larger is better)\n",
      "method\tmean\tstd\n",
      "pref\t2.6\t1.5\n",
      "s\t3.5\t1.5\n",
      "\n"
     ]
    }
   ],
   "source": [
    "df_freq = pd.read_csv('./data/raw_data/H1_HumanSwine_alignment_frequencies.txt', sep=\"\\t\")\n",
    "df_freq = df_freq.drop(['WT_AA'], axis=1)\n",
    "df_freq.columns = df_freq.columns.tolist()[:2]+[i[-1] for i in df_freq.columns[2:]]\n",
    "df_sele = pd.read_csv('./output/selection_coefficients/WSN.csv.gz')\n",
    "df_sele = df_sele[df_sele['amino_acid']!='*']\n",
    "df_pref = pd.read_csv('./output/merged_preference/WSN.csv.gz')\n",
    "df_sele['site'] = df_sele['site'].astype('int')\n",
    "df_pref['site'] = df_pref['site'].astype('int')\n",
    "sites = set(np.array(df_pref['site']))\n",
    "\n",
    "df_pref1 = pd.read_csv('./data/prefs/WSN-1_prefs.txt', sep=\"\\t\")\n",
    "df_pref1 = df_pref1.drop(['WT_AA', 'PI_*'], axis = 1)\n",
    "df_pref2 = pd.read_csv('./data/prefs/WSN-2_prefs.txt', sep=\"\\t\")\n",
    "df_pref2 = df_pref2.drop(['WT_AA', 'PI_*'], axis = 1)\n",
    "df_pref3 = pd.read_csv('./data/prefs/WSN-3_prefs.txt', sep=\"\\t\")\n",
    "df_pref3 = df_pref3.drop(['WT_AA', 'PI_*'], axis = 1)\n",
    "df_entropy  = pd.concat([df_pref1, df_pref2, df_pref3]).groupby(level=0).mean()[['#SITE', \"SITE_ENTROPY\"]]\n",
    "\n",
    "ranks_pref = []\n",
    "z_pref     = []\n",
    "ranks_sele = []\n",
    "z_sele     = []\n",
    "entropy    = []\n",
    "\n",
    "for s in sites:\n",
    "\n",
    "    df_f_site = df_freq[df_freq['#SITE']==s]\n",
    "    f_site = [df_f_site[aa] for aa in AA]\n",
    "    top = np.argmax(f_site)\n",
    "\n",
    "    df_p_site = df_pref[df_pref['site']==s]\n",
    "    df_p_site = df_p_site.sort_values('amino_acid')\n",
    "    pref_site = df_p_site['average']\n",
    "    site_ranks = st.rankdata(pref_site) \n",
    "    ranks_pref.append(site_ranks[top])\n",
    "\n",
    "    m_site   = np.mean(pref_site)\n",
    "    std_site = np.std(pref_site)\n",
    "#     print(pref_site)\n",
    "    z_pref.append((pref_site.tolist()[top]-m_site)/std_site)\n",
    "\n",
    "    df_s_site  = df_sele[df_sele['site']==s]\n",
    "    df_s_site = df_s_site.sort_values('amino_acid')\n",
    "    sele_site  = df_s_site['joint']\n",
    "    site_ranks = st.rankdata(sele_site)\n",
    "    ranks_sele.append(site_ranks[top])\n",
    "\n",
    "    m_site   = np.mean(sele_site)\n",
    "    std_site = np.std(sele_site)\n",
    "    z_sele.append((sele_site.tolist()[top]-m_site)/std_site)\n",
    "    \n",
    "    entropy.append(df_entropy[df_entropy['#SITE']==s]['SITE_ENTROPY'])\n",
    "\n",
    "print('rank of WT AA (larger is better)')\n",
    "print('method\\tmean\\tstd')\n",
    "print('pref\\t%.1f\\t%.1f' % (np.mean(ranks_pref), np.std(ranks_pref)))\n",
    "print('s\\t%.1f\\t%.1f\\n'  % (np.mean(ranks_sele), np.std(ranks_sele)))\n",
    "\n",
    "ranks_p_norm = np.array(ranks_pref)/np.array(entropy)\n",
    "ranks_s_norm = np.array(ranks_sele)/np.array(entropy)\n",
    "print('rank of WT AA, normalized by site entropy (larger is better)')\n",
    "print('method\\tmean\\tstd')\n",
    "print('pref\\t%.1f\\t%.1f' % (np.mean(ranks_p_norm), np.std(ranks_p_norm)))\n",
    "print('s\\t%.1f\\t%.1f\\n'  % (np.mean(ranks_s_norm), np.std(ranks_s_norm)))\n",
    "\n",
    "print('worst rank of WT AA (larger is better)')\n",
    "print('method\\tstd\\tnorm')\n",
    "print('pref\\t%.1f\\t%.1f' % (np.min(ranks_pref), np.min(ranks_p_norm)))\n",
    "print('s\\t%.1f\\t%.1f\\n'  % (np.min(ranks_sele), np.min(ranks_s_norm)))\n",
    "\n",
    "print('z score of WT AA (larger is better)')\n",
    "print('method\\tmean\\tstd')\n",
    "print('pref\\t%.1f\\t%.1f' % (np.mean(z_pref), np.std(z_pref)))\n",
    "print('s\\t%.1f\\t%.1f\\n'  % (np.mean(z_sele), np.std(z_sele)))"
   ]
  },
  {
   "cell_type": "code",
   "execution_count": null,
   "id": "02fc078f",
   "metadata": {},
   "outputs": [],
   "source": []
  }
 ],
 "metadata": {
  "kernelspec": {
   "display_name": "Python 3",
   "language": "python",
   "name": "python3"
  },
  "language_info": {
   "codemirror_mode": {
    "name": "ipython",
    "version": 3
   },
   "file_extension": ".py",
   "mimetype": "text/x-python",
   "name": "python",
   "nbconvert_exporter": "python",
   "pygments_lexer": "ipython3",
   "version": "3.7.6"
  }
 },
 "nbformat": 4,
 "nbformat_minor": 5
}
